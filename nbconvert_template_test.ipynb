{
 "cells": [
  {
   "cell_type": "markdown",
   "metadata": {},
   "source": [
    "# Testing nbconvert template"
   ]
  },
  {
   "cell_type": "code",
   "execution_count": null,
   "metadata": {},
   "outputs": [],
   "source": [
    "import nbformat\n",
    "from nbconvert.preprocessors import ExecutePreprocessor\n",
    "from pathlib import Path\n",
    "from traitlets.config import Config\n",
    "import os\n",
    "from bs4 import BeautifulSoup\n",
    "from nbconvert import HTMLExporter"
   ]
  },
  {
   "cell_type": "code",
   "execution_count": null,
   "metadata": {},
   "outputs": [],
   "source": [
    "import re\n",
    "def fixLaTeXTag(text):\n",
    "    \"\"\"Function uses regular expressions to find latex in markdown sells and converts them to pressbook format\"\"\"\n",
    "    pattern = re.compile(r'(?<!\\\\)[\\$][\\$]?[^\\$]*(?<!\\\\)[\\$|\\$\\$][\\$]?')\n",
    "    match = re.search(pattern,text)\n",
    "    if(match):\n",
    "        while(match):\n",
    "            newtext = match.group(0)\n",
    "            if newtext[1] == '$':\n",
    "                newtext = '[latex]'+newtext[2:-2]+'[/latex]'\n",
    "            else:\n",
    "                newtext = '[latex]'+newtext[1:-1]+'[/latex]'\n",
    "            text = text[:match.start()]+newtext+text[match.end():]\n",
    "            match = re.search(pattern,text)\n",
    "        return text\n",
    "    else:\n",
    "        return text"
   ]
  },
  {
   "cell_type": "code",
   "execution_count": null,
   "metadata": {},
   "outputs": [],
   "source": [
    "def ipynb2html(text):\n",
    "    nb = nbformat.reads(text, as_version=4)\n",
    "    \n",
    "    ep = ExecutePreprocessor(timeout=600, kernel_name='python3', allow_errors=True)\n",
    "    ep.preprocess(nb)\n",
    "    \n",
    "    # 2. Instantiate the exporter. We use the `basic` template for now; we'll get into more details\n",
    "    # later about how to customize the exporter further.\n",
    "    html_exporter = HTMLExporter()\n",
    "    html_exporter.template_file = 'basic'\n",
    "\n",
    "    # 3. Process the notebook we loaded earlier\n",
    "    (body, resources) = html_exporter.from_notebook_node(nb)\n",
    "    return (body, resources)\n"
   ]
  },
  {
   "cell_type": "code",
   "execution_count": null,
   "metadata": {},
   "outputs": [],
   "source": [
    "def cleanhtml(body):\n",
    "    # Remove weird paragraph marks\n",
    "    body = body.replace(r'&#182;','')\n",
    "    \n",
    "    tree = BeautifulSoup(body)\n",
    "    for div in tree.find_all('div', class_='text_cell_render border-box-sizing rendered_html'):\n",
    "        contents = div.prettify()\n",
    "        if contents:\n",
    "            contents = fixLaTeXTag(contents)\n",
    "            div.contents = BeautifulSoup(contents)     \n",
    "    body = tree.prettify()\n",
    "    \n",
    "    tree = BeautifulSoup(body)\n",
    "    for code in tree.find_all('code'):\n",
    "        parent = code.parent\n",
    "        contents = parent.prettify()\n",
    "        if contents:\n",
    "            contents = contents.replace(r'<code>',r'[code]')\n",
    "            contents = contents.replace(r'</code>',r'[/code]')\n",
    "            parent.contents = BeautifulSoup(contents)  \n",
    "    body = tree.prettify()\n",
    "    \n",
    "    body = body.replace('\\n',' ')\n",
    "    return body"
   ]
  },
  {
   "cell_type": "code",
   "execution_count": null,
   "metadata": {},
   "outputs": [],
   "source": []
  },
  {
   "cell_type": "code",
   "execution_count": null,
   "metadata": {},
   "outputs": [],
   "source": [
    "from ebooklib import epub\n",
    "\n",
    "book = epub.EpubBook()\n",
    "\n",
    "ebookfilename = 'mth314.epub'\n",
    "# set metadata\n",
    "book.set_identifier('id123456')\n",
    "book.set_title('Linear Algebra with Computational Applications')\n",
    "book.set_language('en')\n",
    "\n",
    "book.add_author('Dirk Colbry')\n",
    "book.add_author('Ming Yan')"
   ]
  },
  {
   "cell_type": "code",
   "execution_count": null,
   "metadata": {},
   "outputs": [],
   "source": [
    "dir(book)\n"
   ]
  },
  {
   "cell_type": "code",
   "execution_count": null,
   "metadata": {
    "scrolled": false
   },
   "outputs": [],
   "source": [
    "#infolder = 'CMSE401_Examples'\n",
    "infolder = 'Examples'\n",
    "#infolder = \"MTH314_STUDENT\"\n",
    "outfolder = f'../{infolder}_html'\n",
    "\n",
    "os.chdir(infolder)\n",
    "p = Path('.')\n",
    "outpath = Path(outfolder)\n",
    "\n",
    "outpath.mkdir(exist_ok=True)\n",
    "files = p.glob('*.ipynb')\n",
    "\n",
    "files = sorted(files)\n",
    "toc = []\n",
    "for filename in files:\n",
    "    print(filename)\n",
    "    text = open(filename, 'r').read()\n",
    "\n",
    "    (body, resources) = ipynb2html(text)\n",
    "    body = cleanhtml(body)\n",
    "\n",
    "    outfile = filename.stem+'.xhtml'\n",
    "    print(outfile)\n",
    "    \n",
    "    # create chapter\n",
    "    c1 = epub.EpubHtml(title=filename.stem, file_name=outfile, lang='en')\n",
    "    c1.content=body\n",
    "    c1.properties.append('rendition:layout-pre-paginated rendition:orientation-landscape rendition:spread-none')\n",
    "\n",
    "    book.add_item(c1)\n",
    "    toc.append(c1)\n",
    "\n",
    "    outfile = outfolder+'/'+filename.stem+'.html'\n",
    "    print(outfile)\n",
    "    with open(outfile, \"w\") as file:\n",
    "        file.write(body)\n",
    "os.chdir('..')"
   ]
  },
  {
   "cell_type": "code",
   "execution_count": null,
   "metadata": {},
   "outputs": [],
   "source": []
  },
  {
   "cell_type": "code",
   "execution_count": null,
   "metadata": {},
   "outputs": [],
   "source": [
    "# define Table Of Contents\n",
    "book.toc = tuple(toc)\n",
    "    \n",
    "# add default NCX and Nav file\n",
    "book.add_item(epub.EpubNcx())\n",
    "book.add_item(epub.EpubNav())\n",
    "\n",
    "# book.set_cover(file_name = './Example/Jupiter_poll.jpg', content='test')\n",
    "# define CSS style\n",
    "style = 'BODY {color: white;}'\n",
    "nav_css = epub.EpubItem(uid=\"style_nav\", file_name=\"style/nav.css\", media_type=\"text/css\", content=style)\n",
    "\n",
    "# add CSS file\n",
    "book.add_item(nav_css)\n",
    "\n",
    "# basic spine\n",
    "book.spine = ['nav']\n",
    "\n",
    "# write to the file\n",
    "epub.write_epub(ebookfilename, book, {})"
   ]
  },
  {
   "cell_type": "code",
   "execution_count": null,
   "metadata": {},
   "outputs": [],
   "source": [
    "\n",
    "print(body)"
   ]
  },
  {
   "cell_type": "code",
   "execution_count": null,
   "metadata": {},
   "outputs": [],
   "source": [
    "!open mth314.epub"
   ]
  },
  {
   "cell_type": "markdown",
   "metadata": {},
   "source": [
    "[Go to openbooks sight at MSU](https://openbooks.lib.msu.edu)"
   ]
  },
  {
   "cell_type": "code",
   "execution_count": null,
   "metadata": {},
   "outputs": [],
   "source": [
    "# print(filename)\n",
    "# text = open(filename, 'r').read()\n",
    "\n",
    "# nb = nbformat.reads(text, as_version=4)\n",
    "\n",
    "# ep = ExecutePreprocessor(timeout=600, kernel_name='python3')\n",
    "# ep.preprocess(nb)\n",
    "\n",
    "# for cell in nb.cells:\n",
    "#     if cell['cell_type'] == 'markdown':\n",
    "#         cell['source'] = fixLaTeXTag(cell['source'])\n",
    "#     elif cell['cell_type'] == 'code':\n",
    "#         for out in cell['outputs']:\n",
    "#             if 'data' in out:\n",
    "#                 print(out['data']['text/plain'])\n",
    "#                 if 'YouTubeVideo' in out['data']['text/plain']:\n",
    "#                     out['data']['text/plain'] = 'IPython.core.display.HTML object>'"
   ]
  },
  {
   "cell_type": "code",
   "execution_count": null,
   "metadata": {},
   "outputs": [],
   "source": [
    "# # 2. Instantiate the exporter. We use the `basic` template for now; we'll get into more details\n",
    "# # later about how to customize the exporter further.\n",
    "# html_exporter = HTMLExporter()\n",
    "# html_exporter.template_file = 'basic'\n",
    "\n",
    "# # 3. Process the notebook we loaded earlier\n",
    "# (body, resources) = html_exporter.from_notebook_node(nb)\n",
    "\n",
    "# outfile = 'test.html'\n",
    "# print(outfile)\n",
    "# with open(outfile, \"w\") as file:\n",
    "#     file.write(body)"
   ]
  },
  {
   "cell_type": "code",
   "execution_count": null,
   "metadata": {},
   "outputs": [],
   "source": []
  },
  {
   "cell_type": "code",
   "execution_count": null,
   "metadata": {},
   "outputs": [],
   "source": []
  },
  {
   "cell_type": "code",
   "execution_count": null,
   "metadata": {},
   "outputs": [],
   "source": []
  },
  {
   "cell_type": "code",
   "execution_count": null,
   "metadata": {},
   "outputs": [],
   "source": []
  },
  {
   "cell_type": "code",
   "execution_count": null,
   "metadata": {},
   "outputs": [],
   "source": []
  },
  {
   "cell_type": "markdown",
   "metadata": {},
   "source": []
  }
 ],
 "metadata": {
  "kernelspec": {
   "display_name": "Python 3",
   "language": "python",
   "name": "python3"
  },
  "language_info": {
   "codemirror_mode": {
    "name": "ipython",
    "version": 3
   },
   "file_extension": ".py",
   "mimetype": "text/x-python",
   "name": "python",
   "nbconvert_exporter": "python",
   "pygments_lexer": "ipython3",
   "version": "3.7.6"
  }
 },
 "nbformat": 4,
 "nbformat_minor": 2
}
