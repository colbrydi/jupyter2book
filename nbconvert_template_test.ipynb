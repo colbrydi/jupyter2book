{
 "cells": [
  {
   "cell_type": "markdown",
   "metadata": {},
   "source": [
    "# Testing nbconvert template"
   ]
  },
  {
   "cell_type": "code",
   "execution_count": 1,
   "metadata": {},
   "outputs": [],
   "source": [
    "import re\n",
    "def fixLaTeXTag(text):\n",
    "    \"\"\"Function uses regular expressions to find latex in markdown sells and converts them to pressbook format\"\"\"\n",
    "    pattern = re.compile(r'(?<!\\\\)[\\$][\\$]?[^\\$]*(?<!\\\\)[\\$|\\$\\$][\\$]?')\n",
    "    match = re.search(pattern,text)\n",
    "    if(match):\n",
    "        while(match):\n",
    "            newtext = match.group(0)\n",
    "            if newtext[1] == '$':\n",
    "                newtext = '[latex]'+newtext[2:-2]+'[/latex]'\n",
    "            else:\n",
    "                newtext = '[latex]'+newtext[1:-1]+'[/latex]'\n",
    "            text = text[:match.start()]+newtext+text[match.end():]\n",
    "            match = re.search(pattern,text)\n",
    "        return text\n",
    "    else:\n",
    "        return text"
   ]
  },
  {
   "cell_type": "code",
   "execution_count": 2,
   "metadata": {},
   "outputs": [],
   "source": [
    "def cleanipynb(text):\n",
    "    nb = nbformat.reads(text, as_version=4)\n",
    "    \n",
    "    ep = ExecutePreprocessor(timeout=600, kernel_name='python3')\n",
    "    ep.preprocess(nb)\n",
    "    \n",
    "    for cell in nb.cells:\n",
    "        if cell['cell_type'] == 'markdown':\n",
    "            cell['source'] = fixLaTeXTag(cell['source'])\n",
    "    \n",
    " \n",
    "    # 2. Instantiate the exporter. We use the `basic` template for now; we'll get into more details\n",
    "    # later about how to customize the exporter further.\n",
    "    html_exporter = HTMLExporter()\n",
    "    html_exporter.template_file = 'basic'\n",
    "\n",
    "    # 3. Process the notebook we loaded earlier\n",
    "    (body, resources) = html_exporter.from_notebook_node(nb)\n",
    "    return (body, resources)\n"
   ]
  },
  {
   "cell_type": "code",
   "execution_count": 3,
   "metadata": {},
   "outputs": [
    {
     "name": "stdout",
     "output_type": "stream",
     "text": [
      "08--Robotics-pre-class-assignment.ipynb\n",
      "../Examples_out/08--Robotics-pre-class-assignment.html\n"
     ]
    }
   ],
   "source": [
    "import nbformat\n",
    "from nbconvert.preprocessors import ExecutePreprocessor\n",
    "from pathlib import Path\n",
    "from traitlets.config import Config\n",
    "import os\n",
    "\n",
    "# 1. Import the exporter\n",
    "from nbconvert import HTMLExporter\n",
    "\n",
    "infolder = 'CMSE401_Examples'\n",
    "infolder = 'Examples'\n",
    "outfolder = f'../{infolder}_out'\n",
    "\n",
    "os.chdir(infolder)\n",
    "p = Path('.')\n",
    "outpath = Path(outfolder)\n",
    "\n",
    "outpath.mkdir(exist_ok=True)\n",
    "files = p.glob('*.ipynb')\n",
    "for filename in files:\n",
    "    print(filename)\n",
    "    text = open(filename, 'r').read()\n",
    "\n",
    "    (body, resources) = cleanipynb(text)\n",
    "    \n",
    "    outfile = outfolder+'/'+filename.stem+'.html'\n",
    "    print(outfile)\n",
    "    with open(outfile, \"w\") as file:\n",
    "        file.write(body)\n",
    "os.chdir('..')"
   ]
  },
  {
   "cell_type": "code",
   "execution_count": null,
   "metadata": {},
   "outputs": [],
   "source": []
  },
  {
   "cell_type": "code",
   "execution_count": null,
   "metadata": {},
   "outputs": [],
   "source": [
    "filename = '08--Robotics-pre-class-assignment.ipynb'"
   ]
  },
  {
   "cell_type": "code",
   "execution_count": null,
   "metadata": {},
   "outputs": [],
   "source": [
    "# print(filename)\n",
    "# text = open(filename, 'r').read()\n",
    "\n",
    "# nb = nbformat.reads(text, as_version=4)\n",
    "\n",
    "# ep = ExecutePreprocessor(timeout=600, kernel_name='python3')\n",
    "# ep.preprocess(nb)\n",
    "\n",
    "# for cell in nb.cells:\n",
    "#     if cell['cell_type'] == 'markdown':\n",
    "#         cell['source'] = fixLaTeXTag(cell['source'])\n",
    "#     elif cell['cell_type'] == 'code':\n",
    "#         for out in cell['outputs']:\n",
    "#             if 'data' in out:\n",
    "#                 print(out['data']['text/plain'])\n",
    "#                 if 'YouTubeVideo' in out['data']['text/plain']:\n",
    "#                     out['data']['text/plain'] = 'IPython.core.display.HTML object>'"
   ]
  },
  {
   "cell_type": "code",
   "execution_count": null,
   "metadata": {},
   "outputs": [],
   "source": [
    "# # 2. Instantiate the exporter. We use the `basic` template for now; we'll get into more details\n",
    "# # later about how to customize the exporter further.\n",
    "# html_exporter = HTMLExporter()\n",
    "# html_exporter.template_file = 'basic'\n",
    "\n",
    "# # 3. Process the notebook we loaded earlier\n",
    "# (body, resources) = html_exporter.from_notebook_node(nb)\n",
    "\n",
    "# outfile = 'test.html'\n",
    "# print(outfile)\n",
    "# with open(outfile, \"w\") as file:\n",
    "#     file.write(body)"
   ]
  },
  {
   "cell_type": "code",
   "execution_count": null,
   "metadata": {},
   "outputs": [],
   "source": []
  }
 ],
 "metadata": {
  "kernelspec": {
   "display_name": "Python 3",
   "language": "python",
   "name": "python3"
  },
  "language_info": {
   "codemirror_mode": {
    "name": "ipython",
    "version": 3
   },
   "file_extension": ".py",
   "mimetype": "text/x-python",
   "name": "python",
   "nbconvert_exporter": "python",
   "pygments_lexer": "ipython3",
   "version": "3.7.6"
  }
 },
 "nbformat": 4,
 "nbformat_minor": 2
}
