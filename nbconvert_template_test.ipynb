{
 "cells": [
  {
   "cell_type": "markdown",
   "metadata": {},
   "source": [
    "# Convert Jupyter Folder to epub\n",
    "\n",
    "Pressbooks uses EPUB v2.0 files while my mac uses v3.0 files. Use the ```pressbook``` flag to switch between the file types.  For more detailed information see:\n",
    "\n",
    "https://en.wikipedia.org/wiki/EPUB#Open_Container_Format_2.0.1\n",
    "\n",
    "\n",
    "\n",
    "[MSU OER website](https://openbooks.lib.msu.edu/)"
   ]
  },
  {
   "cell_type": "code",
   "execution_count": 1,
   "metadata": {},
   "outputs": [],
   "source": [
    "from ebooklib import epub\n",
    "\n",
    "pressbook = True\n",
    "#infolder = 'CMSE401_Examples'\n",
    "infolder = 'Examples'\n",
    "#infolder = \"MTH314_STUDENT\"\n",
    "\n",
    "\n",
    "book = epub.EpubBook()\n",
    "\n",
    "ebookfilename = 'mth314.epub'\n",
    "# set metadata\n",
    "book.set_identifier('id123456\"')\n",
    "book.set_title('Linear Algebra with Computational Applications')\n",
    "book.set_language('en')\n",
    "\n",
    "book.add_author('Dirk Colbry')\n",
    "book.add_author('Ming Yan', uid='coauthor')\n",
    "\n",
    "if pressbook:\n",
    "    book.FOLDER_NAME = 'OEBPS'"
   ]
  },
  {
   "cell_type": "code",
   "execution_count": 2,
   "metadata": {},
   "outputs": [],
   "source": [
    "import nbformat\n",
    "from nbconvert.preprocessors import ExecutePreprocessor\n",
    "from pathlib import Path\n",
    "from traitlets.config import Config\n",
    "import os\n",
    "from bs4 import BeautifulSoup\n",
    "from nbconvert import HTMLExporter"
   ]
  },
  {
   "cell_type": "code",
   "execution_count": 3,
   "metadata": {},
   "outputs": [],
   "source": [
    "import re\n",
    "def fixLaTeXTag(text):\n",
    "    \"\"\"Function uses regular expressions to find latex in markdown sells and converts them to pressbook format\"\"\"\n",
    "    pattern = re.compile(r'(?<!\\\\)[\\$][\\$]?[^\\$]*(?<!\\\\)[\\$|\\$\\$][\\$]?')\n",
    "    match = re.search(pattern,text)\n",
    "    if(match):\n",
    "        while(match):\n",
    "            newtext = match.group(0)\n",
    "            if newtext[1] == '$':\n",
    "                newtext = '[latex]'+newtext[2:-2]+'[/latex]'\n",
    "            else:\n",
    "                newtext = '[latex]'+newtext[1:-1]+'[/latex]'\n",
    "            text = text[:match.start()]+newtext+text[match.end():]\n",
    "            match = re.search(pattern,text)\n",
    "        return text\n",
    "    else:\n",
    "        return text"
   ]
  },
  {
   "cell_type": "code",
   "execution_count": 4,
   "metadata": {},
   "outputs": [],
   "source": [
    "def ipynb2html(text):\n",
    "    nb = nbformat.reads(text, as_version=4) #ipynb version 4\n",
    "    \n",
    "    ep = ExecutePreprocessor(timeout=600, kernel_name='python3', allow_errors=True)\n",
    "    ep.preprocess(nb)\n",
    "    \n",
    "    # 2. Instantiate the exporter. We use the `basic` template for now; we'll get into more details\n",
    "    # later about how to customize the exporter further.\n",
    "    html_exporter = HTMLExporter()\n",
    "    html_exporter.template_file = 'basic'\n",
    "\n",
    "    # 3. Process the notebook we loaded earlier\n",
    "    (body, resources) = html_exporter.from_notebook_node(nb)\n",
    "    return (body, resources)\n"
   ]
  },
  {
   "cell_type": "code",
   "execution_count": 5,
   "metadata": {},
   "outputs": [],
   "source": [
    "def cleanhtml(body):\n",
    "    # Remove weird paragraph marks\n",
    "    body = body.replace(r'&#182;','')\n",
    "    \n",
    "    tree = BeautifulSoup(body)\n",
    "    for div in tree.find_all('div', class_='text_cell_render border-box-sizing rendered_html'):\n",
    "        contents = div.prettify()\n",
    "        if contents:\n",
    "            if pressbook:\n",
    "                contents = fixLaTeXTag(contents)\n",
    "            div.contents = BeautifulSoup(contents)     \n",
    "    body = tree.prettify()\n",
    "    \n",
    "    tree = BeautifulSoup(body)\n",
    "    \n",
    "    #Find all code tags and replace with pressbook format.\n",
    "    for code in tree.find_all('code'):\n",
    "        parent = code.parent\n",
    "        contents = parent.prettify()\n",
    "        if contents:\n",
    "            contents = contents.replace(r'<code>',r'[code]')\n",
    "            contents = contents.replace(r'</code>',r'[/code]')\n",
    "            parent.contents = BeautifulSoup(contents)  \n",
    "    for code in tree.find_all('a'):\n",
    "        parent = code.parent\n",
    "        contents = parent.prettify()\n",
    "        if contents:\n",
    "            if r'.ipynb' in contents:\n",
    "                contents = contents.replace(r'.ipynb',r'')\n",
    "                print(f'fixing links {contents}')\n",
    "                parent.contents = BeautifulSoup(contents)\n",
    "    body = tree.prettify()\n",
    "    \n",
    "    body = body.replace('\\n',' ')\n",
    "    return body"
   ]
  },
  {
   "cell_type": "code",
   "execution_count": 6,
   "metadata": {},
   "outputs": [
    {
     "name": "stdout",
     "output_type": "stream",
     "text": [
      "<class 'list'>\n",
      "0000--Jupyter-Getting-Started-Guild.ipynb\n",
      "fixing links <div class=\"output_html rendered_html output_subarea\">\n",
      " <a href=\"0000--Jupyter-Getting-Started-Guild\" target=\"_blank\">\n",
      "  0000--Jupyter-Getting-Started-Guild\n",
      " </a>\n",
      " <a href=\"03--Linear_Equations-pre-class-assignment\" target=\"_blank\">\n",
      "  03--Linear_Equations-pre-class-assignment\n",
      " </a>\n",
      "</div>\n",
      "\n",
      "0000--Jupyter-Getting-Started-Guild\n",
      "../Examples_html/0000--Jupyter-Getting-Started-Guild.xhtml\n",
      "03--Linear_Equations-pre-class-assignment.ipynb\n",
      "03--Linear_Equations-pre-class-assignment\n",
      "../Examples_html/03--Linear_Equations-pre-class-assignment.xhtml\n",
      "03-Linear_Equations-in-class-assignment.ipynb\n",
      "fixing links <p>\n",
      " <a href=\"03--Linear_Equations-pre-class-assignment\">\n",
      "  03--Linear_Equations-pre-class-assignment\n",
      " </a>\n",
      "</p>\n",
      "\n",
      "03-Linear_Equations-in-class-assignment\n",
      "../Examples_html/03-Linear_Equations-in-class-assignment.xhtml\n",
      "08--Robotics-pre-class-assignment.ipynb\n",
      "08--Robotics-pre-class-assignment\n",
      "../Examples_html/08--Robotics-pre-class-assignment.xhtml\n"
     ]
    }
   ],
   "source": [
    "outfolder = f'../{infolder}_html'\n",
    "\n",
    "os.chdir(infolder)\n",
    "p = Path('.')\n",
    "outpath = Path(outfolder)\n",
    "\n",
    "outpath.mkdir(exist_ok=True)\n",
    "files = p.glob('*.ipynb')\n",
    "\n",
    "files = sorted(files)\n",
    "toc = ['nav']\n",
    "spine = ['nav']\n",
    "\n",
    "print(type(toc))\n",
    "id_num = 0\n",
    "for filename in files:\n",
    "    print(filename)\n",
    "    text = open(filename, 'r').read()\n",
    "\n",
    "    (body, resources) = ipynb2html(text)\n",
    "    body = cleanhtml(body)\n",
    "\n",
    "    ## FOR EPUB on mac remove .. in file_name\n",
    "    if pressbook:\n",
    "        c1 = epub.EpubHtml(title=filename.stem, file_name=f\"../{filename.stem}\", lang='en', media_type=\"application/xhtml+xml\")\n",
    "    else:\n",
    "        c1 = epub.EpubHtml(title=filename.stem, file_name=f\"{filename.stem}.xhtml\", lang='en', media_type=\"application/xhtml+xml\")\n",
    "    print(filename.stem)\n",
    "    c1.content=body\n",
    "    #c1.properties.append('rendition:layout-pre-paginated rendition:orientation-landscape rendition:spread-none')\n",
    "\n",
    "    book.add_item(c1)\n",
    "    toc.append(c1)\n",
    "    if pressbook:\n",
    "        spine.append(c1.get_id())\n",
    "    else:\n",
    "        spine.append(c1)\n",
    "\n",
    "    outfile = outfolder+'/'+filename.stem+'.xhtml'\n",
    "    print(outfile)\n",
    "    with open(outfile, \"w\") as file:\n",
    "        file.write(body)\n",
    "os.chdir('..')"
   ]
  },
  {
   "cell_type": "code",
   "execution_count": 7,
   "metadata": {},
   "outputs": [],
   "source": [
    "# define Table Of Contents\n",
    "book.toc = tuple(toc)\n",
    "    \n",
    "# add default NCX and Nav file\n",
    "book.add_item(epub.EpubNcx())\n",
    "book.add_item(epub.EpubNav())\n",
    "\n",
    "#coverfile='./Examples/Jupiter_poll.jpg'\n",
    "#book.set_cover(coverfile, open(coverfile, 'r').read())\n",
    "#book.set_cover(file_name='./Examples/Jupiter_poll.jpg', content='test')\n",
    "\n",
    "# define CSS style\n",
    "style = 'BODY {color: white;}'\n",
    "nav_css = epub.EpubItem(uid=\"style_nav\", file_name=\"style/nav.css\", media_type=\"text/css\", content=style)\n",
    "\n",
    "# add CSS file\n",
    "book.add_item(nav_css)\n",
    "\n",
    "# basic spine\n",
    "#book.spine = spine\n",
    "book.spine=spine\n",
    "\n",
    "# write to the file\n",
    "epub.write_epub(ebookfilename, book, {})"
   ]
  },
  {
   "cell_type": "code",
   "execution_count": 8,
   "metadata": {},
   "outputs": [],
   "source": [
    "# ## Convert EPUB to OEBPS \n",
    "\n",
    "# from zipfile import ZipFile, ZIP_DEFLATED\n",
    "# source = ZipFile(f'{ebookfilename}', 'r')\n",
    "# target = ZipFile('target.epub', 'w', ZIP_DEFLATED)\n",
    "\n",
    "# for file in source.filelist:\n",
    "#     if 'nav.xhtml' in file.filename:\n",
    "#         navfile = source.read(file.filename)\n",
    "#         navfile.replace('.xhtml','/')\n",
    "#         target.writestr(file.filename, navfile)\n",
    "#     else:\n",
    "#         target.writestr(file.filename, source.read(file.filename))\n",
    "# target.close()\n",
    "# source.close()\n",
    "\n",
    "# !mv target.epub mth314.epub"
   ]
  },
  {
   "cell_type": "code",
   "execution_count": 9,
   "metadata": {},
   "outputs": [],
   "source": [
    "# ## Convert EPUB to OEBPS \n",
    "# ## Didn't seem to work, needed to manual META-INF/container.xml to use OEBPS\n",
    "# ## and rezip using \"zip -r target.epub *\" in a temp folder\n",
    "\n",
    "# from zipfile import ZipFile, ZIP_DEFLATED\n",
    "# source = ZipFile(f'{ebookfilename}', 'r')\n",
    "# target = ZipFile('target.epub', 'w', ZIP_DEFLATED)\n",
    "# for file in source.filelist:\n",
    "#     if file.filename.startswith('EPUB/'):\n",
    "#         newfilename = file.filename.replace('EPUB/','OEBPS/')\n",
    "#         target.writestr(newfilename, source.read(file.filename))\n",
    "#     else:\n",
    "#         target.writestr(file.filename, source.read(file.filename))\n",
    "# target.close()\n",
    "# source.close()"
   ]
  },
  {
   "cell_type": "code",
   "execution_count": 10,
   "metadata": {},
   "outputs": [],
   "source": [
    "#!mv target.epub mth314.epub"
   ]
  },
  {
   "cell_type": "code",
   "execution_count": 11,
   "metadata": {},
   "outputs": [],
   "source": [
    "!open mth314.epub"
   ]
  },
  {
   "cell_type": "code",
   "execution_count": null,
   "metadata": {},
   "outputs": [],
   "source": [
    "!ls"
   ]
  },
  {
   "cell_type": "markdown",
   "metadata": {},
   "source": [
    "[Go to openbooks sight at MSU](https://openbooks.lib.msu.edu)"
   ]
  },
  {
   "cell_type": "code",
   "execution_count": null,
   "metadata": {},
   "outputs": [],
   "source": [
    "# print(filename)\n",
    "# text = open(filename, 'r').read()\n",
    "\n",
    "# nb = nbformat.reads(text, as_version=4)\n",
    "\n",
    "# ep = ExecutePreprocessor(timeout=600, kernel_name='python3')\n",
    "# ep.preprocess(nb)\n",
    "\n",
    "# for cell in nb.cells:\n",
    "#     if cell['cell_type'] == 'markdown':\n",
    "#         cell['source'] = fixLaTeXTag(cell['source'])\n",
    "#     elif cell['cell_type'] == 'code':\n",
    "#         for out in cell['outputs']:\n",
    "#             if 'data' in out:\n",
    "#                 print(out['data']['text/plain'])\n",
    "#                 if 'YouTubeVideo' in out['data']['text/plain']:\n",
    "#                     out['data']['text/plain'] = 'IPython.core.display.HTML object>'"
   ]
  },
  {
   "cell_type": "code",
   "execution_count": null,
   "metadata": {},
   "outputs": [],
   "source": [
    "# # 2. Instantiate the exporter. We use the `basic` template for now; we'll get into more details\n",
    "# # later about how to customize the exporter further.\n",
    "# html_exporter = HTMLExporter()\n",
    "# html_exporter.template_file = 'basic'\n",
    "\n",
    "# # 3. Process the notebook we loaded earlier\n",
    "# (body, resources) = html_exporter.from_notebook_node(nb)\n",
    "\n",
    "# outfile = 'test.html'\n",
    "# print(outfile)\n",
    "# with open(outfile, \"w\") as file:\n",
    "#     file.write(body)"
   ]
  },
  {
   "cell_type": "code",
   "execution_count": null,
   "metadata": {},
   "outputs": [],
   "source": []
  },
  {
   "cell_type": "code",
   "execution_count": null,
   "metadata": {},
   "outputs": [],
   "source": []
  },
  {
   "cell_type": "code",
   "execution_count": null,
   "metadata": {},
   "outputs": [],
   "source": []
  },
  {
   "cell_type": "code",
   "execution_count": null,
   "metadata": {},
   "outputs": [],
   "source": []
  },
  {
   "cell_type": "markdown",
   "metadata": {},
   "source": [
    "https://openbooks.lib.msu.edu/testbook3/chapter/linear-algebra-with-computational-applications/08--Robotics-pre-class-assignment\n",
    "https://openbooks.lib.msu.edu/testbook3/chapter/08-robotics-pre-class-assignment/"
   ]
  },
  {
   "cell_type": "markdown",
   "metadata": {},
   "source": []
  }
 ],
 "metadata": {
  "kernelspec": {
   "display_name": "Python 3",
   "language": "python",
   "name": "python3"
  },
  "language_info": {
   "codemirror_mode": {
    "name": "ipython",
    "version": 3
   },
   "file_extension": ".py",
   "mimetype": "text/x-python",
   "name": "python",
   "nbconvert_exporter": "python",
   "pygments_lexer": "ipython3",
   "version": "3.7.6"
  }
 },
 "nbformat": 4,
 "nbformat_minor": 2
}
