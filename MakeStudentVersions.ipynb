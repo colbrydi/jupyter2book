{
 "cells": [
  {
   "cell_type": "markdown",
   "metadata": {},
   "source": [
    "Generate student versions from a folder"
   ]
  },
  {
   "cell_type": "code",
   "execution_count": 1,
   "metadata": {},
   "outputs": [
    {
     "name": "stdout",
     "output_type": "stream",
     "text": [
      "MTH314/0000--Jupyter-Getting-Started-Guild-INSTRUCTOR.ipynb\n"
     ]
    },
    {
     "data": {
      "application/javascript": [
       "IPython.notebook.save_notebook()"
      ]
     },
     "metadata": {},
     "output_type": "display_data"
    },
    {
     "name": "stdout",
     "output_type": "stream",
     "text": [
      "Date not found\n",
      "Removing existing student version\n",
      "Finding and replacing mailmerge tags\n",
      "    \"# Video review of Python, IPython, and IPython notebooks\\n\",\n",
      "\n",
      "    \"from IPython.display import YouTubeVideo\\n\",\n",
      "\n",
      "    \"YouTubeVideo(\\\"L03BzGmLUUE\\\",width='100%', cc_load_policy=True)\"\n",
      "\n",
      "    \"from IPython.display import YouTubeVideo\\n\",\n",
      "\n",
      "    \"YouTubeVideo(\\\"5WSQnGmz3IA\\\",width=640,height=360, cc_load_policy=True)\"\n",
      "\n",
      "    \"from IPython.display import YouTubeVideo\\n\",\n",
      "\n",
      "    \"YouTubeVideo(\\\"3BiLPXAGINA\\\",width=640,height=360, cc_load_policy=True)\"\n",
      "\n",
      "    \"from IPython.display import YouTubeVideo\\n\",\n",
      "\n",
      "    \"YouTubeVideo(\\\"l7mhi4ww6tY\\\",width=640,height=360, cc_load_policy=True)\"\n",
      "\n",
      "    \"&#169; Copyright 2020,  Michigan State University Board of Trustees\"\n",
      "\n",
      "Moving to working directory\n",
      "Striping output cells\n"
     ]
    },
    {
     "data": {
      "text/html": [
       "<a href=MTH314_STUDENTMTH314/0000--Jupyter-Getting-Started-Guild.ipynb target=\"blank\">MTH314/0000--Jupyter-Getting-Started-Guild.ipynb</a>"
      ],
      "text/plain": [
       "<IPython.core.display.HTML object>"
      ]
     },
     "metadata": {},
     "output_type": "display_data"
    },
    {
     "name": "stdout",
     "output_type": "stream",
     "text": [
      "MTH314/0000--Python_Linear_Algebra_Packages-pre-class-assignment-INSTRUCTOR.ipynb\n"
     ]
    },
    {
     "data": {
      "application/javascript": [
       "IPython.notebook.save_notebook()"
      ]
     },
     "metadata": {},
     "output_type": "display_data"
    },
    {
     "name": "stdout",
     "output_type": "stream",
     "text": [
      "Date not found\n",
      "Removing existing student version\n",
      "Finding and replacing mailmerge tags\n",
      "    \"from IPython.display import YouTubeVideo\\n\",\n",
      "\n",
      "    \"YouTubeVideo(\\\"PBlKeuzUf5g\\\",width=640,height=320, cc_load_policy=True)\"\n",
      "\n",
      "    \"from IPython.display import YouTubeVideo\\n\",\n",
      "\n",
      "    \"YouTubeVideo(\\\"_hbWtNgstlI\\\",width=640,height=320, cc_load_policy=True)\"\n",
      "\n",
      "    \"from IPython.display import YouTubeVideo\\n\",\n",
      "\n",
      "    \"YouTubeVideo(\\\"XSyiafkKerQ\\\",width=640,height=360, cc_load_policy=True)\"\n",
      "\n",
      "    \"from IPython.display import YouTubeVideo\\n\",\n",
      "\n",
      "    \"YouTubeVideo(\\\"qgSa7n_zQ3A\\\",width=640,height=320, cc_load_policy=True)\"\n",
      "\n",
      "    \"from IPython.display import YouTubeVideo\\n\",\n",
      "\n",
      "    \"YouTubeVideo(\\\"zSDfRY8-3QE\\\",width=640,height=320, cc_load_policy=True)\"\n",
      "\n",
      "    \"&#169; Copyright 2020,  Michigan State University Board of Trustees\"\n",
      "\n",
      "Moving to working directory\n",
      "Striping output cells\n"
     ]
    },
    {
     "data": {
      "text/html": [
       "<a href=MTH314_STUDENTMTH314/0000--Python_Linear_Algebra_Packages-pre-class-assignment.ipynb target=\"blank\">MTH314/0000--Python_Linear_Algebra_Packages-pre-class-assignment.ipynb</a>"
      ],
      "text/plain": [
       "<IPython.core.display.HTML object>"
      ]
     },
     "metadata": {},
     "output_type": "display_data"
    },
    {
     "name": "stdout",
     "output_type": "stream",
     "text": [
      "MTH314/01-CMSE314-introduction-in-class-assignment-INSTRUCTOR.ipynb\n"
     ]
    },
    {
     "data": {
      "application/javascript": [
       "IPython.notebook.save_notebook()"
      ]
     },
     "metadata": {},
     "output_type": "display_data"
    },
    {
     "name": "stdout",
     "output_type": "stream",
     "text": [
      "Date not found\n",
      "Removing existing student version\n",
      "Finding and replacing mailmerge tags\n",
      "    \" \"\n",
      "\n",
      "    \"from IPython.display import YouTubeVideo\\n\",\n",
      "\n",
      "    \"YouTubeVideo(\\\"-aiL8iWhQjc\\\",width=640,height=360, cc_load_policy=True)\"\n",
      "\n",
      "    \"4. [(25 minutes) Syllabus, Schedule and other Procedures](#Syllabus_and_Schedule)\\n\",\n",
      "\n",
      "    \"4. [(25 minutes) Syllabus, Schedule and other Procedures](#Syllabus_and_Schedule)\\n\",\n",
      "\n",
      "    \"> Go to the class <a href=\\\"https://d2l.msu.edu/\\\">D2L</a> page and download a copy of this notebook\\n\"\n",
      "\n",
      "    \"### &#9989; Step 5 - Create a CMSE314 Assignment Folder in your home directory\\n\",\n",
      "\n",
      "    \"<a name=\\\"Syllabus_and_Schedule\\\"></a>\\n\",\n",
      "\n",
      "    \"<a name=\\\"Syllabus_and_Schedule\\\"></a>\\n\",\n",
      "\n",
      "    \"# 4. Syllabus, Schedule and other Procedures\\n\",\n",
      "\n",
      "    \"# 4. Syllabus, Schedule and other Procedures\\n\",\n",
      "\n",
      "link found\n",
      "    \"\\n\",\n",
      "    \"- [Boyd and Vandenberghe](http://vmls-book.stanford.edu/vmls.pdf)\\n\",\n",
      "    \"- [Heffron](http://joshua.smcvt.edu/linearalgebra/book.pdf)\\n\",\n",
      "    \"- [Beezer](http://linear.ups.edu/download/fcla-3.50-tablet.pdf)\\n\",\n",
      "    \"\\n\\n\",\n",
      "\n",
      "    \"\\n\",\n",
      "    \"- [Boyd and Vandenberghe](http://vmls-book.stanford.edu/vmls.pdf)\\n\",\n",
      "    \"- [Heffron](http://joshua.smcvt.edu/linearalgebra/book.pdf)\\n\",\n",
      "    \"- [Beezer](http://linear.ups.edu/download/fcla-3.50-tablet.pdf)\\n\",\n",
      "    \"\\n\\n\",\n",
      "\n",
      "    \"\\n\",\n",
      "    \"- [Boyd and Vandenberghe](http://vmls-book.stanford.edu/vmls.pdf)\\n\",\n",
      "    \"- [Heffron](http://joshua.smcvt.edu/linearalgebra/book.pdf)\\n\",\n",
      "    \"- [Beezer](http://linear.ups.edu/download/fcla-3.50-tablet.pdf)\\n\",\n",
      "    \"\\n\\n\",\n",
      "\n",
      "    \"\\n\",\n",
      "    \"- [Boyd and Vandenberghe](http://vmls-book.stanford.edu/vmls.pdf)\\n\",\n",
      "    \"- [Heffron](http://joshua.smcvt.edu/linearalgebra/book.pdf)\\n\",\n",
      "    \"- [Beezer](http://linear.ups.edu/download/fcla-3.50-tablet.pdf)\\n\",\n",
      "    \"\\n\\n\",\n",
      "\n",
      "    \" \\n\"\n",
      "\n",
      "link found\n",
      "    \"\\n\",\n",
      "    \"- [Boyd and Vandenberghe](http://vmls-book.stanford.edu/vmls.pdf)\\n\",\n",
      "    \"- [Heffron](http://joshua.smcvt.edu/linearalgebra/book.pdf)\\n\",\n",
      "    \"- [Beezer](http://linear.ups.edu/download/fcla-3.50-tablet.pdf)\\n\",\n",
      "    \"\\n\"\n",
      "\n",
      "    \"\\n\",\n",
      "    \"- [Boyd and Vandenberghe](http://vmls-book.stanford.edu/vmls.pdf)\\n\",\n",
      "    \"- [Heffron](http://joshua.smcvt.edu/linearalgebra/book.pdf)\\n\",\n",
      "    \"- [Beezer](http://linear.ups.edu/download/fcla-3.50-tablet.pdf)\\n\",\n",
      "    \"\\n\"\n",
      "\n",
      "    \"\\n\",\n",
      "    \"- [Boyd and Vandenberghe](http://vmls-book.stanford.edu/vmls.pdf)\\n\",\n",
      "    \"- [Heffron](http://joshua.smcvt.edu/linearalgebra/book.pdf)\\n\",\n",
      "    \"- [Beezer](http://linear.ups.edu/download/fcla-3.50-tablet.pdf)\\n\",\n",
      "    \"\\n\"\n",
      "\n",
      "    \"\\n\",\n",
      "    \"- [Boyd and Vandenberghe](http://vmls-book.stanford.edu/vmls.pdf)\\n\",\n",
      "    \"- [Heffron](http://joshua.smcvt.edu/linearalgebra/book.pdf)\\n\",\n",
      "    \"- [Beezer](http://linear.ups.edu/download/fcla-3.50-tablet.pdf)\\n\",\n",
      "    \"\\n\"\n",
      "\n",
      "    \"&#169; Copyright 2020,  Michigan State University Board of Trustees\"\n",
      "\n",
      "Moving to working directory\n",
      "Striping output cells\n"
     ]
    },
    {
     "data": {
      "text/html": [
       "<a href=MTH314_STUDENTMTH314/01-CMSE314-introduction-in-class-assignment.ipynb target=\"blank\">MTH314/01-CMSE314-introduction-in-class-assignment.ipynb</a>"
      ],
      "text/plain": [
       "<IPython.core.display.HTML object>"
      ]
     },
     "metadata": {},
     "output_type": "display_data"
    },
    {
     "name": "stdout",
     "output_type": "stream",
     "text": [
      "MTH314/02--Vectors-pre-class-assignment-INSTRUCTOR.ipynb\n"
     ]
    },
    {
     "data": {
      "application/javascript": [
       "IPython.notebook.save_notebook()"
      ]
     },
     "metadata": {},
     "output_type": "display_data"
    },
    {
     "name": "stdout",
     "output_type": "stream",
     "text": [
      "Date not found\n",
      "Removing existing student version\n",
      "Finding and replacing mailmerge tags\n",
      "    \" \"\n",
      "\n",
      "    \"* [Introduction to Applied Linear Algebra](http://vmls-book.stanford.edu/) by Boyd and Vandenberghe\\n\",\n",
      "\n",
      "    \"* [Linear Algebra](http://joshua.smcvt.edu/linearalgebra/) by Jim Heffron\\n\",\n",
      "\n",
      "    \"* [A First Course in Linear Algebra](http://linear.ups.edu/) by Robert A. Beezer\\n\",\n",
      "\n",
      "    \"* The **_Beezer_** and **_Heffron_** texts start out with \\\"Systems of linear Equations\\\" and \\\"Linear Systems.\\\" These topics are basically the same idea with the focus of defining linear systems as just sets of \\\"linear combinations\\\".  Clearly this is a core concept and a good place to start.\\n\",\n",
      "\n",
      "    \"* The **_Beezer_** and **_Heffron_** texts start out with \\\"Systems of linear Equations\\\" and \\\"Linear Systems.\\\" These topics are basically the same idea with the focus of defining linear systems as just sets of \\\"linear combinations\\\".  Clearly this is a core concept and a good place to start.\\n\",\n",
      "\n",
      "    \"* The **_Boyd and Vandenberghe_** text choose to start with \\\"Vectors\\\".  In linear algebra the \\\"vector\\\" is a mathematical tool for which all of the mechanics of the math is built.  Again, not a bad place to start. \\n\",\n",
      "\n",
      "    \"&#9989; <font color=red>**DO THIS:**</font>  Review **_Sections 1.1, 1.2 and 1.3 in Boyd and Vandenberghe_** and become familiar with the contents and the basic terminology.  If you find this material is difficult make sure you take advantage of the survey at the end of this assignment to ask your instructor questions about things that are confusing.  \\n\",\n",
      "\n",
      "    \"from IPython.display import YouTubeVideo\\n\",\n",
      "\n",
      "    \"YouTubeVideo(\\\"ml4NSzCQobk\\\",width=640,height=360, cc_load_policy=True)\"\n",
      "\n",
      "    \"Vectors are used to represent all types of data that has structures.  Here are some simple examples from the [Boyd and Vandenberghe textbook](http://vmls-book.stanford.edu/):\\n\",\n",
      "\n",
      "    \" \"\n",
      "\n",
      "link found\n",
      "    \"\\n\",\n",
      "    \"- [Boyd and Vandenberghe](http://vmls-book.stanford.edu/vmls.pdf)\\n\",\n",
      "    \"- [Heffron](http://joshua.smcvt.edu/linearalgebra/book.pdf)\\n\",\n",
      "    \"- [Beezer](http://linear.ups.edu/download/fcla-3.50-tablet.pdf)\\n\",\n",
      "    \"\\n\"\n",
      "\n",
      "    \"\\n\",\n",
      "    \"- [Boyd and Vandenberghe](http://vmls-book.stanford.edu/vmls.pdf)\\n\",\n",
      "    \"- [Heffron](http://joshua.smcvt.edu/linearalgebra/book.pdf)\\n\",\n",
      "    \"- [Beezer](http://linear.ups.edu/download/fcla-3.50-tablet.pdf)\\n\",\n",
      "    \"\\n\"\n",
      "\n",
      "    \"\\n\",\n",
      "    \"- [Boyd and Vandenberghe](http://vmls-book.stanford.edu/vmls.pdf)\\n\",\n",
      "    \"- [Heffron](http://joshua.smcvt.edu/linearalgebra/book.pdf)\\n\",\n",
      "    \"- [Beezer](http://linear.ups.edu/download/fcla-3.50-tablet.pdf)\\n\",\n",
      "    \"\\n\"\n",
      "\n",
      "    \"\\n\",\n",
      "    \"- [Boyd and Vandenberghe](http://vmls-book.stanford.edu/vmls.pdf)\\n\",\n",
      "    \"- [Heffron](http://joshua.smcvt.edu/linearalgebra/book.pdf)\\n\",\n",
      "    \"- [Beezer](http://linear.ups.edu/download/fcla-3.50-tablet.pdf)\\n\",\n",
      "    \"\\n\"\n",
      "\n",
      "    \"&#169; Copyright 2020,  Michigan State University Board of Trustees\"\n",
      "\n",
      "Moving to working directory\n",
      "Striping output cells\n"
     ]
    },
    {
     "data": {
      "text/html": [
       "<a href=MTH314_STUDENTMTH314/02--Vectors-pre-class-assignment.ipynb target=\"blank\">MTH314/02--Vectors-pre-class-assignment.ipynb</a>"
      ],
      "text/plain": [
       "<IPython.core.display.HTML object>"
      ]
     },
     "metadata": {},
     "output_type": "display_data"
    },
    {
     "name": "stdout",
     "output_type": "stream",
     "text": [
      "MTH314/02-Vectors-in-class-assignment-INSTRUCTOR.ipynb\n"
     ]
    },
    {
     "data": {
      "application/javascript": [
       "IPython.notebook.save_notebook()"
      ]
     },
     "metadata": {},
     "output_type": "display_data"
    },
    {
     "name": "stdout",
     "output_type": "stream",
     "text": [
      "Date not found\n",
      "Removing existing student version\n",
      "Finding and replacing mailmerge tags\n",
      "    \" \"\n",
      "\n",
      "    \" \"\n",
      "\n",
      "link found\n",
      "    \"\\n\",\n",
      "    \"- [Boyd and Vandenberghe](http://vmls-book.stanford.edu/vmls.pdf)\\n\",\n",
      "    \"- [Heffron](http://joshua.smcvt.edu/linearalgebra/book.pdf)\\n\",\n",
      "    \"- [Beezer](http://linear.ups.edu/download/fcla-3.50-tablet.pdf)\\n\",\n",
      "    \"\\n\"\n",
      "\n",
      "    \"\\n\",\n",
      "    \"- [Boyd and Vandenberghe](http://vmls-book.stanford.edu/vmls.pdf)\\n\",\n",
      "    \"- [Heffron](http://joshua.smcvt.edu/linearalgebra/book.pdf)\\n\",\n",
      "    \"- [Beezer](http://linear.ups.edu/download/fcla-3.50-tablet.pdf)\\n\",\n",
      "    \"\\n\"\n",
      "\n",
      "    \"\\n\",\n",
      "    \"- [Boyd and Vandenberghe](http://vmls-book.stanford.edu/vmls.pdf)\\n\",\n",
      "    \"- [Heffron](http://joshua.smcvt.edu/linearalgebra/book.pdf)\\n\",\n",
      "    \"- [Beezer](http://linear.ups.edu/download/fcla-3.50-tablet.pdf)\\n\",\n",
      "    \"\\n\"\n",
      "\n",
      "    \"\\n\",\n",
      "    \"- [Boyd and Vandenberghe](http://vmls-book.stanford.edu/vmls.pdf)\\n\",\n",
      "    \"- [Heffron](http://joshua.smcvt.edu/linearalgebra/book.pdf)\\n\",\n",
      "    \"- [Beezer](http://linear.ups.edu/download/fcla-3.50-tablet.pdf)\\n\",\n",
      "    \"\\n\"\n",
      "\n",
      "    \"&#169; Copyright 2020,  Michigan State University Board of Trustees\"\n",
      "\n",
      "Moving to working directory\n",
      "Striping output cells\n"
     ]
    },
    {
     "data": {
      "text/html": [
       "<a href=MTH314_STUDENTMTH314/02-Vectors-in-class-assignment.ipynb target=\"blank\">MTH314/02-Vectors-in-class-assignment.ipynb</a>"
      ],
      "text/plain": [
       "<IPython.core.display.HTML object>"
      ]
     },
     "metadata": {},
     "output_type": "display_data"
    },
    {
     "name": "stdout",
     "output_type": "stream",
     "text": [
      "MTH314/03--Linear_Equations-pre-class-assignment-INSTRUCTOR.ipynb\n"
     ]
    },
    {
     "data": {
      "application/javascript": [
       "IPython.notebook.save_notebook()"
      ]
     },
     "metadata": {},
     "output_type": "display_data"
    },
    {
     "name": "stdout",
     "output_type": "stream",
     "text": [
      "Date not found\n",
      "Removing existing student version\n",
      "Finding and replacing mailmerge tags\n",
      "    \" \"\n",
      "\n",
      "       \"<IPython.lib.display.YouTubeVideo at 0x7f19b0716ef0>\"\n",
      "\n",
      "    \"from IPython.display import YouTubeVideo\\n\",\n",
      "\n",
      "    \"YouTubeVideo(\\\"CH68cc7sH4A\\\",width=640,height=360, cc_load_policy=True)\"\n",
      "\n",
      "       \"<IPython.lib.display.YouTubeVideo at 0x7f6be36a05c0>\"\n",
      "\n",
      "    \"from IPython.display import YouTubeVideo\\n\",\n",
      "\n",
      "    \"YouTubeVideo(\\\"BSxWO6FGib0\\\",width=640,height=360, cc_load_policy=True)\"\n",
      "\n",
      "      \"image/png\": \"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\\n\",\n",
      "\n",
      "       \"<IPython.lib.display.YouTubeVideo at 0x7f1988c88c18>\"\n",
      "\n",
      "    \"from IPython.display import YouTubeVideo\\n\",\n",
      "\n",
      "    \"YouTubeVideo(\\\"Z9gkovHDpIQ\\\",width=640,height=360, cc_load_policy=True)\"\n",
      "\n",
      "       \"<IPython.lib.display.YouTubeVideo at 0x7f1988316898>\"\n",
      "\n",
      "    \"from IPython.display import YouTubeVideo\\n\",\n",
      "\n",
      "    \"YouTubeVideo(\\\"A3fHytkJ010\\\",width=640,height=320, cc_load_policy=True)\"\n",
      "\n",
      "       \"<IPython.lib.display.YouTubeVideo at 0x7f1988316b00>\"\n",
      "\n",
      "    \"from IPython.display import YouTubeVideo\\n\",\n",
      "\n",
      "    \"YouTubeVideo(\\\"uC46qAjdE9w\\\",height=360,width=640, cc_load_policy=True)\"\n",
      "\n",
      "    \" \"\n",
      "\n",
      "link found\n",
      "    \"\\n\",\n",
      "    \"- [Boyd and Vandenberghe](http://vmls-book.stanford.edu/vmls.pdf)\\n\",\n",
      "    \"- [Heffron](http://joshua.smcvt.edu/linearalgebra/book.pdf)\\n\",\n",
      "    \"- [Beezer](http://linear.ups.edu/download/fcla-3.50-tablet.pdf)\\n\",\n",
      "    \"\\n\"\n",
      "\n",
      "    \"\\n\",\n",
      "    \"- [Boyd and Vandenberghe](http://vmls-book.stanford.edu/vmls.pdf)\\n\",\n",
      "    \"- [Heffron](http://joshua.smcvt.edu/linearalgebra/book.pdf)\\n\",\n",
      "    \"- [Beezer](http://linear.ups.edu/download/fcla-3.50-tablet.pdf)\\n\",\n",
      "    \"\\n\"\n",
      "\n",
      "    \"\\n\",\n",
      "    \"- [Boyd and Vandenberghe](http://vmls-book.stanford.edu/vmls.pdf)\\n\",\n",
      "    \"- [Heffron](http://joshua.smcvt.edu/linearalgebra/book.pdf)\\n\",\n",
      "    \"- [Beezer](http://linear.ups.edu/download/fcla-3.50-tablet.pdf)\\n\",\n",
      "    \"\\n\"\n",
      "\n",
      "    \"\\n\",\n",
      "    \"- [Boyd and Vandenberghe](http://vmls-book.stanford.edu/vmls.pdf)\\n\",\n",
      "    \"- [Heffron](http://joshua.smcvt.edu/linearalgebra/book.pdf)\\n\",\n",
      "    \"- [Beezer](http://linear.ups.edu/download/fcla-3.50-tablet.pdf)\\n\",\n",
      "    \"\\n\"\n",
      "\n",
      "    \"&#169; Copyright 2020,  Michigan State University Board of Trustees\"\n",
      "\n",
      "Moving to working directory\n",
      "Striping output cells\n"
     ]
    },
    {
     "data": {
      "text/html": [
       "<a href=MTH314_STUDENTMTH314/03--Linear_Equations-pre-class-assignment.ipynb target=\"blank\">MTH314/03--Linear_Equations-pre-class-assignment.ipynb</a>"
      ],
      "text/plain": [
       "<IPython.core.display.HTML object>"
      ]
     },
     "metadata": {},
     "output_type": "display_data"
    },
    {
     "name": "stdout",
     "output_type": "stream",
     "text": [
      "MTH314/03-Linear_Equations-in-class-assignment-INSTRUCTOR.ipynb\n"
     ]
    },
    {
     "data": {
      "application/javascript": [
       "IPython.notebook.save_notebook()"
      ]
     },
     "metadata": {},
     "output_type": "display_data"
    },
    {
     "name": "stdout",
     "output_type": "stream",
     "text": [
      "Date not found\n",
      "Removing existing student version\n",
      "Finding and replacing mailmerge tags\n",
      "    \" \"\n",
      "\n",
      "    \" \"\n",
      "\n",
      "link found\n",
      "    \"\\n\",\n",
      "    \"- [Boyd and Vandenberghe](http://vmls-book.stanford.edu/vmls.pdf)\\n\",\n",
      "    \"- [Heffron](http://joshua.smcvt.edu/linearalgebra/book.pdf)\\n\",\n",
      "    \"- [Beezer](http://linear.ups.edu/download/fcla-3.50-tablet.pdf)\\n\",\n",
      "    \"\\n\"\n",
      "\n",
      "    \"\\n\",\n",
      "    \"- [Boyd and Vandenberghe](http://vmls-book.stanford.edu/vmls.pdf)\\n\",\n",
      "    \"- [Heffron](http://joshua.smcvt.edu/linearalgebra/book.pdf)\\n\",\n",
      "    \"- [Beezer](http://linear.ups.edu/download/fcla-3.50-tablet.pdf)\\n\",\n",
      "    \"\\n\"\n",
      "\n",
      "    \"\\n\",\n",
      "    \"- [Boyd and Vandenberghe](http://vmls-book.stanford.edu/vmls.pdf)\\n\",\n",
      "    \"- [Heffron](http://joshua.smcvt.edu/linearalgebra/book.pdf)\\n\",\n",
      "    \"- [Beezer](http://linear.ups.edu/download/fcla-3.50-tablet.pdf)\\n\",\n",
      "    \"\\n\"\n",
      "\n",
      "    \"\\n\",\n",
      "    \"- [Boyd and Vandenberghe](http://vmls-book.stanford.edu/vmls.pdf)\\n\",\n",
      "    \"- [Heffron](http://joshua.smcvt.edu/linearalgebra/book.pdf)\\n\",\n",
      "    \"- [Beezer](http://linear.ups.edu/download/fcla-3.50-tablet.pdf)\\n\",\n",
      "    \"\\n\"\n",
      "\n",
      "    \"&#169; Copyright 2020,  Michigan State University Board of Trustees\"\n",
      "\n",
      "Moving to working directory\n",
      "Striping output cells\n"
     ]
    },
    {
     "data": {
      "text/html": [
       "<a href=MTH314_STUDENTMTH314/03-Linear_Equations-in-class-assignment.ipynb target=\"blank\">MTH314/03-Linear_Equations-in-class-assignment.ipynb</a>"
      ],
      "text/plain": [
       "<IPython.core.display.HTML object>"
      ]
     },
     "metadata": {},
     "output_type": "display_data"
    },
    {
     "name": "stdout",
     "output_type": "stream",
     "text": [
      "MTH314/04--Python_Packages-pre-class-assignment-INSTRUCTOR.ipynb\n"
     ]
    },
    {
     "data": {
      "application/javascript": [
       "IPython.notebook.save_notebook()"
      ]
     },
     "metadata": {},
     "output_type": "display_data"
    },
    {
     "name": "stdout",
     "output_type": "stream",
     "text": [
      "Date not found\n",
      "Removing existing student version\n",
      "Finding and replacing mailmerge tags\n",
      "    \" \"\n",
      "\n",
      "    \"&#9989; <font color=red>**DO THIS:**</font>  Review **_Sections 1.4 and 1.5 of the Boyd and Vandenberghe** text and answer the questions below.\"\n",
      "\n",
      "    \"from IPython.display import YouTubeVideo\\n\",\n",
      "\n",
      "    \"YouTubeVideo(\\\"PBlKeuzUf5g\\\",width=640,height=320, cc_load_policy=True)\"\n",
      "\n",
      "    \"from IPython.display import YouTubeVideo\\n\",\n",
      "\n",
      "    \"YouTubeVideo(\\\"_hbWtNgstlI\\\",width=640,height=320, cc_load_policy=True)\"\n",
      "\n",
      "    \"from IPython.display import YouTubeVideo\\n\",\n",
      "\n",
      "    \"YouTubeVideo(\\\"XSyiafkKerQ\\\",width=640,height=360, cc_load_policy=True)\"\n",
      "\n",
      "    \"from IPython.display import YouTubeVideo\\n\",\n",
      "\n",
      "    \"YouTubeVideo(\\\"qgSa7n_zQ3A\\\",width=640,height=320, cc_load_policy=True)\"\n",
      "\n",
      "    \" \"\n",
      "\n",
      "link found\n",
      "    \"\\n\",\n",
      "    \"- [Boyd and Vandenberghe](http://vmls-book.stanford.edu/vmls.pdf)\\n\",\n",
      "    \"- [Heffron](http://joshua.smcvt.edu/linearalgebra/book.pdf)\\n\",\n",
      "    \"- [Beezer](http://linear.ups.edu/download/fcla-3.50-tablet.pdf)\\n\",\n",
      "    \"\\n\"\n",
      "\n",
      "    \"\\n\",\n",
      "    \"- [Boyd and Vandenberghe](http://vmls-book.stanford.edu/vmls.pdf)\\n\",\n",
      "    \"- [Heffron](http://joshua.smcvt.edu/linearalgebra/book.pdf)\\n\",\n",
      "    \"- [Beezer](http://linear.ups.edu/download/fcla-3.50-tablet.pdf)\\n\",\n",
      "    \"\\n\"\n",
      "\n",
      "    \"\\n\",\n",
      "    \"- [Boyd and Vandenberghe](http://vmls-book.stanford.edu/vmls.pdf)\\n\",\n",
      "    \"- [Heffron](http://joshua.smcvt.edu/linearalgebra/book.pdf)\\n\",\n",
      "    \"- [Beezer](http://linear.ups.edu/download/fcla-3.50-tablet.pdf)\\n\",\n",
      "    \"\\n\"\n",
      "\n",
      "    \"\\n\",\n",
      "    \"- [Boyd and Vandenberghe](http://vmls-book.stanford.edu/vmls.pdf)\\n\",\n",
      "    \"- [Heffron](http://joshua.smcvt.edu/linearalgebra/book.pdf)\\n\",\n",
      "    \"- [Beezer](http://linear.ups.edu/download/fcla-3.50-tablet.pdf)\\n\",\n",
      "    \"\\n\"\n",
      "\n",
      "    \"&#169; Copyright 2020,  Michigan State University Board of Trustees\"\n",
      "\n",
      "Moving to working directory\n",
      "Striping output cells\n"
     ]
    },
    {
     "data": {
      "text/html": [
       "<a href=MTH314_STUDENTMTH314/04--Python_Packages-pre-class-assignment.ipynb target=\"blank\">MTH314/04--Python_Packages-pre-class-assignment.ipynb</a>"
      ],
      "text/plain": [
       "<IPython.core.display.HTML object>"
      ]
     },
     "metadata": {},
     "output_type": "display_data"
    },
    {
     "name": "stdout",
     "output_type": "stream",
     "text": [
      "MTH314/04--Quiz1-INSTRUCTOR.ipynb\n"
     ]
    },
    {
     "data": {
      "application/javascript": [
       "IPython.notebook.save_notebook()"
      ]
     },
     "metadata": {},
     "output_type": "display_data"
    },
    {
     "name": "stdout",
     "output_type": "stream",
     "text": [
      "Date not found\n",
      "Removing existing student version\n",
      "Finding and replacing mailmerge tags\n",
      "    \"Now, you just need to submit this assignment by uploading it to the course [Desire2Learn]( ) web page for today's dropbox.\\n\",\n",
      "\n",
      "    \"- Upload the newly renamed notebook to the D2L dropbox. (improper naming of your notebook may cause points to be taken away).\\n\"\n",
      "\n",
      "link found\n",
      "    \"\\n\",\n",
      "    \"- [Boyd and Vandenberghe](http://vmls-book.stanford.edu/vmls.pdf)\\n\",\n",
      "    \"- [Heffron](http://joshua.smcvt.edu/linearalgebra/book.pdf)\\n\",\n",
      "    \"- [Beezer](http://linear.ups.edu/download/fcla-3.50-tablet.pdf)\\n\",\n",
      "    \"\\n\"\n",
      "\n",
      "    \"\\n\",\n",
      "    \"- [Boyd and Vandenberghe](http://vmls-book.stanford.edu/vmls.pdf)\\n\",\n",
      "    \"- [Heffron](http://joshua.smcvt.edu/linearalgebra/book.pdf)\\n\",\n",
      "    \"- [Beezer](http://linear.ups.edu/download/fcla-3.50-tablet.pdf)\\n\",\n",
      "    \"\\n\"\n",
      "\n",
      "    \"\\n\",\n",
      "    \"- [Boyd and Vandenberghe](http://vmls-book.stanford.edu/vmls.pdf)\\n\",\n",
      "    \"- [Heffron](http://joshua.smcvt.edu/linearalgebra/book.pdf)\\n\",\n",
      "    \"- [Beezer](http://linear.ups.edu/download/fcla-3.50-tablet.pdf)\\n\",\n",
      "    \"\\n\"\n",
      "\n",
      "    \"\\n\",\n",
      "    \"- [Boyd and Vandenberghe](http://vmls-book.stanford.edu/vmls.pdf)\\n\",\n",
      "    \"- [Heffron](http://joshua.smcvt.edu/linearalgebra/book.pdf)\\n\",\n",
      "    \"- [Beezer](http://linear.ups.edu/download/fcla-3.50-tablet.pdf)\\n\",\n",
      "    \"\\n\"\n",
      "\n",
      "    \"&#169; Copyright 2020,  Michigan State University Board of Trustees\"\n",
      "\n",
      "WARNING! Some answer content may remain in the file. Please double check file contents before administering to students.\n",
      "Moving to working directory\n",
      "Striping output cells\n"
     ]
    },
    {
     "data": {
      "text/html": [
       "<a href=MTH314_STUDENTMTH314/04--Quiz1.ipynb target=\"blank\">MTH314/04--Quiz1.ipynb</a>"
      ],
      "text/plain": [
       "<IPython.core.display.HTML object>"
      ]
     },
     "metadata": {},
     "output_type": "display_data"
    },
    {
     "name": "stdout",
     "output_type": "stream",
     "text": [
      "MTH314/04-Linear_Algebra_and_Python-in-class-assignment-INSTRUCTOR.ipynb\n"
     ]
    },
    {
     "data": {
      "application/javascript": [
       "IPython.notebook.save_notebook()"
      ]
     },
     "metadata": {},
     "output_type": "display_data"
    },
    {
     "name": "stdout",
     "output_type": "stream",
     "text": [
      "Date not found\n",
      "Removing existing student version\n",
      "Finding and replacing mailmerge tags\n",
      "    \" \"\n",
      "\n",
      "    \" \"\n",
      "\n",
      "link found\n",
      "    \"\\n\",\n",
      "    \"- [Boyd and Vandenberghe](http://vmls-book.stanford.edu/vmls.pdf)\\n\",\n",
      "    \"- [Heffron](http://joshua.smcvt.edu/linearalgebra/book.pdf)\\n\",\n",
      "    \"- [Beezer](http://linear.ups.edu/download/fcla-3.50-tablet.pdf)\\n\",\n",
      "    \"\\n\"\n",
      "\n",
      "    \"\\n\",\n",
      "    \"- [Boyd and Vandenberghe](http://vmls-book.stanford.edu/vmls.pdf)\\n\",\n",
      "    \"- [Heffron](http://joshua.smcvt.edu/linearalgebra/book.pdf)\\n\",\n",
      "    \"- [Beezer](http://linear.ups.edu/download/fcla-3.50-tablet.pdf)\\n\",\n",
      "    \"\\n\"\n",
      "\n",
      "    \"\\n\",\n",
      "    \"- [Boyd and Vandenberghe](http://vmls-book.stanford.edu/vmls.pdf)\\n\",\n",
      "    \"- [Heffron](http://joshua.smcvt.edu/linearalgebra/book.pdf)\\n\",\n",
      "    \"- [Beezer](http://linear.ups.edu/download/fcla-3.50-tablet.pdf)\\n\",\n",
      "    \"\\n\"\n",
      "\n",
      "    \"\\n\",\n",
      "    \"- [Boyd and Vandenberghe](http://vmls-book.stanford.edu/vmls.pdf)\\n\",\n",
      "    \"- [Heffron](http://joshua.smcvt.edu/linearalgebra/book.pdf)\\n\",\n",
      "    \"- [Beezer](http://linear.ups.edu/download/fcla-3.50-tablet.pdf)\\n\",\n",
      "    \"\\n\"\n",
      "\n",
      "    \"&#169; Copyright 2020,  Michigan State University Board of Trustees\"\n",
      "\n",
      "Moving to working directory\n",
      "Striping output cells\n"
     ]
    },
    {
     "data": {
      "text/html": [
       "<a href=MTH314_STUDENTMTH314/04-Linear_Algebra_and_Python-in-class-assignment.ipynb target=\"blank\">MTH314/04-Linear_Algebra_and_Python-in-class-assignment.ipynb</a>"
      ],
      "text/plain": [
       "<IPython.core.display.HTML object>"
      ]
     },
     "metadata": {},
     "output_type": "display_data"
    },
    {
     "name": "stdout",
     "output_type": "stream",
     "text": [
      "MTH314/05--Gauss-Jordan-pre-class-assignment-INSTRUCTOR.ipynb\n"
     ]
    },
    {
     "data": {
      "application/javascript": [
       "IPython.notebook.save_notebook()"
      ]
     },
     "metadata": {},
     "output_type": "display_data"
    },
    {
     "name": "stdout",
     "output_type": "stream",
     "text": [
      "Date not found\n",
      "Removing existing student version\n",
      "Finding and replacing mailmerge tags\n",
      "    \" \"\n",
      "\n",
      "    \"If you have trouble with this assignment a detailed overview of the Gauss-Jordan Elimination method can be found in the Reduced Row Echelon Form section of the **_Beezer_** text (**_Section RREF pg 22-44_**)\\n\",\n",
      "\n",
      "    \"from IPython.display import YouTubeVideo\\n\",\n",
      "\n",
      "    \"YouTubeVideo(\\\"iGmtmF_hm2g\\\",width=640,height=360, cc_load_policy=True)\"\n",
      "\n",
      "    \"from IPython.display import YouTubeVideo\\n\",\n",
      "\n",
      "    \"YouTubeVideo(\\\"k5fdGS5b4OU\\\",width=640,height=360, cc_load_policy=True)\"\n",
      "\n",
      "    \"from IPython.display import YouTubeVideo\\n\",\n",
      "\n",
      "    \"YouTubeVideo(\\\"v6RstFsrTJY\\\",width=640,height=360, cc_load_policy=True)\"\n",
      "\n",
      "    \"from IPython.display import YouTubeVideo\\n\",\n",
      "\n",
      "    \"YouTubeVideo(\\\"xT16yIVw_KE\\\",width=640,height=360, cc_load_policy=True)\"\n",
      "\n",
      "    \" \"\n",
      "\n",
      "link found\n",
      "    \"\\n\",\n",
      "    \"- [Boyd and Vandenberghe](http://vmls-book.stanford.edu/vmls.pdf)\\n\",\n",
      "    \"- [Heffron](http://joshua.smcvt.edu/linearalgebra/book.pdf)\\n\",\n",
      "    \"- [Beezer](http://linear.ups.edu/download/fcla-3.50-tablet.pdf)\\n\",\n",
      "    \"\\n\\n\"\n",
      "\n",
      "    \"\\n\",\n",
      "    \"- [Boyd and Vandenberghe](http://vmls-book.stanford.edu/vmls.pdf)\\n\",\n",
      "    \"- [Heffron](http://joshua.smcvt.edu/linearalgebra/book.pdf)\\n\",\n",
      "    \"- [Beezer](http://linear.ups.edu/download/fcla-3.50-tablet.pdf)\\n\",\n",
      "    \"\\n\\n\"\n",
      "\n",
      "    \"\\n\",\n",
      "    \"- [Boyd and Vandenberghe](http://vmls-book.stanford.edu/vmls.pdf)\\n\",\n",
      "    \"- [Heffron](http://joshua.smcvt.edu/linearalgebra/book.pdf)\\n\",\n",
      "    \"- [Beezer](http://linear.ups.edu/download/fcla-3.50-tablet.pdf)\\n\",\n",
      "    \"\\n\\n\"\n",
      "\n",
      "    \"\\n\",\n",
      "    \"- [Boyd and Vandenberghe](http://vmls-book.stanford.edu/vmls.pdf)\\n\",\n",
      "    \"- [Heffron](http://joshua.smcvt.edu/linearalgebra/book.pdf)\\n\",\n",
      "    \"- [Beezer](http://linear.ups.edu/download/fcla-3.50-tablet.pdf)\\n\",\n",
      "    \"\\n\\n\"\n",
      "\n",
      "    \"&#169; Copyright 2020,  Michigan State University Board of Trustees\"\n",
      "\n",
      "Moving to working directory\n",
      "Striping output cells\n"
     ]
    },
    {
     "data": {
      "text/html": [
       "<a href=MTH314_STUDENTMTH314/05--Gauss-Jordan-pre-class-assignment.ipynb target=\"blank\">MTH314/05--Gauss-Jordan-pre-class-assignment.ipynb</a>"
      ],
      "text/plain": [
       "<IPython.core.display.HTML object>"
      ]
     },
     "metadata": {},
     "output_type": "display_data"
    },
    {
     "name": "stdout",
     "output_type": "stream",
     "text": [
      "MTH314/05-Gauss-Jordan-in-class-assignment-INSTRUCTOR.ipynb\n"
     ]
    },
    {
     "data": {
      "application/javascript": [
       "IPython.notebook.save_notebook()"
      ]
     },
     "metadata": {},
     "output_type": "display_data"
    },
    {
     "name": "stdout",
     "output_type": "stream",
     "text": [
      "Date not found\n",
      "Removing existing student version\n",
      "Finding and replacing mailmerge tags\n",
      "    \" \"\n",
      "\n",
      "    \" \"\n",
      "\n",
      "link found\n",
      "    \"\\n\",\n",
      "    \"- [Boyd and Vandenberghe](http://vmls-book.stanford.edu/vmls.pdf)\\n\",\n",
      "    \"- [Heffron](http://joshua.smcvt.edu/linearalgebra/book.pdf)\\n\",\n",
      "    \"- [Beezer](http://linear.ups.edu/download/fcla-3.50-tablet.pdf)\\n\",\n",
      "    \"\\n\"\n",
      "\n",
      "    \"\\n\",\n",
      "    \"- [Boyd and Vandenberghe](http://vmls-book.stanford.edu/vmls.pdf)\\n\",\n",
      "    \"- [Heffron](http://joshua.smcvt.edu/linearalgebra/book.pdf)\\n\",\n",
      "    \"- [Beezer](http://linear.ups.edu/download/fcla-3.50-tablet.pdf)\\n\",\n",
      "    \"\\n\"\n",
      "\n",
      "    \"\\n\",\n",
      "    \"- [Boyd and Vandenberghe](http://vmls-book.stanford.edu/vmls.pdf)\\n\",\n",
      "    \"- [Heffron](http://joshua.smcvt.edu/linearalgebra/book.pdf)\\n\",\n",
      "    \"- [Beezer](http://linear.ups.edu/download/fcla-3.50-tablet.pdf)\\n\",\n",
      "    \"\\n\"\n",
      "\n",
      "    \"\\n\",\n",
      "    \"- [Boyd and Vandenberghe](http://vmls-book.stanford.edu/vmls.pdf)\\n\",\n",
      "    \"- [Heffron](http://joshua.smcvt.edu/linearalgebra/book.pdf)\\n\",\n",
      "    \"- [Beezer](http://linear.ups.edu/download/fcla-3.50-tablet.pdf)\\n\",\n",
      "    \"\\n\"\n",
      "\n",
      "    \"&#169; Copyright 2020,  Michigan State University Board of Trustees\"\n",
      "\n",
      "Moving to working directory\n",
      "Striping output cells\n"
     ]
    },
    {
     "data": {
      "text/html": [
       "<a href=MTH314_STUDENTMTH314/05-Gauss-Jordan-in-class-assignment.ipynb target=\"blank\">MTH314/05-Gauss-Jordan-in-class-assignment.ipynb</a>"
      ],
      "text/plain": [
       "<IPython.core.display.HTML object>"
      ]
     },
     "metadata": {},
     "output_type": "display_data"
    },
    {
     "name": "stdout",
     "output_type": "stream",
     "text": [
      "MTH314/05HW1-Wine_as_Vectors-INSTRUCTOR.ipynb\n"
     ]
    },
    {
     "data": {
      "application/javascript": [
       "IPython.notebook.save_notebook()"
      ]
     },
     "metadata": {},
     "output_type": "display_data"
    },
    {
     "name": "stdout",
     "output_type": "stream",
     "text": [
      "Date not found\n",
      "Removing existing student version\n",
      "Finding and replacing mailmerge tags\n",
      "    \"In order to successfully complete this assignment, you must follow all the instructions in this notebook and upload your edited ipynb file to [D2L]( ) with your answers on or before **11:59pm on Friday September 25th**.\\n\",\n",
      "\n",
      "    \" \"\n",
      "\n",
      "    \"&#169; Copyright 2020,  Michigan State University Board of Trustees\"\n",
      "\n",
      "WARNING! Some answer content may remain in the file. Please double check file contents before administering to students.\n",
      "Moving to working directory\n",
      "Striping output cells\n"
     ]
    },
    {
     "data": {
      "text/html": [
       "<a href=MTH314_STUDENTMTH314/05HW1-Wine_as_Vectors.ipynb target=\"blank\">MTH314/05HW1-Wine_as_Vectors.ipynb</a>"
      ],
      "text/plain": [
       "<IPython.core.display.HTML object>"
      ]
     },
     "metadata": {},
     "output_type": "display_data"
    },
    {
     "name": "stdout",
     "output_type": "stream",
     "text": [
      "MTH314/06--Mechanics-pre-class-assignment-INSTRUCTOR.ipynb\n"
     ]
    },
    {
     "data": {
      "application/javascript": [
       "IPython.notebook.save_notebook()"
      ]
     },
     "metadata": {},
     "output_type": "display_data"
    },
    {
     "name": "stdout",
     "output_type": "stream",
     "text": [
      "Date not found\n",
      "Removing existing student version\n",
      "Finding and replacing mailmerge tags\n",
      "    \" \"\n",
      "\n",
      "       \"<IPython.lib.display.YouTubeVideo at 0x7f7abcdfc240>\"\n",
      "\n",
      "    \"from IPython.display import YouTubeVideo\\n\",\n",
      "\n",
      "    \"YouTubeVideo(\\\"ZZjWqxKqJwQ\\\",width=640,height=360, cc_load_policy=True)\"\n",
      "\n",
      "    \" \"\n",
      "\n",
      "link found\n",
      "    \"\\n\",\n",
      "    \"- [Boyd and Vandenberghe](http://vmls-book.stanford.edu/vmls.pdf)\\n\",\n",
      "    \"- [Heffron](http://joshua.smcvt.edu/linearalgebra/book.pdf)\\n\",\n",
      "    \"- [Beezer](http://linear.ups.edu/download/fcla-3.50-tablet.pdf)\\n\",\n",
      "    \"\\n\"\n",
      "\n",
      "    \"\\n\",\n",
      "    \"- [Boyd and Vandenberghe](http://vmls-book.stanford.edu/vmls.pdf)\\n\",\n",
      "    \"- [Heffron](http://joshua.smcvt.edu/linearalgebra/book.pdf)\\n\",\n",
      "    \"- [Beezer](http://linear.ups.edu/download/fcla-3.50-tablet.pdf)\\n\",\n",
      "    \"\\n\"\n",
      "\n",
      "    \"\\n\",\n",
      "    \"- [Boyd and Vandenberghe](http://vmls-book.stanford.edu/vmls.pdf)\\n\",\n",
      "    \"- [Heffron](http://joshua.smcvt.edu/linearalgebra/book.pdf)\\n\",\n",
      "    \"- [Beezer](http://linear.ups.edu/download/fcla-3.50-tablet.pdf)\\n\",\n",
      "    \"\\n\"\n",
      "\n",
      "    \"\\n\",\n",
      "    \"- [Boyd and Vandenberghe](http://vmls-book.stanford.edu/vmls.pdf)\\n\",\n",
      "    \"- [Heffron](http://joshua.smcvt.edu/linearalgebra/book.pdf)\\n\",\n",
      "    \"- [Beezer](http://linear.ups.edu/download/fcla-3.50-tablet.pdf)\\n\",\n",
      "    \"\\n\"\n",
      "\n",
      "    \"&#169; Copyright 2020,  Michigan State University Board of Trustees\"\n",
      "\n",
      "Moving to working directory\n",
      "Striping output cells\n"
     ]
    },
    {
     "data": {
      "text/html": [
       "<a href=MTH314_STUDENTMTH314/06--Mechanics-pre-class-assignment.ipynb target=\"blank\">MTH314/06--Mechanics-pre-class-assignment.ipynb</a>"
      ],
      "text/plain": [
       "<IPython.core.display.HTML object>"
      ]
     },
     "metadata": {},
     "output_type": "display_data"
    },
    {
     "name": "stdout",
     "output_type": "stream",
     "text": [
      "MTH314/06-Mechanics-in-class-assignment-INSTRUCTOR.ipynb\n"
     ]
    },
    {
     "data": {
      "application/javascript": [
       "IPython.notebook.save_notebook()"
      ]
     },
     "metadata": {},
     "output_type": "display_data"
    },
    {
     "name": "stdout",
     "output_type": "stream",
     "text": [
      "Date not found\n",
      "Removing existing student version\n",
      "Finding and replacing mailmerge tags\n",
      "    \" \"\n",
      "\n",
      "    \" \"\n",
      "\n",
      "link found\n",
      "    \"\\n\",\n",
      "    \"- [Boyd and Vandenberghe](http://vmls-book.stanford.edu/vmls.pdf)\\n\",\n",
      "    \"- [Heffron](http://joshua.smcvt.edu/linearalgebra/book.pdf)\\n\",\n",
      "    \"- [Beezer](http://linear.ups.edu/download/fcla-3.50-tablet.pdf)\\n\",\n",
      "    \"\\n\"\n",
      "\n",
      "    \"\\n\",\n",
      "    \"- [Boyd and Vandenberghe](http://vmls-book.stanford.edu/vmls.pdf)\\n\",\n",
      "    \"- [Heffron](http://joshua.smcvt.edu/linearalgebra/book.pdf)\\n\",\n",
      "    \"- [Beezer](http://linear.ups.edu/download/fcla-3.50-tablet.pdf)\\n\",\n",
      "    \"\\n\"\n",
      "\n",
      "    \"\\n\",\n",
      "    \"- [Boyd and Vandenberghe](http://vmls-book.stanford.edu/vmls.pdf)\\n\",\n",
      "    \"- [Heffron](http://joshua.smcvt.edu/linearalgebra/book.pdf)\\n\",\n",
      "    \"- [Beezer](http://linear.ups.edu/download/fcla-3.50-tablet.pdf)\\n\",\n",
      "    \"\\n\"\n",
      "\n",
      "    \"\\n\",\n",
      "    \"- [Boyd and Vandenberghe](http://vmls-book.stanford.edu/vmls.pdf)\\n\",\n",
      "    \"- [Heffron](http://joshua.smcvt.edu/linearalgebra/book.pdf)\\n\",\n",
      "    \"- [Beezer](http://linear.ups.edu/download/fcla-3.50-tablet.pdf)\\n\",\n",
      "    \"\\n\"\n",
      "\n",
      "    \"&#169; Copyright 2020,  Michigan State University Board of Trustees\"\n",
      "\n",
      "Moving to working directory\n",
      "Striping output cells\n"
     ]
    },
    {
     "data": {
      "text/html": [
       "<a href=MTH314_STUDENTMTH314/06-Mechanics-in-class-assignment.ipynb target=\"blank\">MTH314/06-Mechanics-in-class-assignment.ipynb</a>"
      ],
      "text/plain": [
       "<IPython.core.display.HTML object>"
      ]
     },
     "metadata": {},
     "output_type": "display_data"
    },
    {
     "name": "stdout",
     "output_type": "stream",
     "text": [
      "MTH314/07--Transformations-pre-class-assignment-INSTRUCTOR.ipynb\n"
     ]
    },
    {
     "data": {
      "application/javascript": [
       "IPython.notebook.save_notebook()"
      ]
     },
     "metadata": {},
     "output_type": "display_data"
    },
    {
     "name": "stdout",
     "output_type": "stream",
     "text": [
      "Date not found\n",
      "Removing existing student version\n",
      "Finding and replacing mailmerge tags\n",
      "    \" \"\n",
      "\n",
      "    \"**_NOTE_**: A detailed description of elementary matrices can be found here in the **_Beezer text Subsection EM 340-345_** if you find the following confusing. \\n\",\n",
      "\n",
      "    \" \"\n",
      "\n",
      "link found\n",
      "    \"\\n\",\n",
      "    \"- [Boyd and Vandenberghe](http://vmls-book.stanford.edu/vmls.pdf)\\n\",\n",
      "    \"- [Heffron](http://joshua.smcvt.edu/linearalgebra/book.pdf)\\n\",\n",
      "    \"- [Beezer](http://linear.ups.edu/download/fcla-3.50-tablet.pdf)\\n\",\n",
      "    \"\\n\"\n",
      "\n",
      "    \"\\n\",\n",
      "    \"- [Boyd and Vandenberghe](http://vmls-book.stanford.edu/vmls.pdf)\\n\",\n",
      "    \"- [Heffron](http://joshua.smcvt.edu/linearalgebra/book.pdf)\\n\",\n",
      "    \"- [Beezer](http://linear.ups.edu/download/fcla-3.50-tablet.pdf)\\n\",\n",
      "    \"\\n\"\n",
      "\n",
      "    \"\\n\",\n",
      "    \"- [Boyd and Vandenberghe](http://vmls-book.stanford.edu/vmls.pdf)\\n\",\n",
      "    \"- [Heffron](http://joshua.smcvt.edu/linearalgebra/book.pdf)\\n\",\n",
      "    \"- [Beezer](http://linear.ups.edu/download/fcla-3.50-tablet.pdf)\\n\",\n",
      "    \"\\n\"\n",
      "\n",
      "    \"\\n\",\n",
      "    \"- [Boyd and Vandenberghe](http://vmls-book.stanford.edu/vmls.pdf)\\n\",\n",
      "    \"- [Heffron](http://joshua.smcvt.edu/linearalgebra/book.pdf)\\n\",\n",
      "    \"- [Beezer](http://linear.ups.edu/download/fcla-3.50-tablet.pdf)\\n\",\n",
      "    \"\\n\"\n",
      "\n",
      "    \"&#169; Copyright 2020,  Michigan State University Board of Trustees\"\n",
      "\n",
      "Moving to working directory\n",
      "Striping output cells\n"
     ]
    },
    {
     "data": {
      "text/html": [
       "<a href=MTH314_STUDENTMTH314/07--Transformations-pre-class-assignment.ipynb target=\"blank\">MTH314/07--Transformations-pre-class-assignment.ipynb</a>"
      ],
      "text/plain": [
       "<IPython.core.display.HTML object>"
      ]
     },
     "metadata": {},
     "output_type": "display_data"
    },
    {
     "name": "stdout",
     "output_type": "stream",
     "text": [
      "MTH314/07-Quiz2-INSTRUCTOR.ipynb\n"
     ]
    },
    {
     "data": {
      "application/javascript": [
       "IPython.notebook.save_notebook()"
      ]
     },
     "metadata": {},
     "output_type": "display_data"
    },
    {
     "name": "stdout",
     "output_type": "stream",
     "text": [
      "Date not found\n",
      "Removing existing student version\n",
      "Finding and replacing mailmerge tags\n",
      "    \"Now, you just need to submit this assignment by uploading it to the course [Desire2Learn]( ) web page for today's dropbox.\\n\",\n",
      "\n",
      "    \"- Upload the newly renamed notebook to the D2L dropbox. (improper naming of your notebook may cause points to be taken away).\\n\"\n",
      "\n",
      "link found\n",
      "    \"\\n\",\n",
      "    \"- [Boyd and Vandenberghe](http://vmls-book.stanford.edu/vmls.pdf)\\n\",\n",
      "    \"- [Heffron](http://joshua.smcvt.edu/linearalgebra/book.pdf)\\n\",\n",
      "    \"- [Beezer](http://linear.ups.edu/download/fcla-3.50-tablet.pdf)\\n\",\n",
      "    \"\\n\"\n",
      "\n",
      "    \"\\n\",\n",
      "    \"- [Boyd and Vandenberghe](http://vmls-book.stanford.edu/vmls.pdf)\\n\",\n",
      "    \"- [Heffron](http://joshua.smcvt.edu/linearalgebra/book.pdf)\\n\",\n",
      "    \"- [Beezer](http://linear.ups.edu/download/fcla-3.50-tablet.pdf)\\n\",\n",
      "    \"\\n\"\n",
      "\n",
      "    \"\\n\",\n",
      "    \"- [Boyd and Vandenberghe](http://vmls-book.stanford.edu/vmls.pdf)\\n\",\n",
      "    \"- [Heffron](http://joshua.smcvt.edu/linearalgebra/book.pdf)\\n\",\n",
      "    \"- [Beezer](http://linear.ups.edu/download/fcla-3.50-tablet.pdf)\\n\",\n",
      "    \"\\n\"\n",
      "\n",
      "    \"\\n\",\n",
      "    \"- [Boyd and Vandenberghe](http://vmls-book.stanford.edu/vmls.pdf)\\n\",\n",
      "    \"- [Heffron](http://joshua.smcvt.edu/linearalgebra/book.pdf)\\n\",\n",
      "    \"- [Beezer](http://linear.ups.edu/download/fcla-3.50-tablet.pdf)\\n\",\n",
      "    \"\\n\"\n",
      "\n",
      "    \"&#169; Copyright 2020,  Michigan State University Board of Trustees\"\n",
      "\n",
      "WARNING! Some answer content may remain in the file. Please double check file contents before administering to students.\n",
      "Moving to working directory\n",
      "Striping output cells\n"
     ]
    },
    {
     "data": {
      "text/html": [
       "<a href=MTH314_STUDENTMTH314/07-Quiz2.ipynb target=\"blank\">MTH314/07-Quiz2.ipynb</a>"
      ],
      "text/plain": [
       "<IPython.core.display.HTML object>"
      ]
     },
     "metadata": {},
     "output_type": "display_data"
    },
    {
     "name": "stdout",
     "output_type": "stream",
     "text": [
      "MTH314/07-Transformations-in-class-assignment-INSTRUCTOR.ipynb\n"
     ]
    },
    {
     "data": {
      "application/javascript": [
       "IPython.notebook.save_notebook()"
      ]
     },
     "metadata": {},
     "output_type": "display_data"
    },
    {
     "name": "stdout",
     "output_type": "stream",
     "text": [
      "Date not found\n",
      "Removing existing student version\n",
      "Finding and replacing mailmerge tags\n",
      "    \" \"\n",
      "\n",
      "    \" \"\n",
      "\n",
      "link found\n",
      "    \"\\n\",\n",
      "    \"- [Boyd and Vandenberghe](http://vmls-book.stanford.edu/vmls.pdf)\\n\",\n",
      "    \"- [Heffron](http://joshua.smcvt.edu/linearalgebra/book.pdf)\\n\",\n",
      "    \"- [Beezer](http://linear.ups.edu/download/fcla-3.50-tablet.pdf)\\n\",\n",
      "    \"\\n\"\n",
      "\n",
      "    \"\\n\",\n",
      "    \"- [Boyd and Vandenberghe](http://vmls-book.stanford.edu/vmls.pdf)\\n\",\n",
      "    \"- [Heffron](http://joshua.smcvt.edu/linearalgebra/book.pdf)\\n\",\n",
      "    \"- [Beezer](http://linear.ups.edu/download/fcla-3.50-tablet.pdf)\\n\",\n",
      "    \"\\n\"\n",
      "\n",
      "    \"\\n\",\n",
      "    \"- [Boyd and Vandenberghe](http://vmls-book.stanford.edu/vmls.pdf)\\n\",\n",
      "    \"- [Heffron](http://joshua.smcvt.edu/linearalgebra/book.pdf)\\n\",\n",
      "    \"- [Beezer](http://linear.ups.edu/download/fcla-3.50-tablet.pdf)\\n\",\n",
      "    \"\\n\"\n",
      "\n",
      "    \"\\n\",\n",
      "    \"- [Boyd and Vandenberghe](http://vmls-book.stanford.edu/vmls.pdf)\\n\",\n",
      "    \"- [Heffron](http://joshua.smcvt.edu/linearalgebra/book.pdf)\\n\",\n",
      "    \"- [Beezer](http://linear.ups.edu/download/fcla-3.50-tablet.pdf)\\n\",\n",
      "    \"\\n\"\n",
      "\n",
      "    \"&#169; Copyright 2020,  Michigan State University Board of Trustees\"\n",
      "\n",
      "Moving to working directory\n",
      "Striping output cells\n"
     ]
    },
    {
     "data": {
      "text/html": [
       "<a href=MTH314_STUDENTMTH314/07-Transformations-in-class-assignment.ipynb target=\"blank\">MTH314/07-Transformations-in-class-assignment.ipynb</a>"
      ],
      "text/plain": [
       "<IPython.core.display.HTML object>"
      ]
     },
     "metadata": {},
     "output_type": "display_data"
    },
    {
     "name": "stdout",
     "output_type": "stream",
     "text": [
      "MTH314/08--Robotics-pre-class-assignment-INSTRUCTOR.ipynb\n"
     ]
    },
    {
     "data": {
      "application/javascript": [
       "IPython.notebook.save_notebook()"
      ]
     },
     "metadata": {},
     "output_type": "display_data"
    },
    {
     "name": "stdout",
     "output_type": "stream",
     "text": [
      "Date not found\n",
      "Removing existing student version\n",
      "Finding and replacing mailmerge tags\n",
      "    \" \"\n",
      "\n",
      "       \"<IPython.lib.display.YouTubeVideo at 0x7feaf4491ac8>\"\n",
      "\n",
      "    \"from IPython.display import YouTubeVideo\\n\",\n",
      "\n",
      "    \"YouTubeVideo(\\\"aCohcLYrYcY\\\",width=640,height=360, cc_load_policy=True)\"\n",
      "\n",
      "    \" \"\n",
      "\n",
      "link found\n",
      "    \"\\n\",\n",
      "    \"- [Boyd and Vandenberghe](http://vmls-book.stanford.edu/vmls.pdf)\\n\",\n",
      "    \"- [Heffron](http://joshua.smcvt.edu/linearalgebra/book.pdf)\\n\",\n",
      "    \"- [Beezer](http://linear.ups.edu/download/fcla-3.50-tablet.pdf)\\n\",\n",
      "    \"\\n\"\n",
      "\n",
      "    \"\\n\",\n",
      "    \"- [Boyd and Vandenberghe](http://vmls-book.stanford.edu/vmls.pdf)\\n\",\n",
      "    \"- [Heffron](http://joshua.smcvt.edu/linearalgebra/book.pdf)\\n\",\n",
      "    \"- [Beezer](http://linear.ups.edu/download/fcla-3.50-tablet.pdf)\\n\",\n",
      "    \"\\n\"\n",
      "\n",
      "    \"\\n\",\n",
      "    \"- [Boyd and Vandenberghe](http://vmls-book.stanford.edu/vmls.pdf)\\n\",\n",
      "    \"- [Heffron](http://joshua.smcvt.edu/linearalgebra/book.pdf)\\n\",\n",
      "    \"- [Beezer](http://linear.ups.edu/download/fcla-3.50-tablet.pdf)\\n\",\n",
      "    \"\\n\"\n",
      "\n",
      "    \"\\n\",\n",
      "    \"- [Boyd and Vandenberghe](http://vmls-book.stanford.edu/vmls.pdf)\\n\",\n",
      "    \"- [Heffron](http://joshua.smcvt.edu/linearalgebra/book.pdf)\\n\",\n",
      "    \"- [Beezer](http://linear.ups.edu/download/fcla-3.50-tablet.pdf)\\n\",\n",
      "    \"\\n\"\n",
      "\n",
      "    \"&#169; Copyright 2020,  Michigan State University Board of Trustees\"\n",
      "\n",
      "Moving to working directory\n",
      "Striping output cells\n"
     ]
    },
    {
     "data": {
      "text/html": [
       "<a href=MTH314_STUDENTMTH314/08--Robotics-pre-class-assignment.ipynb target=\"blank\">MTH314/08--Robotics-pre-class-assignment.ipynb</a>"
      ],
      "text/plain": [
       "<IPython.core.display.HTML object>"
      ]
     },
     "metadata": {},
     "output_type": "display_data"
    },
    {
     "name": "stdout",
     "output_type": "stream",
     "text": [
      "MTH314/08-Robotics-in-class-assignment-INSTRUCTOR.ipynb\n"
     ]
    },
    {
     "data": {
      "application/javascript": [
       "IPython.notebook.save_notebook()"
      ]
     },
     "metadata": {},
     "output_type": "display_data"
    },
    {
     "name": "stdout",
     "output_type": "stream",
     "text": [
      "Date not found\n",
      "Removing existing student version\n",
      "Finding and replacing mailmerge tags\n",
      "    \" \"\n",
      "\n",
      "    \" \\n\",\n",
      "\n",
      "    \"from IPython.display import YouTubeVideo\\n\",\n",
      "\n",
      "    \"YouTubeVideo(\\\"bowLiSlm_gA\\\",width=640,height=360, mute=1)\"\n",
      "\n",
      "    \" \"\n",
      "\n",
      "link found\n",
      "    \"\\n\",\n",
      "    \"- [Boyd and Vandenberghe](http://vmls-book.stanford.edu/vmls.pdf)\\n\",\n",
      "    \"- [Heffron](http://joshua.smcvt.edu/linearalgebra/book.pdf)\\n\",\n",
      "    \"- [Beezer](http://linear.ups.edu/download/fcla-3.50-tablet.pdf)\\n\",\n",
      "    \"\\n\"\n",
      "\n",
      "    \"\\n\",\n",
      "    \"- [Boyd and Vandenberghe](http://vmls-book.stanford.edu/vmls.pdf)\\n\",\n",
      "    \"- [Heffron](http://joshua.smcvt.edu/linearalgebra/book.pdf)\\n\",\n",
      "    \"- [Beezer](http://linear.ups.edu/download/fcla-3.50-tablet.pdf)\\n\",\n",
      "    \"\\n\"\n",
      "\n",
      "    \"\\n\",\n",
      "    \"- [Boyd and Vandenberghe](http://vmls-book.stanford.edu/vmls.pdf)\\n\",\n",
      "    \"- [Heffron](http://joshua.smcvt.edu/linearalgebra/book.pdf)\\n\",\n",
      "    \"- [Beezer](http://linear.ups.edu/download/fcla-3.50-tablet.pdf)\\n\",\n",
      "    \"\\n\"\n",
      "\n",
      "    \"\\n\",\n",
      "    \"- [Boyd and Vandenberghe](http://vmls-book.stanford.edu/vmls.pdf)\\n\",\n",
      "    \"- [Heffron](http://joshua.smcvt.edu/linearalgebra/book.pdf)\\n\",\n",
      "    \"- [Beezer](http://linear.ups.edu/download/fcla-3.50-tablet.pdf)\\n\",\n",
      "    \"\\n\"\n",
      "\n",
      "    \"&#169; Copyright 2020,  Michigan State University Board of Trustees\"\n",
      "\n",
      "Moving to working directory\n",
      "Striping output cells\n"
     ]
    },
    {
     "data": {
      "text/html": [
       "<a href=MTH314_STUDENTMTH314/08-Robotics-in-class-assignment.ipynb target=\"blank\">MTH314/08-Robotics-in-class-assignment.ipynb</a>"
      ],
      "text/plain": [
       "<IPython.core.display.HTML object>"
      ]
     },
     "metadata": {},
     "output_type": "display_data"
    },
    {
     "name": "stdout",
     "output_type": "stream",
     "text": [
      "MTH314/08HW2-Exam_Practice-INSTRUCTOR.ipynb\n"
     ]
    },
    {
     "data": {
      "application/javascript": [
       "IPython.notebook.save_notebook()"
      ]
     },
     "metadata": {},
     "output_type": "display_data"
    },
    {
     "name": "stdout",
     "output_type": "stream",
     "text": [
      "Date not found\n",
      "Removing existing student version\n",
      "Finding and replacing mailmerge tags\n",
      "    \"In order to successfully complete this assignment, you must follow all the instructions in this notebook and upload your edited ipynb file to [D2L]( ) with your answers on or before **11:59pm on Friday October 2nd**.\"\n",
      "\n",
      "    \"Now, you just need to submit this assignment by uploading all of your files to the course [Desire2Learn]( ) web page for the homework's dropbox.\"\n",
      "\n",
      "    \"&#169; Copyright 2020,  Michigan State University Board of Trustees\"\n",
      "\n",
      "Moving to working directory\n",
      "Striping output cells\n"
     ]
    },
    {
     "data": {
      "text/html": [
       "<a href=MTH314_STUDENTMTH314/08HW2-Exam_Practice.ipynb target=\"blank\">MTH314/08HW2-Exam_Practice.ipynb</a>"
      ],
      "text/plain": [
       "<IPython.core.display.HTML object>"
      ]
     },
     "metadata": {},
     "output_type": "display_data"
    },
    {
     "name": "stdout",
     "output_type": "stream",
     "text": [
      "MTH314/08HW2-Piecewise_Continuous_Function-INSTRUCTOR.ipynb\n"
     ]
    },
    {
     "data": {
      "application/javascript": [
       "IPython.notebook.save_notebook()"
      ]
     },
     "metadata": {},
     "output_type": "display_data"
    },
    {
     "name": "stdout",
     "output_type": "stream",
     "text": [
      "Date not found\n",
      "Removing existing student version\n",
      "Finding and replacing mailmerge tags\n",
      "    \"In order to successfully complete this assignment, you must follow all the instructions in this notebook and upload your edited ipynb file to [D2L]( ) with your answers on or before **11:59pm on Friday October 9th**.\\n\",\n",
      "\n",
      "    \" \"\n",
      "\n",
      "    \"&#169; Copyright 2020,  Michigan State University Board of Trustees\"\n",
      "\n",
      "Moving to working directory\n",
      "Striping output cells\n"
     ]
    },
    {
     "data": {
      "text/html": [
       "<a href=MTH314_STUDENTMTH314/08HW2-Piecewise_Continuous_Function.ipynb target=\"blank\">MTH314/08HW2-Piecewise_Continuous_Function.ipynb</a>"
      ],
      "text/plain": [
       "<IPython.core.display.HTML object>"
      ]
     },
     "metadata": {},
     "output_type": "display_data"
    },
    {
     "name": "stdout",
     "output_type": "stream",
     "text": [
      "MTH314/09-Exam_Review-in-class-assignment-INSTRUCTOR.ipynb\n"
     ]
    },
    {
     "data": {
      "application/javascript": [
       "IPython.notebook.save_notebook()"
      ]
     },
     "metadata": {},
     "output_type": "display_data"
    },
    {
     "name": "stdout",
     "output_type": "stream",
     "text": [
      "Date not found\n",
      "Removing existing student version\n",
      "Finding and replacing mailmerge tags\n",
      "link found\n",
      "    \"\\n\",\n",
      "    \"- [Boyd and Vandenberghe](http://vmls-book.stanford.edu/vmls.pdf)\\n\",\n",
      "    \"- [Heffron](http://joshua.smcvt.edu/linearalgebra/book.pdf)\\n\",\n",
      "    \"- [Beezer](http://linear.ups.edu/download/fcla-3.50-tablet.pdf)\\n\",\n",
      "    \"\\n\"\n",
      "\n",
      "    \"\\n\",\n",
      "    \"- [Boyd and Vandenberghe](http://vmls-book.stanford.edu/vmls.pdf)\\n\",\n",
      "    \"- [Heffron](http://joshua.smcvt.edu/linearalgebra/book.pdf)\\n\",\n",
      "    \"- [Beezer](http://linear.ups.edu/download/fcla-3.50-tablet.pdf)\\n\",\n",
      "    \"\\n\"\n",
      "\n",
      "    \"\\n\",\n",
      "    \"- [Boyd and Vandenberghe](http://vmls-book.stanford.edu/vmls.pdf)\\n\",\n",
      "    \"- [Heffron](http://joshua.smcvt.edu/linearalgebra/book.pdf)\\n\",\n",
      "    \"- [Beezer](http://linear.ups.edu/download/fcla-3.50-tablet.pdf)\\n\",\n",
      "    \"\\n\"\n",
      "\n",
      "    \"\\n\",\n",
      "    \"- [Boyd and Vandenberghe](http://vmls-book.stanford.edu/vmls.pdf)\\n\",\n",
      "    \"- [Heffron](http://joshua.smcvt.edu/linearalgebra/book.pdf)\\n\",\n",
      "    \"- [Beezer](http://linear.ups.edu/download/fcla-3.50-tablet.pdf)\\n\",\n",
      "    \"\\n\"\n",
      "\n",
      "    \"&#169; Copyright 2020,  Michigan State University Board of Trustees\"\n",
      "\n",
      "Moving to working directory\n",
      "Striping output cells\n"
     ]
    },
    {
     "data": {
      "text/html": [
       "<a href=MTH314_STUDENTMTH314/09-Exam_Review-in-class-assignment.ipynb target=\"blank\">MTH314/09-Exam_Review-in-class-assignment.ipynb</a>"
      ],
      "text/plain": [
       "<IPython.core.display.HTML object>"
      ]
     },
     "metadata": {},
     "output_type": "display_data"
    },
    {
     "name": "stdout",
     "output_type": "stream",
     "text": [
      "MTH314/09-Midterm-Exam1-INSTRUCTOR.ipynb\n"
     ]
    },
    {
     "data": {
      "application/javascript": [
       "IPython.notebook.save_notebook()"
      ]
     },
     "metadata": {},
     "output_type": "display_data"
    },
    {
     "name": "stdout",
     "output_type": "stream",
     "text": [
      "Date not found\n",
      "Removing existing student version\n",
      "Finding and replacing mailmerge tags\n",
      "    \"- Upload the newly renamed notebook to the D2L dropbox. \\n\"\n",
      "\n",
      "Moving to working directory\n",
      "Striping output cells\n"
     ]
    },
    {
     "data": {
      "text/html": [
       "<a href=MTH314_STUDENTMTH314/09-Midterm-Exam1.ipynb target=\"blank\">MTH314/09-Midterm-Exam1.ipynb</a>"
      ],
      "text/plain": [
       "<IPython.core.display.HTML object>"
      ]
     },
     "metadata": {},
     "output_type": "display_data"
    },
    {
     "name": "stdout",
     "output_type": "stream",
     "text": [
      "MTH314/10--Determinants-pre-class-assignment-INSTRUCTOR.ipynb\n"
     ]
    },
    {
     "data": {
      "application/javascript": [
       "IPython.notebook.save_notebook()"
      ]
     },
     "metadata": {},
     "output_type": "display_data"
    },
    {
     "name": "stdout",
     "output_type": "stream",
     "text": [
      "Date not found\n",
      "Removing existing student version\n",
      "Finding and replacing mailmerge tags\n",
      "    \" \"\n",
      "\n",
      "    \"For a detailed overview of determinants I would recommend reviewing **_Chapter D pg 340-366_** of the Beezer text.  \\n\",\n",
      "\n",
      "    \"from IPython.display import YouTubeVideo\\n\",\n",
      "\n",
      "    \"YouTubeVideo(\\\"aKX5_DucNq8\\\",width=640,height=360, cc_load_policy=True)\"\n",
      "\n",
      "    \"from IPython.display import YouTubeVideo\\n\",\n",
      "\n",
      "    \"YouTubeVideo(\\\"Ip3X9LOh2dk\\\",width=640,height=360, cc_load_policy=True)\"\n",
      "\n",
      "    \" \"\n",
      "\n",
      "link found\n",
      "    \"\\n\",\n",
      "    \"- [Boyd and Vandenberghe](http://vmls-book.stanford.edu/vmls.pdf)\\n\",\n",
      "    \"- [Heffron](http://joshua.smcvt.edu/linearalgebra/book.pdf)\\n\",\n",
      "    \"- [Beezer](http://linear.ups.edu/download/fcla-3.50-tablet.pdf)\\n\",\n",
      "    \"\\n\\n\"\n",
      "\n",
      "    \"\\n\",\n",
      "    \"- [Boyd and Vandenberghe](http://vmls-book.stanford.edu/vmls.pdf)\\n\",\n",
      "    \"- [Heffron](http://joshua.smcvt.edu/linearalgebra/book.pdf)\\n\",\n",
      "    \"- [Beezer](http://linear.ups.edu/download/fcla-3.50-tablet.pdf)\\n\",\n",
      "    \"\\n\\n\"\n",
      "\n",
      "    \"\\n\",\n",
      "    \"- [Boyd and Vandenberghe](http://vmls-book.stanford.edu/vmls.pdf)\\n\",\n",
      "    \"- [Heffron](http://joshua.smcvt.edu/linearalgebra/book.pdf)\\n\",\n",
      "    \"- [Beezer](http://linear.ups.edu/download/fcla-3.50-tablet.pdf)\\n\",\n",
      "    \"\\n\\n\"\n",
      "\n",
      "    \"\\n\",\n",
      "    \"- [Boyd and Vandenberghe](http://vmls-book.stanford.edu/vmls.pdf)\\n\",\n",
      "    \"- [Heffron](http://joshua.smcvt.edu/linearalgebra/book.pdf)\\n\",\n",
      "    \"- [Beezer](http://linear.ups.edu/download/fcla-3.50-tablet.pdf)\\n\",\n",
      "    \"\\n\\n\"\n",
      "\n",
      "    \"&#169; Copyright 2020,  Michigan State University Board of Trustees\"\n",
      "\n",
      "Moving to working directory\n",
      "Striping output cells\n"
     ]
    },
    {
     "data": {
      "text/html": [
       "<a href=MTH314_STUDENTMTH314/10--Determinants-pre-class-assignment.ipynb target=\"blank\">MTH314/10--Determinants-pre-class-assignment.ipynb</a>"
      ],
      "text/plain": [
       "<IPython.core.display.HTML object>"
      ]
     },
     "metadata": {},
     "output_type": "display_data"
    },
    {
     "name": "stdout",
     "output_type": "stream",
     "text": [
      "MTH314/10-Determinates-in-class-assignment-INSTRUCTOR.ipynb\n"
     ]
    },
    {
     "data": {
      "application/javascript": [
       "IPython.notebook.save_notebook()"
      ]
     },
     "metadata": {},
     "output_type": "display_data"
    },
    {
     "name": "stdout",
     "output_type": "stream",
     "text": [
      "Date not found\n",
      "Removing existing student version\n",
      "Finding and replacing mailmerge tags\n",
      "    \" \"\n",
      "\n",
      "    \" \"\n",
      "\n",
      "link found\n",
      "    \"\\n\",\n",
      "    \"- [Boyd and Vandenberghe](http://vmls-book.stanford.edu/vmls.pdf)\\n\",\n",
      "    \"- [Heffron](http://joshua.smcvt.edu/linearalgebra/book.pdf)\\n\",\n",
      "    \"- [Beezer](http://linear.ups.edu/download/fcla-3.50-tablet.pdf)\\n\",\n",
      "    \"\\n\"\n",
      "\n",
      "    \"\\n\",\n",
      "    \"- [Boyd and Vandenberghe](http://vmls-book.stanford.edu/vmls.pdf)\\n\",\n",
      "    \"- [Heffron](http://joshua.smcvt.edu/linearalgebra/book.pdf)\\n\",\n",
      "    \"- [Beezer](http://linear.ups.edu/download/fcla-3.50-tablet.pdf)\\n\",\n",
      "    \"\\n\"\n",
      "\n",
      "    \"\\n\",\n",
      "    \"- [Boyd and Vandenberghe](http://vmls-book.stanford.edu/vmls.pdf)\\n\",\n",
      "    \"- [Heffron](http://joshua.smcvt.edu/linearalgebra/book.pdf)\\n\",\n",
      "    \"- [Beezer](http://linear.ups.edu/download/fcla-3.50-tablet.pdf)\\n\",\n",
      "    \"\\n\"\n",
      "\n",
      "    \"\\n\",\n",
      "    \"- [Boyd and Vandenberghe](http://vmls-book.stanford.edu/vmls.pdf)\\n\",\n",
      "    \"- [Heffron](http://joshua.smcvt.edu/linearalgebra/book.pdf)\\n\",\n",
      "    \"- [Beezer](http://linear.ups.edu/download/fcla-3.50-tablet.pdf)\\n\",\n",
      "    \"\\n\"\n",
      "\n",
      "    \"&#169; Copyright 2020,  Michigan State University Board of Trustees\"\n",
      "\n",
      "Moving to working directory\n",
      "Striping output cells\n"
     ]
    },
    {
     "data": {
      "text/html": [
       "<a href=MTH314_STUDENTMTH314/10-Determinates-in-class-assignment.ipynb target=\"blank\">MTH314/10-Determinates-in-class-assignment.ipynb</a>"
      ],
      "text/plain": [
       "<IPython.core.display.HTML object>"
      ]
     },
     "metadata": {},
     "output_type": "display_data"
    },
    {
     "name": "stdout",
     "output_type": "stream",
     "text": [
      "MTH314/11--Eigenproblems-pre-class-assignment-INSTRUCTOR.ipynb\n"
     ]
    },
    {
     "data": {
      "application/javascript": [
       "IPython.notebook.save_notebook()"
      ]
     },
     "metadata": {},
     "output_type": "display_data"
    },
    {
     "name": "stdout",
     "output_type": "stream",
     "text": [
      "Date not found\n",
      "Removing existing student version\n",
      "Finding and replacing mailmerge tags\n",
      "    \" \"\n",
      "\n",
      "       \"<IPython.lib.display.YouTubeVideo at 0x7fe806662f28>\"\n",
      "\n",
      "    \"from IPython.display import YouTubeVideo\\n\",\n",
      "\n",
      "    \"YouTubeVideo(\\\"ue3yoeZvt8E\\\",width=640,height=360, cc_load_policy=True)\"\n",
      "\n",
      "       \"<IPython.lib.display.YouTubeVideo at 0x7fe80667ab00>\"\n",
      "\n",
      "    \"from IPython.display import YouTubeVideo\\n\",\n",
      "\n",
      "    \"YouTubeVideo(\\\"PFDu9oVAE-g\\\",width=640,height=360, cc_load_policy=True)\"\n",
      "\n",
      "       \"<IPython.lib.display.YouTubeVideo at 0x7fe80667ae48>\"\n",
      "\n",
      "    \"from IPython.display import YouTubeVideo\\n\",\n",
      "\n",
      "    \"YouTubeVideo(\\\"0UbkMlTu1vo\\\",width=640,height=360, cc_load_policy=True)\"\n",
      "\n",
      "    \" \"\n",
      "\n",
      "    \"- [Syllabus](###SYLLABUS###)\\n\",\n",
      "\n",
      "    \"- [Preliminary Schedule](###SCHEDULE###)\\n\",\n",
      "\n",
      "    \"- [Course D2L Page]( )\"\n",
      "\n",
      "Moving to working directory\n",
      "Striping output cells\n"
     ]
    },
    {
     "data": {
      "text/html": [
       "<a href=MTH314_STUDENTMTH314/11--Eigenproblems-pre-class-assignment.ipynb target=\"blank\">MTH314/11--Eigenproblems-pre-class-assignment.ipynb</a>"
      ],
      "text/plain": [
       "<IPython.core.display.HTML object>"
      ]
     },
     "metadata": {},
     "output_type": "display_data"
    },
    {
     "name": "stdout",
     "output_type": "stream",
     "text": [
      "MTH314/11-Eigenproblems-in-class-assignment-INSTRUCTOR.ipynb\n"
     ]
    },
    {
     "data": {
      "application/javascript": [
       "IPython.notebook.save_notebook()"
      ]
     },
     "metadata": {},
     "output_type": "display_data"
    },
    {
     "name": "stdout",
     "output_type": "stream",
     "text": [
      "Date not found\n",
      "Removing existing student version\n",
      "Finding and replacing mailmerge tags\n",
      "    \" \"\n",
      "\n",
      "    \" \"\n",
      "\n",
      "link found\n",
      "    \"\\n\",\n",
      "    \"- [Boyd and Vandenberghe](http://vmls-book.stanford.edu/vmls.pdf)\\n\",\n",
      "    \"- [Heffron](http://joshua.smcvt.edu/linearalgebra/book.pdf)\\n\",\n",
      "    \"- [Beezer](http://linear.ups.edu/download/fcla-3.50-tablet.pdf)\\n\",\n",
      "    \"\\n\"\n",
      "\n",
      "    \"\\n\",\n",
      "    \"- [Boyd and Vandenberghe](http://vmls-book.stanford.edu/vmls.pdf)\\n\",\n",
      "    \"- [Heffron](http://joshua.smcvt.edu/linearalgebra/book.pdf)\\n\",\n",
      "    \"- [Beezer](http://linear.ups.edu/download/fcla-3.50-tablet.pdf)\\n\",\n",
      "    \"\\n\"\n",
      "\n",
      "    \"\\n\",\n",
      "    \"- [Boyd and Vandenberghe](http://vmls-book.stanford.edu/vmls.pdf)\\n\",\n",
      "    \"- [Heffron](http://joshua.smcvt.edu/linearalgebra/book.pdf)\\n\",\n",
      "    \"- [Beezer](http://linear.ups.edu/download/fcla-3.50-tablet.pdf)\\n\",\n",
      "    \"\\n\"\n",
      "\n",
      "    \"\\n\",\n",
      "    \"- [Boyd and Vandenberghe](http://vmls-book.stanford.edu/vmls.pdf)\\n\",\n",
      "    \"- [Heffron](http://joshua.smcvt.edu/linearalgebra/book.pdf)\\n\",\n",
      "    \"- [Beezer](http://linear.ups.edu/download/fcla-3.50-tablet.pdf)\\n\",\n",
      "    \"\\n\"\n",
      "\n",
      "    \"&#169; Copyright 2020,  Michigan State University Board of Trustees\"\n",
      "\n",
      "Moving to working directory\n",
      "Striping output cells\n"
     ]
    },
    {
     "data": {
      "text/html": [
       "<a href=MTH314_STUDENTMTH314/11-Eigenproblems-in-class-assignment.ipynb target=\"blank\">MTH314/11-Eigenproblems-in-class-assignment.ipynb</a>"
      ],
      "text/plain": [
       "<IPython.core.display.HTML object>"
      ]
     },
     "metadata": {},
     "output_type": "display_data"
    },
    {
     "name": "stdout",
     "output_type": "stream",
     "text": [
      "MTH314/12--Vector_Spaces-pre-class-assignment-INSTRUCTOR.ipynb\n"
     ]
    },
    {
     "data": {
      "application/javascript": [
       "IPython.notebook.save_notebook()"
      ]
     },
     "metadata": {},
     "output_type": "display_data"
    },
    {
     "name": "stdout",
     "output_type": "stream",
     "text": [
      "Date not found\n",
      "Removing existing student version\n",
      "Finding and replacing mailmerge tags\n",
      "    \" \"\n",
      "\n",
      "       \"<IPython.lib.display.YouTubeVideo at 0x7f8bf81f8f60>\"\n",
      "\n",
      "    \"from IPython.display import YouTubeVideo\\n\",\n",
      "\n",
      "    \"YouTubeVideo(\\\"k7RM-ot2NWY\\\",width=640,height=360, cc_load_policy=True)\"\n",
      "\n",
      "    \"&#9989; <font color=red>**DO THIS:**</font> Skim **_Chapter  2 II pg 77-86_** of the Heffron text and **_Chapter VS pg 257-269_** of the Beezer text to get a feel for the ideas around Vector spaces and use these as a reference if you get confused.\\n\",\n",
      "\n",
      "    \"&#9989; <font color=red>**DO THIS:**</font> Skim **_Chapter  2 II pg 77-86_** of the Heffron text and **_Chapter VS pg 257-269_** of the Beezer text to get a feel for the ideas around Vector spaces and use these as a reference if you get confused.\\n\",\n",
      "\n",
      "    \"from IPython.display import YouTubeVideo\\n\",\n",
      "\n",
      "    \"YouTubeVideo(\\\"YmGWj9RrNMI\\\",width=640,height=360, cc_load_policy=True)\"\n",
      "\n",
      "    \" \"\n",
      "\n",
      "link found\n",
      "    \"\\n\",\n",
      "    \"- [Boyd and Vandenberghe](http://vmls-book.stanford.edu/vmls.pdf)\\n\",\n",
      "    \"- [Heffron](http://joshua.smcvt.edu/linearalgebra/book.pdf)\\n\",\n",
      "    \"- [Beezer](http://linear.ups.edu/download/fcla-3.50-tablet.pdf)\\n\",\n",
      "    \"\\n\"\n",
      "\n",
      "    \"\\n\",\n",
      "    \"- [Boyd and Vandenberghe](http://vmls-book.stanford.edu/vmls.pdf)\\n\",\n",
      "    \"- [Heffron](http://joshua.smcvt.edu/linearalgebra/book.pdf)\\n\",\n",
      "    \"- [Beezer](http://linear.ups.edu/download/fcla-3.50-tablet.pdf)\\n\",\n",
      "    \"\\n\"\n",
      "\n",
      "    \"\\n\",\n",
      "    \"- [Boyd and Vandenberghe](http://vmls-book.stanford.edu/vmls.pdf)\\n\",\n",
      "    \"- [Heffron](http://joshua.smcvt.edu/linearalgebra/book.pdf)\\n\",\n",
      "    \"- [Beezer](http://linear.ups.edu/download/fcla-3.50-tablet.pdf)\\n\",\n",
      "    \"\\n\"\n",
      "\n",
      "    \"\\n\",\n",
      "    \"- [Boyd and Vandenberghe](http://vmls-book.stanford.edu/vmls.pdf)\\n\",\n",
      "    \"- [Heffron](http://joshua.smcvt.edu/linearalgebra/book.pdf)\\n\",\n",
      "    \"- [Beezer](http://linear.ups.edu/download/fcla-3.50-tablet.pdf)\\n\",\n",
      "    \"\\n\"\n",
      "\n",
      "    \"&#169; Copyright 2020,  Michigan State University Board of Trustees\"\n",
      "\n",
      "Moving to working directory\n",
      "Striping output cells\n"
     ]
    },
    {
     "data": {
      "text/html": [
       "<a href=MTH314_STUDENTMTH314/12--Vector_Spaces-pre-class-assignment.ipynb target=\"blank\">MTH314/12--Vector_Spaces-pre-class-assignment.ipynb</a>"
      ],
      "text/plain": [
       "<IPython.core.display.HTML object>"
      ]
     },
     "metadata": {},
     "output_type": "display_data"
    },
    {
     "name": "stdout",
     "output_type": "stream",
     "text": [
      "MTH314/12-Vector_Spaces-in-class-assignment-INSTRUCTOR.ipynb\n"
     ]
    },
    {
     "data": {
      "application/javascript": [
       "IPython.notebook.save_notebook()"
      ]
     },
     "metadata": {},
     "output_type": "display_data"
    },
    {
     "name": "stdout",
     "output_type": "stream",
     "text": [
      "Date not found\n",
      "Removing existing student version\n",
      "Finding and replacing mailmerge tags\n",
      "    \" \"\n",
      "\n",
      "    \" \"\n",
      "\n",
      "link found\n",
      "    \"\\n\",\n",
      "    \"- [Boyd and Vandenberghe](http://vmls-book.stanford.edu/vmls.pdf)\\n\",\n",
      "    \"- [Heffron](http://joshua.smcvt.edu/linearalgebra/book.pdf)\\n\",\n",
      "    \"- [Beezer](http://linear.ups.edu/download/fcla-3.50-tablet.pdf)\\n\",\n",
      "    \"\\n\"\n",
      "\n",
      "    \"\\n\",\n",
      "    \"- [Boyd and Vandenberghe](http://vmls-book.stanford.edu/vmls.pdf)\\n\",\n",
      "    \"- [Heffron](http://joshua.smcvt.edu/linearalgebra/book.pdf)\\n\",\n",
      "    \"- [Beezer](http://linear.ups.edu/download/fcla-3.50-tablet.pdf)\\n\",\n",
      "    \"\\n\"\n",
      "\n",
      "    \"\\n\",\n",
      "    \"- [Boyd and Vandenberghe](http://vmls-book.stanford.edu/vmls.pdf)\\n\",\n",
      "    \"- [Heffron](http://joshua.smcvt.edu/linearalgebra/book.pdf)\\n\",\n",
      "    \"- [Beezer](http://linear.ups.edu/download/fcla-3.50-tablet.pdf)\\n\",\n",
      "    \"\\n\"\n",
      "\n",
      "    \"\\n\",\n",
      "    \"- [Boyd and Vandenberghe](http://vmls-book.stanford.edu/vmls.pdf)\\n\",\n",
      "    \"- [Heffron](http://joshua.smcvt.edu/linearalgebra/book.pdf)\\n\",\n",
      "    \"- [Beezer](http://linear.ups.edu/download/fcla-3.50-tablet.pdf)\\n\",\n",
      "    \"\\n\"\n",
      "\n",
      "    \"&#169; Copyright 2020,  Michigan State University Board of Trustees\"\n",
      "\n",
      "Moving to working directory\n",
      "Striping output cells\n"
     ]
    },
    {
     "data": {
      "text/html": [
       "<a href=MTH314_STUDENTMTH314/12-Vector_Spaces-in-class-assignment.ipynb target=\"blank\">MTH314/12-Vector_Spaces-in-class-assignment.ipynb</a>"
      ],
      "text/plain": [
       "<IPython.core.display.HTML object>"
      ]
     },
     "metadata": {},
     "output_type": "display_data"
    },
    {
     "name": "stdout",
     "output_type": "stream",
     "text": [
      "MTH314/13--Change_Basis-pre-class-assignment-INSTRUCTOR.ipynb\n"
     ]
    },
    {
     "data": {
      "application/javascript": [
       "IPython.notebook.save_notebook()"
      ]
     },
     "metadata": {},
     "output_type": "display_data"
    },
    {
     "name": "stdout",
     "output_type": "stream",
     "text": [
      "Date not found\n",
      "Removing existing student version\n",
      "Finding and replacing mailmerge tags\n",
      "    \" \"\n",
      "\n",
      "    \" \"\n",
      "\n",
      "link found\n",
      "    \"\\n\",\n",
      "    \"- [Boyd and Vandenberghe](http://vmls-book.stanford.edu/vmls.pdf)\\n\",\n",
      "    \"- [Heffron](http://joshua.smcvt.edu/linearalgebra/book.pdf)\\n\",\n",
      "    \"- [Beezer](http://linear.ups.edu/download/fcla-3.50-tablet.pdf)\\n\",\n",
      "    \"\\n\"\n",
      "\n",
      "    \"\\n\",\n",
      "    \"- [Boyd and Vandenberghe](http://vmls-book.stanford.edu/vmls.pdf)\\n\",\n",
      "    \"- [Heffron](http://joshua.smcvt.edu/linearalgebra/book.pdf)\\n\",\n",
      "    \"- [Beezer](http://linear.ups.edu/download/fcla-3.50-tablet.pdf)\\n\",\n",
      "    \"\\n\"\n",
      "\n",
      "    \"\\n\",\n",
      "    \"- [Boyd and Vandenberghe](http://vmls-book.stanford.edu/vmls.pdf)\\n\",\n",
      "    \"- [Heffron](http://joshua.smcvt.edu/linearalgebra/book.pdf)\\n\",\n",
      "    \"- [Beezer](http://linear.ups.edu/download/fcla-3.50-tablet.pdf)\\n\",\n",
      "    \"\\n\"\n",
      "\n",
      "    \"\\n\",\n",
      "    \"- [Boyd and Vandenberghe](http://vmls-book.stanford.edu/vmls.pdf)\\n\",\n",
      "    \"- [Heffron](http://joshua.smcvt.edu/linearalgebra/book.pdf)\\n\",\n",
      "    \"- [Beezer](http://linear.ups.edu/download/fcla-3.50-tablet.pdf)\\n\",\n",
      "    \"\\n\"\n",
      "\n",
      "    \"&#169; Copyright 2020,  Michigan State University Board of Trustees\"\n",
      "\n",
      "Moving to working directory\n",
      "Striping output cells\n"
     ]
    },
    {
     "data": {
      "text/html": [
       "<a href=MTH314_STUDENTMTH314/13--Change_Basis-pre-class-assignment.ipynb target=\"blank\">MTH314/13--Change_Basis-pre-class-assignment.ipynb</a>"
      ],
      "text/plain": [
       "<IPython.core.display.HTML object>"
      ]
     },
     "metadata": {},
     "output_type": "display_data"
    },
    {
     "name": "stdout",
     "output_type": "stream",
     "text": [
      "MTH314/13-Change_Basis-in-class-assignment-INSTRUCTOR.ipynb\n"
     ]
    },
    {
     "data": {
      "application/javascript": [
       "IPython.notebook.save_notebook()"
      ]
     },
     "metadata": {},
     "output_type": "display_data"
    },
    {
     "name": "stdout",
     "output_type": "stream",
     "text": [
      "Date not found\n",
      "Removing existing student version\n",
      "Finding and replacing mailmerge tags\n",
      "    \" \"\n",
      "\n",
      "    \" \"\n",
      "\n",
      "link found\n",
      "    \"\\n\",\n",
      "    \"- [Boyd and Vandenberghe](http://vmls-book.stanford.edu/vmls.pdf)\\n\",\n",
      "    \"- [Heffron](http://joshua.smcvt.edu/linearalgebra/book.pdf)\\n\",\n",
      "    \"- [Beezer](http://linear.ups.edu/download/fcla-3.50-tablet.pdf)\\n\",\n",
      "    \"\\n\"\n",
      "\n",
      "    \"\\n\",\n",
      "    \"- [Boyd and Vandenberghe](http://vmls-book.stanford.edu/vmls.pdf)\\n\",\n",
      "    \"- [Heffron](http://joshua.smcvt.edu/linearalgebra/book.pdf)\\n\",\n",
      "    \"- [Beezer](http://linear.ups.edu/download/fcla-3.50-tablet.pdf)\\n\",\n",
      "    \"\\n\"\n",
      "\n",
      "    \"\\n\",\n",
      "    \"- [Boyd and Vandenberghe](http://vmls-book.stanford.edu/vmls.pdf)\\n\",\n",
      "    \"- [Heffron](http://joshua.smcvt.edu/linearalgebra/book.pdf)\\n\",\n",
      "    \"- [Beezer](http://linear.ups.edu/download/fcla-3.50-tablet.pdf)\\n\",\n",
      "    \"\\n\"\n",
      "\n",
      "    \"\\n\",\n",
      "    \"- [Boyd and Vandenberghe](http://vmls-book.stanford.edu/vmls.pdf)\\n\",\n",
      "    \"- [Heffron](http://joshua.smcvt.edu/linearalgebra/book.pdf)\\n\",\n",
      "    \"- [Beezer](http://linear.ups.edu/download/fcla-3.50-tablet.pdf)\\n\",\n",
      "    \"\\n\"\n",
      "\n",
      "    \"&#169; Copyright 2020,  Michigan State University Board of Trustees\"\n",
      "\n",
      "Moving to working directory\n",
      "Striping output cells\n"
     ]
    },
    {
     "data": {
      "text/html": [
       "<a href=MTH314_STUDENTMTH314/13-Change_Basis-in-class-assignment.ipynb target=\"blank\">MTH314/13-Change_Basis-in-class-assignment.ipynb</a>"
      ],
      "text/plain": [
       "<IPython.core.display.HTML object>"
      ]
     },
     "metadata": {},
     "output_type": "display_data"
    },
    {
     "name": "stdout",
     "output_type": "stream",
     "text": [
      "MTH314/13HW3-Networks_Spectra_and_Jurassic_Park-INSTRUCTOR.ipynb\n"
     ]
    },
    {
     "data": {
      "application/javascript": [
       "IPython.notebook.save_notebook()"
      ]
     },
     "metadata": {},
     "output_type": "display_data"
    },
    {
     "name": "stdout",
     "output_type": "stream",
     "text": [
      "Date not found\n",
      "Removing existing student version\n",
      "Finding and replacing mailmerge tags\n",
      "    \"from IPython.display import YouTubeVideo\\n\",\n",
      "\n",
      "    \"YouTubeVideo(\\\"n-mpifTiPV4?t=22\\\",width=640,height=360, mute=0, start=23, end=37, cc_load_policy=True)\"\n",
      "\n",
      "    \"from IPython.display import YouTubeVideo\\n\",\n",
      "\n",
      "    \"YouTubeVideo(\\\"m-KUiibR4Xs\\\",width=640,height=360, mute=0)\"\n",
      "\n",
      "Moving to working directory\n",
      "Striping output cells\n"
     ]
    },
    {
     "data": {
      "text/html": [
       "<a href=MTH314_STUDENTMTH314/13HW3-Networks_Spectra_and_Jurassic_Park.ipynb target=\"blank\">MTH314/13HW3-Networks_Spectra_and_Jurassic_Park.ipynb</a>"
      ],
      "text/plain": [
       "<IPython.core.display.HTML object>"
      ]
     },
     "metadata": {},
     "output_type": "display_data"
    },
    {
     "name": "stdout",
     "output_type": "stream",
     "text": [
      "MTH314/14--Projections-pre-class-assignment-INSTRUCTOR.ipynb\n"
     ]
    },
    {
     "data": {
      "application/javascript": [
       "IPython.notebook.save_notebook()"
      ]
     },
     "metadata": {},
     "output_type": "display_data"
    },
    {
     "name": "stdout",
     "output_type": "stream",
     "text": [
      "Date not found\n",
      "Removing existing student version\n",
      "Finding and replacing mailmerge tags\n",
      "    \" \"\n",
      "\n",
      "       \"<IPython.lib.display.YouTubeVideo at 0x7f91fc162d30>\"\n",
      "\n",
      "    \"from IPython.display import YouTubeVideo\\n\",\n",
      "\n",
      "    \"YouTubeVideo(\\\"rHonltF77zI\\\",width=640,height=360, cc_load_policy=True)\"\n",
      "\n",
      "    \" \"\n",
      "\n",
      "link found\n",
      "    \"\\n\",\n",
      "    \"- [Boyd and Vandenberghe](http://vmls-book.stanford.edu/vmls.pdf)\\n\",\n",
      "    \"- [Heffron](http://joshua.smcvt.edu/linearalgebra/book.pdf)\\n\",\n",
      "    \"- [Beezer](http://linear.ups.edu/download/fcla-3.50-tablet.pdf)\\n\",\n",
      "    \"\\n\"\n",
      "\n",
      "    \"\\n\",\n",
      "    \"- [Boyd and Vandenberghe](http://vmls-book.stanford.edu/vmls.pdf)\\n\",\n",
      "    \"- [Heffron](http://joshua.smcvt.edu/linearalgebra/book.pdf)\\n\",\n",
      "    \"- [Beezer](http://linear.ups.edu/download/fcla-3.50-tablet.pdf)\\n\",\n",
      "    \"\\n\"\n",
      "\n",
      "    \"\\n\",\n",
      "    \"- [Boyd and Vandenberghe](http://vmls-book.stanford.edu/vmls.pdf)\\n\",\n",
      "    \"- [Heffron](http://joshua.smcvt.edu/linearalgebra/book.pdf)\\n\",\n",
      "    \"- [Beezer](http://linear.ups.edu/download/fcla-3.50-tablet.pdf)\\n\",\n",
      "    \"\\n\"\n",
      "\n",
      "    \"\\n\",\n",
      "    \"- [Boyd and Vandenberghe](http://vmls-book.stanford.edu/vmls.pdf)\\n\",\n",
      "    \"- [Heffron](http://joshua.smcvt.edu/linearalgebra/book.pdf)\\n\",\n",
      "    \"- [Beezer](http://linear.ups.edu/download/fcla-3.50-tablet.pdf)\\n\",\n",
      "    \"\\n\"\n",
      "\n",
      "    \"&#169; Copyright 2020,  Michigan State University Board of Trustees\"\n",
      "\n",
      "Moving to working directory\n",
      "Striping output cells\n"
     ]
    },
    {
     "data": {
      "text/html": [
       "<a href=MTH314_STUDENTMTH314/14--Projections-pre-class-assignment.ipynb target=\"blank\">MTH314/14--Projections-pre-class-assignment.ipynb</a>"
      ],
      "text/plain": [
       "<IPython.core.display.HTML object>"
      ]
     },
     "metadata": {},
     "output_type": "display_data"
    },
    {
     "name": "stdout",
     "output_type": "stream",
     "text": [
      "MTH314/14-Projections-in-class-assignment-INSTRUCTOR.ipynb\n"
     ]
    },
    {
     "data": {
      "application/javascript": [
       "IPython.notebook.save_notebook()"
      ]
     },
     "metadata": {},
     "output_type": "display_data"
    },
    {
     "name": "stdout",
     "output_type": "stream",
     "text": [
      "Date not found\n",
      "Removing existing student version\n",
      "Finding and replacing mailmerge tags\n",
      "    \" \"\n",
      "\n",
      "    \" \\n\",\n",
      "\n",
      "    \" \"\n",
      "\n",
      "link found\n",
      "    \"\\n\",\n",
      "    \"- [Boyd and Vandenberghe](http://vmls-book.stanford.edu/vmls.pdf)\\n\",\n",
      "    \"- [Heffron](http://joshua.smcvt.edu/linearalgebra/book.pdf)\\n\",\n",
      "    \"- [Beezer](http://linear.ups.edu/download/fcla-3.50-tablet.pdf)\\n\",\n",
      "    \"\\n\"\n",
      "\n",
      "    \"\\n\",\n",
      "    \"- [Boyd and Vandenberghe](http://vmls-book.stanford.edu/vmls.pdf)\\n\",\n",
      "    \"- [Heffron](http://joshua.smcvt.edu/linearalgebra/book.pdf)\\n\",\n",
      "    \"- [Beezer](http://linear.ups.edu/download/fcla-3.50-tablet.pdf)\\n\",\n",
      "    \"\\n\"\n",
      "\n",
      "    \"\\n\",\n",
      "    \"- [Boyd and Vandenberghe](http://vmls-book.stanford.edu/vmls.pdf)\\n\",\n",
      "    \"- [Heffron](http://joshua.smcvt.edu/linearalgebra/book.pdf)\\n\",\n",
      "    \"- [Beezer](http://linear.ups.edu/download/fcla-3.50-tablet.pdf)\\n\",\n",
      "    \"\\n\"\n",
      "\n",
      "    \"\\n\",\n",
      "    \"- [Boyd and Vandenberghe](http://vmls-book.stanford.edu/vmls.pdf)\\n\",\n",
      "    \"- [Heffron](http://joshua.smcvt.edu/linearalgebra/book.pdf)\\n\",\n",
      "    \"- [Beezer](http://linear.ups.edu/download/fcla-3.50-tablet.pdf)\\n\",\n",
      "    \"\\n\"\n",
      "\n",
      "    \"&#169; Copyright 2020,  Michigan State University Board of Trustees\"\n",
      "\n",
      "Moving to working directory\n",
      "Striping output cells\n"
     ]
    },
    {
     "data": {
      "text/html": [
       "<a href=MTH314_STUDENTMTH314/14-Projections-in-class-assignment.ipynb target=\"blank\">MTH314/14-Projections-in-class-assignment.ipynb</a>"
      ],
      "text/plain": [
       "<IPython.core.display.HTML object>"
      ]
     },
     "metadata": {},
     "output_type": "display_data"
    },
    {
     "name": "stdout",
     "output_type": "stream",
     "text": [
      "MTH314/15--Fundamental_Spaces-pre-class-assignment-INSTRUCTOR.ipynb\n"
     ]
    },
    {
     "data": {
      "application/javascript": [
       "IPython.notebook.save_notebook()"
      ]
     },
     "metadata": {},
     "output_type": "display_data"
    },
    {
     "name": "stdout",
     "output_type": "stream",
     "text": [
      "Date not found\n",
      "Removing existing student version\n",
      "Finding and replacing mailmerge tags\n",
      "    \" \"\n",
      "\n",
      "      \"image/jpeg\": \"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\\n\",\n",
      "\n",
      "       \"<IPython.lib.display.YouTubeVideo at 0x7f0a208c1c88>\"\n",
      "\n",
      "    \"from IPython.display import YouTubeVideo\\n\",\n",
      "\n",
      "    \"YouTubeVideo(\\\"5B8XluiqdHM\\\",width=640,height=360, cc_load_policy=True)\"\n",
      "\n",
      "    \"&#9989; <font color=red>**DO THIS:**</font>  Add the link to the video to the code below. Try embedding the link in the provided Python YouTubeVideo Function by replacing XXXXX with the video ID.\"\n",
      "\n",
      "       \"<IPython.lib.display.YouTubeVideo at 0x7f0a208c1828>\"\n",
      "\n",
      "    \"from IPython.display import YouTubeVideo\\n\",\n",
      "\n",
      "    \"YouTubeVideo(\\\"XXXXXX\\\",width=640,height=360, cc_load_policy=1)\"\n",
      "\n",
      "    \" \"\n",
      "\n",
      "link found\n",
      "    \"\\n\",\n",
      "    \"- [Boyd and Vandenberghe](http://vmls-book.stanford.edu/vmls.pdf)\\n\",\n",
      "    \"- [Heffron](http://joshua.smcvt.edu/linearalgebra/book.pdf)\\n\",\n",
      "    \"- [Beezer](http://linear.ups.edu/download/fcla-3.50-tablet.pdf)\\n\",\n",
      "    \"\\n\"\n",
      "\n",
      "    \"\\n\",\n",
      "    \"- [Boyd and Vandenberghe](http://vmls-book.stanford.edu/vmls.pdf)\\n\",\n",
      "    \"- [Heffron](http://joshua.smcvt.edu/linearalgebra/book.pdf)\\n\",\n",
      "    \"- [Beezer](http://linear.ups.edu/download/fcla-3.50-tablet.pdf)\\n\",\n",
      "    \"\\n\"\n",
      "\n",
      "    \"\\n\",\n",
      "    \"- [Boyd and Vandenberghe](http://vmls-book.stanford.edu/vmls.pdf)\\n\",\n",
      "    \"- [Heffron](http://joshua.smcvt.edu/linearalgebra/book.pdf)\\n\",\n",
      "    \"- [Beezer](http://linear.ups.edu/download/fcla-3.50-tablet.pdf)\\n\",\n",
      "    \"\\n\"\n",
      "\n",
      "    \"\\n\",\n",
      "    \"- [Boyd and Vandenberghe](http://vmls-book.stanford.edu/vmls.pdf)\\n\",\n",
      "    \"- [Heffron](http://joshua.smcvt.edu/linearalgebra/book.pdf)\\n\",\n",
      "    \"- [Beezer](http://linear.ups.edu/download/fcla-3.50-tablet.pdf)\\n\",\n",
      "    \"\\n\"\n",
      "\n",
      "    \"&#169; Copyright 2020,  Michigan State University Board of Trustees\"\n",
      "\n",
      "Moving to working directory\n"
     ]
    },
    {
     "name": "stdout",
     "output_type": "stream",
     "text": [
      "Striping output cells\n"
     ]
    },
    {
     "data": {
      "text/html": [
       "<a href=MTH314_STUDENTMTH314/15--Fundamental_Spaces-pre-class-assignment.ipynb target=\"blank\">MTH314/15--Fundamental_Spaces-pre-class-assignment.ipynb</a>"
      ],
      "text/plain": [
       "<IPython.core.display.HTML object>"
      ]
     },
     "metadata": {},
     "output_type": "display_data"
    },
    {
     "name": "stdout",
     "output_type": "stream",
     "text": [
      "MTH314/15-Fundamental_Spaces-in-class-assignment-INSTRUCTOR.ipynb\n"
     ]
    },
    {
     "data": {
      "application/javascript": [
       "IPython.notebook.save_notebook()"
      ]
     },
     "metadata": {},
     "output_type": "display_data"
    },
    {
     "name": "stdout",
     "output_type": "stream",
     "text": [
      "Date not found\n",
      "Removing existing student version\n",
      "Finding and replacing mailmerge tags\n",
      "    \" \"\n",
      "\n",
      "    \" \"\n",
      "\n",
      "link found\n",
      "    \"\\n\",\n",
      "    \"- [Boyd and Vandenberghe](http://vmls-book.stanford.edu/vmls.pdf)\\n\",\n",
      "    \"- [Heffron](http://joshua.smcvt.edu/linearalgebra/book.pdf)\\n\",\n",
      "    \"- [Beezer](http://linear.ups.edu/download/fcla-3.50-tablet.pdf)\\n\",\n",
      "    \"\\n\"\n",
      "\n",
      "    \"\\n\",\n",
      "    \"- [Boyd and Vandenberghe](http://vmls-book.stanford.edu/vmls.pdf)\\n\",\n",
      "    \"- [Heffron](http://joshua.smcvt.edu/linearalgebra/book.pdf)\\n\",\n",
      "    \"- [Beezer](http://linear.ups.edu/download/fcla-3.50-tablet.pdf)\\n\",\n",
      "    \"\\n\"\n",
      "\n",
      "    \"\\n\",\n",
      "    \"- [Boyd and Vandenberghe](http://vmls-book.stanford.edu/vmls.pdf)\\n\",\n",
      "    \"- [Heffron](http://joshua.smcvt.edu/linearalgebra/book.pdf)\\n\",\n",
      "    \"- [Beezer](http://linear.ups.edu/download/fcla-3.50-tablet.pdf)\\n\",\n",
      "    \"\\n\"\n",
      "\n",
      "    \"\\n\",\n",
      "    \"- [Boyd and Vandenberghe](http://vmls-book.stanford.edu/vmls.pdf)\\n\",\n",
      "    \"- [Heffron](http://joshua.smcvt.edu/linearalgebra/book.pdf)\\n\",\n",
      "    \"- [Beezer](http://linear.ups.edu/download/fcla-3.50-tablet.pdf)\\n\",\n",
      "    \"\\n\"\n",
      "\n",
      "    \"&#169; Copyright 2020,  Michigan State University Board of Trustees\"\n",
      "\n",
      "Moving to working directory\n",
      "Striping output cells\n"
     ]
    },
    {
     "data": {
      "text/html": [
       "<a href=MTH314_STUDENTMTH314/15-Fundamental_Spaces-in-class-assignment.ipynb target=\"blank\">MTH314/15-Fundamental_Spaces-in-class-assignment.ipynb</a>"
      ],
      "text/plain": [
       "<IPython.core.display.HTML object>"
      ]
     },
     "metadata": {},
     "output_type": "display_data"
    },
    {
     "name": "stdout",
     "output_type": "stream",
     "text": [
      "MTH314/15HW4-COVID19_Linear_Dynamical_Systems-INSTRUCTOR.ipynb\n"
     ]
    },
    {
     "data": {
      "application/javascript": [
       "IPython.notebook.save_notebook()"
      ]
     },
     "metadata": {},
     "output_type": "display_data"
    },
    {
     "name": "stdout",
     "output_type": "stream",
     "text": [
      "Date not found\n",
      "Removing existing student version\n",
      "Finding and replacing mailmerge tags\n",
      "    \"In order to successfully complete this assignment, you must follow all the instructions in this notebook and upload your edited ipynb file to [D2L]( ) with your answers on or before **11:59pm on Friday November 6th**.\\n\",\n",
      "\n",
      "    \" \"\n",
      "\n",
      "    \"&#169; Copyright 2020,  Michigan State University Board of Trustees\"\n",
      "\n",
      "Moving to working directory\n",
      "Striping output cells\n"
     ]
    },
    {
     "data": {
      "text/html": [
       "<a href=MTH314_STUDENTMTH314/15HW4-COVID19_Linear_Dynamical_Systems.ipynb target=\"blank\">MTH314/15HW4-COVID19_Linear_Dynamical_Systems.ipynb</a>"
      ],
      "text/plain": [
       "<IPython.core.display.HTML object>"
      ]
     },
     "metadata": {},
     "output_type": "display_data"
    },
    {
     "name": "stdout",
     "output_type": "stream",
     "text": [
      "MTH314/16--Diagonalization-pre-class-assignment-INSTRUCTOR.ipynb\n"
     ]
    },
    {
     "data": {
      "application/javascript": [
       "IPython.notebook.save_notebook()"
      ]
     },
     "metadata": {},
     "output_type": "display_data"
    },
    {
     "name": "stdout",
     "output_type": "stream",
     "text": [
      "Date not found\n",
      "Removing existing student version\n",
      "Finding and replacing mailmerge tags\n",
      "    \" \"\n",
      "\n",
      "    \" \"\n",
      "\n",
      "link found\n",
      "    \"\\n\",\n",
      "    \"- [Boyd and Vandenberghe](http://vmls-book.stanford.edu/vmls.pdf)\\n\",\n",
      "    \"- [Heffron](http://joshua.smcvt.edu/linearalgebra/book.pdf)\\n\",\n",
      "    \"- [Beezer](http://linear.ups.edu/download/fcla-3.50-tablet.pdf)\\n\",\n",
      "    \"\\n\"\n",
      "\n",
      "    \"\\n\",\n",
      "    \"- [Boyd and Vandenberghe](http://vmls-book.stanford.edu/vmls.pdf)\\n\",\n",
      "    \"- [Heffron](http://joshua.smcvt.edu/linearalgebra/book.pdf)\\n\",\n",
      "    \"- [Beezer](http://linear.ups.edu/download/fcla-3.50-tablet.pdf)\\n\",\n",
      "    \"\\n\"\n",
      "\n",
      "    \"\\n\",\n",
      "    \"- [Boyd and Vandenberghe](http://vmls-book.stanford.edu/vmls.pdf)\\n\",\n",
      "    \"- [Heffron](http://joshua.smcvt.edu/linearalgebra/book.pdf)\\n\",\n",
      "    \"- [Beezer](http://linear.ups.edu/download/fcla-3.50-tablet.pdf)\\n\",\n",
      "    \"\\n\"\n",
      "\n",
      "    \"\\n\",\n",
      "    \"- [Boyd and Vandenberghe](http://vmls-book.stanford.edu/vmls.pdf)\\n\",\n",
      "    \"- [Heffron](http://joshua.smcvt.edu/linearalgebra/book.pdf)\\n\",\n",
      "    \"- [Beezer](http://linear.ups.edu/download/fcla-3.50-tablet.pdf)\\n\",\n",
      "    \"\\n\"\n",
      "\n",
      "    \"&#169; Copyright 2020,  Michigan State University Board of Trustees\"\n",
      "\n",
      "Moving to working directory\n",
      "Striping output cells\n"
     ]
    },
    {
     "data": {
      "text/html": [
       "<a href=MTH314_STUDENTMTH314/16--Diagonalization-pre-class-assignment.ipynb target=\"blank\">MTH314/16--Diagonalization-pre-class-assignment.ipynb</a>"
      ],
      "text/plain": [
       "<IPython.core.display.HTML object>"
      ]
     },
     "metadata": {},
     "output_type": "display_data"
    },
    {
     "name": "stdout",
     "output_type": "stream",
     "text": [
      "MTH314/16-Diagonalization-in-class-assignment-INSTRUCTOR.ipynb\n"
     ]
    },
    {
     "data": {
      "application/javascript": [
       "IPython.notebook.save_notebook()"
      ]
     },
     "metadata": {},
     "output_type": "display_data"
    },
    {
     "name": "stdout",
     "output_type": "stream",
     "text": [
      "Date not found\n",
      "Removing existing student version\n",
      "Finding and replacing mailmerge tags\n",
      "    \" \"\n",
      "\n",
      "    \" \"\n",
      "\n",
      "link found\n",
      "    \"\\n\",\n",
      "    \"- [Boyd and Vandenberghe](http://vmls-book.stanford.edu/vmls.pdf)\\n\",\n",
      "    \"- [Heffron](http://joshua.smcvt.edu/linearalgebra/book.pdf)\\n\",\n",
      "    \"- [Beezer](http://linear.ups.edu/download/fcla-3.50-tablet.pdf)\\n\",\n",
      "    \"\\n\"\n",
      "\n",
      "    \"\\n\",\n",
      "    \"- [Boyd and Vandenberghe](http://vmls-book.stanford.edu/vmls.pdf)\\n\",\n",
      "    \"- [Heffron](http://joshua.smcvt.edu/linearalgebra/book.pdf)\\n\",\n",
      "    \"- [Beezer](http://linear.ups.edu/download/fcla-3.50-tablet.pdf)\\n\",\n",
      "    \"\\n\"\n",
      "\n",
      "    \"\\n\",\n",
      "    \"- [Boyd and Vandenberghe](http://vmls-book.stanford.edu/vmls.pdf)\\n\",\n",
      "    \"- [Heffron](http://joshua.smcvt.edu/linearalgebra/book.pdf)\\n\",\n",
      "    \"- [Beezer](http://linear.ups.edu/download/fcla-3.50-tablet.pdf)\\n\",\n",
      "    \"\\n\"\n",
      "\n",
      "    \"\\n\",\n",
      "    \"- [Boyd and Vandenberghe](http://vmls-book.stanford.edu/vmls.pdf)\\n\",\n",
      "    \"- [Heffron](http://joshua.smcvt.edu/linearalgebra/book.pdf)\\n\",\n",
      "    \"- [Beezer](http://linear.ups.edu/download/fcla-3.50-tablet.pdf)\\n\",\n",
      "    \"\\n\"\n",
      "\n",
      "    \"&#169; Copyright 2020,  Michigan State University Board of Trustees\"\n",
      "\n",
      "Moving to working directory\n",
      "Striping output cells\n"
     ]
    },
    {
     "data": {
      "text/html": [
       "<a href=MTH314_STUDENTMTH314/16-Diagonalization-in-class-assignment.ipynb target=\"blank\">MTH314/16-Diagonalization-in-class-assignment.ipynb</a>"
      ],
      "text/plain": [
       "<IPython.core.display.HTML object>"
      ]
     },
     "metadata": {},
     "output_type": "display_data"
    },
    {
     "name": "stdout",
     "output_type": "stream",
     "text": [
      "MTH314/17--Linear_Dynamical_Systems-pre-class-assignment-INSTRUCTOR.ipynb\n"
     ]
    },
    {
     "data": {
      "application/javascript": [
       "IPython.notebook.save_notebook()"
      ]
     },
     "metadata": {},
     "output_type": "display_data"
    },
    {
     "name": "stdout",
     "output_type": "stream",
     "text": [
      "Date not found\n",
      "Removing existing student version\n",
      "Finding and replacing mailmerge tags\n",
      "    \" \"\n",
      "\n",
      "    \"&#9989; <font color=red>**DO THIS:**</font>  Review **_Chapter 9 in the Boyd and Vandenberghe_** text and become familiar with the contents and the basic terminology. \"\n",
      "\n",
      "       \"<IPython.lib.display.YouTubeVideo at 0x7fe6a8235588>\"\n",
      "\n",
      "    \"from IPython.display import YouTubeVideo\\n\",\n",
      "\n",
      "    \"YouTubeVideo(\\\"8QeCQn7uxnE\\\",width=640,height=360, cc_load_policy=True)\"\n",
      "\n",
      "    \" \"\n",
      "\n",
      "link found\n",
      "    \"\\n\",\n",
      "    \"- [Boyd and Vandenberghe](http://vmls-book.stanford.edu/vmls.pdf)\\n\",\n",
      "    \"- [Heffron](http://joshua.smcvt.edu/linearalgebra/book.pdf)\\n\",\n",
      "    \"- [Beezer](http://linear.ups.edu/download/fcla-3.50-tablet.pdf)\\n\",\n",
      "    \"\\n\"\n",
      "\n",
      "    \"\\n\",\n",
      "    \"- [Boyd and Vandenberghe](http://vmls-book.stanford.edu/vmls.pdf)\\n\",\n",
      "    \"- [Heffron](http://joshua.smcvt.edu/linearalgebra/book.pdf)\\n\",\n",
      "    \"- [Beezer](http://linear.ups.edu/download/fcla-3.50-tablet.pdf)\\n\",\n",
      "    \"\\n\"\n",
      "\n",
      "    \"\\n\",\n",
      "    \"- [Boyd and Vandenberghe](http://vmls-book.stanford.edu/vmls.pdf)\\n\",\n",
      "    \"- [Heffron](http://joshua.smcvt.edu/linearalgebra/book.pdf)\\n\",\n",
      "    \"- [Beezer](http://linear.ups.edu/download/fcla-3.50-tablet.pdf)\\n\",\n",
      "    \"\\n\"\n",
      "\n",
      "    \"\\n\",\n",
      "    \"- [Boyd and Vandenberghe](http://vmls-book.stanford.edu/vmls.pdf)\\n\",\n",
      "    \"- [Heffron](http://joshua.smcvt.edu/linearalgebra/book.pdf)\\n\",\n",
      "    \"- [Beezer](http://linear.ups.edu/download/fcla-3.50-tablet.pdf)\\n\",\n",
      "    \"\\n\"\n",
      "\n",
      "    \"&#169; Copyright 2020,  Michigan State University Board of Trustees\"\n",
      "\n",
      "Moving to working directory\n",
      "Striping output cells\n"
     ]
    },
    {
     "data": {
      "text/html": [
       "<a href=MTH314_STUDENTMTH314/17--Linear_Dynamical_Systems-pre-class-assignment.ipynb target=\"blank\">MTH314/17--Linear_Dynamical_Systems-pre-class-assignment.ipynb</a>"
      ],
      "text/plain": [
       "<IPython.core.display.HTML object>"
      ]
     },
     "metadata": {},
     "output_type": "display_data"
    },
    {
     "name": "stdout",
     "output_type": "stream",
     "text": [
      "MTH314/17-Linear_Dynamical_Systems-in-class-assignment-INSTRUCTOR.ipynb\n"
     ]
    },
    {
     "data": {
      "application/javascript": [
       "IPython.notebook.save_notebook()"
      ]
     },
     "metadata": {},
     "output_type": "display_data"
    },
    {
     "name": "stdout",
     "output_type": "stream",
     "text": [
      "Date not found\n",
      "Removing existing student version\n",
      "Finding and replacing mailmerge tags\n",
      "    \" \"\n",
      "\n",
      "    \" \\n\"\n",
      "\n",
      "link found\n",
      "    \"\\n\",\n",
      "    \"- [Boyd and Vandenberghe](http://vmls-book.stanford.edu/vmls.pdf)\\n\",\n",
      "    \"- [Heffron](http://joshua.smcvt.edu/linearalgebra/book.pdf)\\n\",\n",
      "    \"- [Beezer](http://linear.ups.edu/download/fcla-3.50-tablet.pdf)\\n\",\n",
      "    \"\\n\"\n",
      "\n",
      "    \"\\n\",\n",
      "    \"- [Boyd and Vandenberghe](http://vmls-book.stanford.edu/vmls.pdf)\\n\",\n",
      "    \"- [Heffron](http://joshua.smcvt.edu/linearalgebra/book.pdf)\\n\",\n",
      "    \"- [Beezer](http://linear.ups.edu/download/fcla-3.50-tablet.pdf)\\n\",\n",
      "    \"\\n\"\n",
      "\n",
      "    \"\\n\",\n",
      "    \"- [Boyd and Vandenberghe](http://vmls-book.stanford.edu/vmls.pdf)\\n\",\n",
      "    \"- [Heffron](http://joshua.smcvt.edu/linearalgebra/book.pdf)\\n\",\n",
      "    \"- [Beezer](http://linear.ups.edu/download/fcla-3.50-tablet.pdf)\\n\",\n",
      "    \"\\n\"\n",
      "\n",
      "    \"\\n\",\n",
      "    \"- [Boyd and Vandenberghe](http://vmls-book.stanford.edu/vmls.pdf)\\n\",\n",
      "    \"- [Heffron](http://joshua.smcvt.edu/linearalgebra/book.pdf)\\n\",\n",
      "    \"- [Beezer](http://linear.ups.edu/download/fcla-3.50-tablet.pdf)\\n\",\n",
      "    \"\\n\"\n",
      "\n",
      "    \"&#169; Copyright 2020,  Michigan State University Board of Trustees\"\n",
      "\n",
      "Moving to working directory\n",
      "Striping output cells\n"
     ]
    },
    {
     "data": {
      "text/html": [
       "<a href=MTH314_STUDENTMTH314/17-Linear_Dynamical_Systems-in-class-assignment.ipynb target=\"blank\">MTH314/17-Linear_Dynamical_Systems-in-class-assignment.ipynb</a>"
      ],
      "text/plain": [
       "<IPython.core.display.HTML object>"
      ]
     },
     "metadata": {},
     "output_type": "display_data"
    },
    {
     "name": "stdout",
     "output_type": "stream",
     "text": [
      "MTH314/18-Decompositions--pre-class-assignment-INSTRUCTOR.ipynb\n"
     ]
    },
    {
     "data": {
      "application/javascript": [
       "IPython.notebook.save_notebook()"
      ]
     },
     "metadata": {},
     "output_type": "display_data"
    },
    {
     "name": "stdout",
     "output_type": "stream",
     "text": [
      "Date not found\n",
      "Removing existing student version\n",
      "Finding and replacing mailmerge tags\n",
      "    \" \"\n",
      "\n",
      "    \"from IPython.display import YouTubeVideo\\n\",\n",
      "\n",
      "    \"YouTubeVideo(\\\"-_2he4J6Xxw\\\",width=640,height=360, cc_load_policy=True)\"\n",
      "\n",
      "    \" \"\n",
      "\n",
      "link found\n",
      "    \"\\n\",\n",
      "    \"- [Boyd and Vandenberghe](http://vmls-book.stanford.edu/vmls.pdf)\\n\",\n",
      "    \"- [Heffron](http://joshua.smcvt.edu/linearalgebra/book.pdf)\\n\",\n",
      "    \"- [Beezer](http://linear.ups.edu/download/fcla-3.50-tablet.pdf)\\n\",\n",
      "    \"\\n\"\n",
      "\n",
      "    \"\\n\",\n",
      "    \"- [Boyd and Vandenberghe](http://vmls-book.stanford.edu/vmls.pdf)\\n\",\n",
      "    \"- [Heffron](http://joshua.smcvt.edu/linearalgebra/book.pdf)\\n\",\n",
      "    \"- [Beezer](http://linear.ups.edu/download/fcla-3.50-tablet.pdf)\\n\",\n",
      "    \"\\n\"\n",
      "\n",
      "    \"\\n\",\n",
      "    \"- [Boyd and Vandenberghe](http://vmls-book.stanford.edu/vmls.pdf)\\n\",\n",
      "    \"- [Heffron](http://joshua.smcvt.edu/linearalgebra/book.pdf)\\n\",\n",
      "    \"- [Beezer](http://linear.ups.edu/download/fcla-3.50-tablet.pdf)\\n\",\n",
      "    \"\\n\"\n",
      "\n",
      "    \"\\n\",\n",
      "    \"- [Boyd and Vandenberghe](http://vmls-book.stanford.edu/vmls.pdf)\\n\",\n",
      "    \"- [Heffron](http://joshua.smcvt.edu/linearalgebra/book.pdf)\\n\",\n",
      "    \"- [Beezer](http://linear.ups.edu/download/fcla-3.50-tablet.pdf)\\n\",\n",
      "    \"\\n\"\n",
      "\n",
      "    \"&#169; Copyright 2020,  Michigan State University Board of Trustees\"\n",
      "\n",
      "Moving to working directory\n",
      "Striping output cells\n"
     ]
    },
    {
     "data": {
      "text/html": [
       "<a href=MTH314_STUDENTMTH314/18-Decompositions--pre-class-assignment.ipynb target=\"blank\">MTH314/18-Decompositions--pre-class-assignment.ipynb</a>"
      ],
      "text/plain": [
       "<IPython.core.display.HTML object>"
      ]
     },
     "metadata": {},
     "output_type": "display_data"
    },
    {
     "name": "stdout",
     "output_type": "stream",
     "text": [
      "MTH314/18-Decompositions-in-class-assignment-INSTRUCTOR.ipynb\n"
     ]
    },
    {
     "data": {
      "application/javascript": [
       "IPython.notebook.save_notebook()"
      ]
     },
     "metadata": {},
     "output_type": "display_data"
    },
    {
     "name": "stdout",
     "output_type": "stream",
     "text": [
      "Date not found\n",
      "Removing existing student version\n",
      "Finding and replacing mailmerge tags\n",
      "    \" \\n\"\n",
      "\n",
      "    \" \"\n",
      "\n",
      "link found\n",
      "    \"\\n\",\n",
      "    \"- [Boyd and Vandenberghe](http://vmls-book.stanford.edu/vmls.pdf)\\n\",\n",
      "    \"- [Heffron](http://joshua.smcvt.edu/linearalgebra/book.pdf)\\n\",\n",
      "    \"- [Beezer](http://linear.ups.edu/download/fcla-3.50-tablet.pdf)\\n\",\n",
      "    \"\\n\"\n",
      "\n",
      "    \"\\n\",\n",
      "    \"- [Boyd and Vandenberghe](http://vmls-book.stanford.edu/vmls.pdf)\\n\",\n",
      "    \"- [Heffron](http://joshua.smcvt.edu/linearalgebra/book.pdf)\\n\",\n",
      "    \"- [Beezer](http://linear.ups.edu/download/fcla-3.50-tablet.pdf)\\n\",\n",
      "    \"\\n\"\n",
      "\n",
      "    \"\\n\",\n",
      "    \"- [Boyd and Vandenberghe](http://vmls-book.stanford.edu/vmls.pdf)\\n\",\n",
      "    \"- [Heffron](http://joshua.smcvt.edu/linearalgebra/book.pdf)\\n\",\n",
      "    \"- [Beezer](http://linear.ups.edu/download/fcla-3.50-tablet.pdf)\\n\",\n",
      "    \"\\n\"\n",
      "\n",
      "    \"\\n\",\n",
      "    \"- [Boyd and Vandenberghe](http://vmls-book.stanford.edu/vmls.pdf)\\n\",\n",
      "    \"- [Heffron](http://joshua.smcvt.edu/linearalgebra/book.pdf)\\n\",\n",
      "    \"- [Beezer](http://linear.ups.edu/download/fcla-3.50-tablet.pdf)\\n\",\n",
      "    \"\\n\"\n",
      "\n",
      "    \"&#169; Copyright 2020,  Michigan State University Board of Trustees\"\n",
      "\n",
      "Moving to working directory\n",
      "Striping output cells\n"
     ]
    },
    {
     "data": {
      "text/html": [
       "<a href=MTH314_STUDENTMTH314/18-Decompositions-in-class-assignment.ipynb target=\"blank\">MTH314/18-Decompositions-in-class-assignment.ipynb</a>"
      ],
      "text/plain": [
       "<IPython.core.display.HTML object>"
      ]
     },
     "metadata": {},
     "output_type": "display_data"
    },
    {
     "name": "stdout",
     "output_type": "stream",
     "text": [
      "MTH314/19--Inner_Product-pre-class-assignment-INSTRUCTOR.ipynb\n"
     ]
    },
    {
     "data": {
      "application/javascript": [
       "IPython.notebook.save_notebook()"
      ]
     },
     "metadata": {},
     "output_type": "display_data"
    },
    {
     "name": "stdout",
     "output_type": "stream",
     "text": [
      "Date not found\n",
      "Removing existing student version\n",
      "Finding and replacing mailmerge tags\n",
      "    \" \"\n",
      "\n",
      "    \"from IPython.display import YouTubeVideo\\n\",\n",
      "\n",
      "    \"YouTubeVideo(\\\"8ZyeHtgMBjk\\\",width=640,height=360, cc_load_policy=True)\"\n",
      "\n",
      "    \" \"\n",
      "\n",
      "link found\n",
      "    \"\\n\",\n",
      "    \"- [Boyd and Vandenberghe](http://vmls-book.stanford.edu/vmls.pdf)\\n\",\n",
      "    \"- [Heffron](http://joshua.smcvt.edu/linearalgebra/book.pdf)\\n\",\n",
      "    \"- [Beezer](http://linear.ups.edu/download/fcla-3.50-tablet.pdf)\\n\",\n",
      "    \"\\n\"\n",
      "\n",
      "    \"\\n\",\n",
      "    \"- [Boyd and Vandenberghe](http://vmls-book.stanford.edu/vmls.pdf)\\n\",\n",
      "    \"- [Heffron](http://joshua.smcvt.edu/linearalgebra/book.pdf)\\n\",\n",
      "    \"- [Beezer](http://linear.ups.edu/download/fcla-3.50-tablet.pdf)\\n\",\n",
      "    \"\\n\"\n",
      "\n",
      "    \"\\n\",\n",
      "    \"- [Boyd and Vandenberghe](http://vmls-book.stanford.edu/vmls.pdf)\\n\",\n",
      "    \"- [Heffron](http://joshua.smcvt.edu/linearalgebra/book.pdf)\\n\",\n",
      "    \"- [Beezer](http://linear.ups.edu/download/fcla-3.50-tablet.pdf)\\n\",\n",
      "    \"\\n\"\n",
      "\n",
      "    \"\\n\",\n",
      "    \"- [Boyd and Vandenberghe](http://vmls-book.stanford.edu/vmls.pdf)\\n\",\n",
      "    \"- [Heffron](http://joshua.smcvt.edu/linearalgebra/book.pdf)\\n\",\n",
      "    \"- [Beezer](http://linear.ups.edu/download/fcla-3.50-tablet.pdf)\\n\",\n",
      "    \"\\n\"\n",
      "\n",
      "    \"&#169; Copyright 2020,  Michigan State University Board of Trustees\"\n",
      "\n",
      "Moving to working directory\n",
      "Striping output cells\n"
     ]
    },
    {
     "data": {
      "text/html": [
       "<a href=MTH314_STUDENTMTH314/19--Inner_Product-pre-class-assignment.ipynb target=\"blank\">MTH314/19--Inner_Product-pre-class-assignment.ipynb</a>"
      ],
      "text/plain": [
       "<IPython.core.display.HTML object>"
      ]
     },
     "metadata": {},
     "output_type": "display_data"
    },
    {
     "name": "stdout",
     "output_type": "stream",
     "text": [
      "MTH314/19-Inner_Product_in-class-assignment-INSTRUCTOR.ipynb\n"
     ]
    },
    {
     "data": {
      "application/javascript": [
       "IPython.notebook.save_notebook()"
      ]
     },
     "metadata": {},
     "output_type": "display_data"
    },
    {
     "name": "stdout",
     "output_type": "stream",
     "text": [
      "Date not found\n",
      "Removing existing student version\n",
      "Finding and replacing mailmerge tags\n",
      "    \" \"\n",
      "\n",
      "    \" \\n\"\n",
      "\n",
      "link found\n",
      "    \"\\n\",\n",
      "    \"- [Boyd and Vandenberghe](http://vmls-book.stanford.edu/vmls.pdf)\\n\",\n",
      "    \"- [Heffron](http://joshua.smcvt.edu/linearalgebra/book.pdf)\\n\",\n",
      "    \"- [Beezer](http://linear.ups.edu/download/fcla-3.50-tablet.pdf)\\n\",\n",
      "    \"\\n\"\n",
      "\n",
      "    \"\\n\",\n",
      "    \"- [Boyd and Vandenberghe](http://vmls-book.stanford.edu/vmls.pdf)\\n\",\n",
      "    \"- [Heffron](http://joshua.smcvt.edu/linearalgebra/book.pdf)\\n\",\n",
      "    \"- [Beezer](http://linear.ups.edu/download/fcla-3.50-tablet.pdf)\\n\",\n",
      "    \"\\n\"\n",
      "\n",
      "    \"\\n\",\n",
      "    \"- [Boyd and Vandenberghe](http://vmls-book.stanford.edu/vmls.pdf)\\n\",\n",
      "    \"- [Heffron](http://joshua.smcvt.edu/linearalgebra/book.pdf)\\n\",\n",
      "    \"- [Beezer](http://linear.ups.edu/download/fcla-3.50-tablet.pdf)\\n\",\n",
      "    \"\\n\"\n",
      "\n",
      "    \"\\n\",\n",
      "    \"- [Boyd and Vandenberghe](http://vmls-book.stanford.edu/vmls.pdf)\\n\",\n",
      "    \"- [Heffron](http://joshua.smcvt.edu/linearalgebra/book.pdf)\\n\",\n",
      "    \"- [Beezer](http://linear.ups.edu/download/fcla-3.50-tablet.pdf)\\n\",\n",
      "    \"\\n\"\n",
      "\n",
      "    \"&#169; Copyright 2020,  Michigan State University Board of Trustees\"\n",
      "\n",
      "Moving to working directory\n",
      "Striping output cells\n"
     ]
    },
    {
     "data": {
      "text/html": [
       "<a href=MTH314_STUDENTMTH314/19-Inner_Product_in-class-assignment.ipynb target=\"blank\">MTH314/19-Inner_Product_in-class-assignment.ipynb</a>"
      ],
      "text/plain": [
       "<IPython.core.display.HTML object>"
      ]
     },
     "metadata": {},
     "output_type": "display_data"
    },
    {
     "name": "stdout",
     "output_type": "stream",
     "text": [
      "MTH314/20--LSF-pre-class-assignment-INSTRUCTOR.ipynb\n"
     ]
    },
    {
     "data": {
      "application/javascript": [
       "IPython.notebook.save_notebook()"
      ]
     },
     "metadata": {},
     "output_type": "display_data"
    },
    {
     "name": "stdout",
     "output_type": "stream",
     "text": [
      "Date not found\n",
      "Removing existing student version\n",
      "Finding and replacing mailmerge tags\n",
      "    \" \"\n",
      "\n",
      "       \"<IPython.lib.display.YouTubeVideo at 0x7f3fe012e240>\"\n",
      "\n",
      "    \"from IPython.display import YouTubeVideo\\n\",\n",
      "\n",
      "    \"YouTubeVideo(\\\"Lx6CfgKVIuE\\\",width=640,height=360, cc_load_policy=True)\"\n",
      "\n",
      "    \" \"\n",
      "\n",
      "link found\n",
      "    \"\\n\",\n",
      "    \"- [Boyd and Vandenberghe](http://vmls-book.stanford.edu/vmls.pdf)\\n\",\n",
      "    \"- [Heffron](http://joshua.smcvt.edu/linearalgebra/book.pdf)\\n\",\n",
      "    \"- [Beezer](http://linear.ups.edu/download/fcla-3.50-tablet.pdf)\\n\",\n",
      "    \"\\n\"\n",
      "\n",
      "    \"\\n\",\n",
      "    \"- [Boyd and Vandenberghe](http://vmls-book.stanford.edu/vmls.pdf)\\n\",\n",
      "    \"- [Heffron](http://joshua.smcvt.edu/linearalgebra/book.pdf)\\n\",\n",
      "    \"- [Beezer](http://linear.ups.edu/download/fcla-3.50-tablet.pdf)\\n\",\n",
      "    \"\\n\"\n",
      "\n",
      "    \"\\n\",\n",
      "    \"- [Boyd and Vandenberghe](http://vmls-book.stanford.edu/vmls.pdf)\\n\",\n",
      "    \"- [Heffron](http://joshua.smcvt.edu/linearalgebra/book.pdf)\\n\",\n",
      "    \"- [Beezer](http://linear.ups.edu/download/fcla-3.50-tablet.pdf)\\n\",\n",
      "    \"\\n\"\n",
      "\n",
      "    \"\\n\",\n",
      "    \"- [Boyd and Vandenberghe](http://vmls-book.stanford.edu/vmls.pdf)\\n\",\n",
      "    \"- [Heffron](http://joshua.smcvt.edu/linearalgebra/book.pdf)\\n\",\n",
      "    \"- [Beezer](http://linear.ups.edu/download/fcla-3.50-tablet.pdf)\\n\",\n",
      "    \"\\n\"\n",
      "\n",
      "    \"&#169; Copyright 2020,  Michigan State University Board of Trustees\"\n",
      "\n",
      "Moving to working directory\n",
      "Striping output cells\n"
     ]
    },
    {
     "data": {
      "text/html": [
       "<a href=MTH314_STUDENTMTH314/20--LSF-pre-class-assignment.ipynb target=\"blank\">MTH314/20--LSF-pre-class-assignment.ipynb</a>"
      ],
      "text/plain": [
       "<IPython.core.display.HTML object>"
      ]
     },
     "metadata": {},
     "output_type": "display_data"
    },
    {
     "name": "stdout",
     "output_type": "stream",
     "text": [
      "MTH314/20_LSF-in-class-assignment-INSTRUCTOR.ipynb\n"
     ]
    },
    {
     "data": {
      "application/javascript": [
       "IPython.notebook.save_notebook()"
      ]
     },
     "metadata": {},
     "output_type": "display_data"
    },
    {
     "name": "stdout",
     "output_type": "stream",
     "text": [
      "Date not found\n",
      "Removing existing student version\n",
      "Finding and replacing mailmerge tags\n",
      "    \" \"\n",
      "\n",
      "    \" \"\n",
      "\n",
      "link found\n",
      "    \"\\n\",\n",
      "    \"- [Boyd and Vandenberghe](http://vmls-book.stanford.edu/vmls.pdf)\\n\",\n",
      "    \"- [Heffron](http://joshua.smcvt.edu/linearalgebra/book.pdf)\\n\",\n",
      "    \"- [Beezer](http://linear.ups.edu/download/fcla-3.50-tablet.pdf)\\n\",\n",
      "    \"\\n\"\n",
      "\n",
      "    \"\\n\",\n",
      "    \"- [Boyd and Vandenberghe](http://vmls-book.stanford.edu/vmls.pdf)\\n\",\n",
      "    \"- [Heffron](http://joshua.smcvt.edu/linearalgebra/book.pdf)\\n\",\n",
      "    \"- [Beezer](http://linear.ups.edu/download/fcla-3.50-tablet.pdf)\\n\",\n",
      "    \"\\n\"\n",
      "\n",
      "    \"\\n\",\n",
      "    \"- [Boyd and Vandenberghe](http://vmls-book.stanford.edu/vmls.pdf)\\n\",\n",
      "    \"- [Heffron](http://joshua.smcvt.edu/linearalgebra/book.pdf)\\n\",\n",
      "    \"- [Beezer](http://linear.ups.edu/download/fcla-3.50-tablet.pdf)\\n\",\n",
      "    \"\\n\"\n",
      "\n",
      "    \"\\n\",\n",
      "    \"- [Boyd and Vandenberghe](http://vmls-book.stanford.edu/vmls.pdf)\\n\",\n",
      "    \"- [Heffron](http://joshua.smcvt.edu/linearalgebra/book.pdf)\\n\",\n",
      "    \"- [Beezer](http://linear.ups.edu/download/fcla-3.50-tablet.pdf)\\n\",\n",
      "    \"\\n\"\n",
      "\n",
      "    \"&#169; Copyright 2020,  Michigan State University Board of Trustees\"\n",
      "\n",
      "Moving to working directory\n",
      "Striping output cells\n"
     ]
    },
    {
     "data": {
      "text/html": [
       "<a href=MTH314_STUDENTMTH314/20_LSF-in-class-assignment.ipynb target=\"blank\">MTH314/20_LSF-in-class-assignment.ipynb</a>"
      ],
      "text/plain": [
       "<IPython.core.display.HTML object>"
      ]
     },
     "metadata": {},
     "output_type": "display_data"
    },
    {
     "name": "stdout",
     "output_type": "stream",
     "text": [
      "MTH314/21--Solve_Systems-pre-class-assignment-INSTRUCTOR.ipynb\n"
     ]
    },
    {
     "data": {
      "application/javascript": [
       "IPython.notebook.save_notebook()"
      ]
     },
     "metadata": {},
     "output_type": "display_data"
    },
    {
     "name": "stdout",
     "output_type": "stream",
     "text": [
      "Date not found\n",
      "Removing existing student version\n",
      "Finding and replacing mailmerge tags\n",
      "    \" \"\n",
      "\n",
      "    \" \"\n",
      "\n",
      "link found\n",
      "    \"\\n\",\n",
      "    \"- [Boyd and Vandenberghe](http://vmls-book.stanford.edu/vmls.pdf)\\n\",\n",
      "    \"- [Heffron](http://joshua.smcvt.edu/linearalgebra/book.pdf)\\n\",\n",
      "    \"- [Beezer](http://linear.ups.edu/download/fcla-3.50-tablet.pdf)\\n\",\n",
      "    \"\\n\"\n",
      "\n",
      "    \"\\n\",\n",
      "    \"- [Boyd and Vandenberghe](http://vmls-book.stanford.edu/vmls.pdf)\\n\",\n",
      "    \"- [Heffron](http://joshua.smcvt.edu/linearalgebra/book.pdf)\\n\",\n",
      "    \"- [Beezer](http://linear.ups.edu/download/fcla-3.50-tablet.pdf)\\n\",\n",
      "    \"\\n\"\n",
      "\n",
      "    \"\\n\",\n",
      "    \"- [Boyd and Vandenberghe](http://vmls-book.stanford.edu/vmls.pdf)\\n\",\n",
      "    \"- [Heffron](http://joshua.smcvt.edu/linearalgebra/book.pdf)\\n\",\n",
      "    \"- [Beezer](http://linear.ups.edu/download/fcla-3.50-tablet.pdf)\\n\",\n",
      "    \"\\n\"\n",
      "\n",
      "    \"\\n\",\n",
      "    \"- [Boyd and Vandenberghe](http://vmls-book.stanford.edu/vmls.pdf)\\n\",\n",
      "    \"- [Heffron](http://joshua.smcvt.edu/linearalgebra/book.pdf)\\n\",\n",
      "    \"- [Beezer](http://linear.ups.edu/download/fcla-3.50-tablet.pdf)\\n\",\n",
      "    \"\\n\"\n",
      "\n",
      "    \"&#169; Copyright 2020,  Michigan State University Board of Trustees\"\n",
      "\n",
      "Moving to working directory\n",
      "Striping output cells\n"
     ]
    },
    {
     "data": {
      "text/html": [
       "<a href=MTH314_STUDENTMTH314/21--Solve_Systems-pre-class-assignment.ipynb target=\"blank\">MTH314/21--Solve_Systems-pre-class-assignment.ipynb</a>"
      ],
      "text/plain": [
       "<IPython.core.display.HTML object>"
      ]
     },
     "metadata": {},
     "output_type": "display_data"
    },
    {
     "name": "stdout",
     "output_type": "stream",
     "text": [
      "MTH314/21-Solve_Systems-in-class-assignment-INSTRUCTOR.ipynb\n"
     ]
    },
    {
     "data": {
      "application/javascript": [
       "IPython.notebook.save_notebook()"
      ]
     },
     "metadata": {},
     "output_type": "display_data"
    },
    {
     "name": "stdout",
     "output_type": "stream",
     "text": [
      "Date not found\n",
      "Removing existing student version\n",
      "Finding and replacing mailmerge tags\n",
      "    \" \"\n",
      "\n",
      "    \" \"\n",
      "\n",
      "link found\n",
      "    \"\\n\",\n",
      "    \"- [Boyd and Vandenberghe](http://vmls-book.stanford.edu/vmls.pdf)\\n\",\n",
      "    \"- [Heffron](http://joshua.smcvt.edu/linearalgebra/book.pdf)\\n\",\n",
      "    \"- [Beezer](http://linear.ups.edu/download/fcla-3.50-tablet.pdf)\\n\",\n",
      "    \"\\n\"\n",
      "\n",
      "    \"\\n\",\n",
      "    \"- [Boyd and Vandenberghe](http://vmls-book.stanford.edu/vmls.pdf)\\n\",\n",
      "    \"- [Heffron](http://joshua.smcvt.edu/linearalgebra/book.pdf)\\n\",\n",
      "    \"- [Beezer](http://linear.ups.edu/download/fcla-3.50-tablet.pdf)\\n\",\n",
      "    \"\\n\"\n",
      "\n",
      "    \"\\n\",\n",
      "    \"- [Boyd and Vandenberghe](http://vmls-book.stanford.edu/vmls.pdf)\\n\",\n",
      "    \"- [Heffron](http://joshua.smcvt.edu/linearalgebra/book.pdf)\\n\",\n",
      "    \"- [Beezer](http://linear.ups.edu/download/fcla-3.50-tablet.pdf)\\n\",\n",
      "    \"\\n\"\n",
      "\n",
      "    \"\\n\",\n",
      "    \"- [Boyd and Vandenberghe](http://vmls-book.stanford.edu/vmls.pdf)\\n\",\n",
      "    \"- [Heffron](http://joshua.smcvt.edu/linearalgebra/book.pdf)\\n\",\n",
      "    \"- [Beezer](http://linear.ups.edu/download/fcla-3.50-tablet.pdf)\\n\",\n",
      "    \"\\n\"\n",
      "\n",
      "    \"&#169; Copyright 2020,  Michigan State University Board of Trustees\"\n",
      "\n",
      "Moving to working directory\n",
      "Striping output cells\n"
     ]
    },
    {
     "data": {
      "text/html": [
       "<a href=MTH314_STUDENTMTH314/21-Solve_Systems-in-class-assignment.ipynb target=\"blank\">MTH314/21-Solve_Systems-in-class-assignment.ipynb</a>"
      ],
      "text/plain": [
       "<IPython.core.display.HTML object>"
      ]
     },
     "metadata": {},
     "output_type": "display_data"
    },
    {
     "name": "stdout",
     "output_type": "stream",
     "text": [
      "MTH314/Example-Final-Exam-17F-INSTRUCTOR.ipynb\n"
     ]
    },
    {
     "data": {
      "application/javascript": [
       "IPython.notebook.save_notebook()"
      ]
     },
     "metadata": {},
     "output_type": "display_data"
    },
    {
     "name": "stdout",
     "output_type": "stream",
     "text": [
      "Date not found\n",
      "Removing existing student version\n",
      "Finding and replacing mailmerge tags\n",
      "Moving to working directory\n",
      "Striping output cells\n"
     ]
    },
    {
     "data": {
      "text/html": [
       "<a href=MTH314_STUDENTMTH314/Example-Final-Exam-17F.ipynb target=\"blank\">MTH314/Example-Final-Exam-17F.ipynb</a>"
      ],
      "text/plain": [
       "<IPython.core.display.HTML object>"
      ]
     },
     "metadata": {},
     "output_type": "display_data"
    },
    {
     "name": "stdout",
     "output_type": "stream",
     "text": [
      "MTH314/Example-Final-Exam-18F-INSTRUCTOR.ipynb\n"
     ]
    },
    {
     "data": {
      "application/javascript": [
       "IPython.notebook.save_notebook()"
      ]
     },
     "metadata": {},
     "output_type": "display_data"
    },
    {
     "name": "stdout",
     "output_type": "stream",
     "text": [
      "Date not found\n",
      "Removing existing student version\n",
      "Finding and replacing mailmerge tags\n",
      "    \"- Upload the newly renamed notebook to the D2L dropbox. \\n\"\n",
      "\n",
      "Moving to working directory\n",
      "Striping output cells\n"
     ]
    },
    {
     "data": {
      "text/html": [
       "<a href=MTH314_STUDENTMTH314/Example-Final-Exam-18F.ipynb target=\"blank\">MTH314/Example-Final-Exam-18F.ipynb</a>"
      ],
      "text/plain": [
       "<IPython.core.display.HTML object>"
      ]
     },
     "metadata": {},
     "output_type": "display_data"
    },
    {
     "name": "stdout",
     "output_type": "stream",
     "text": [
      "MTH314/Example-Final-Exam-19F-INSTRUCTOR.ipynb\n"
     ]
    },
    {
     "data": {
      "application/javascript": [
       "IPython.notebook.save_notebook()"
      ]
     },
     "metadata": {},
     "output_type": "display_data"
    },
    {
     "name": "stdout",
     "output_type": "stream",
     "text": [
      "Date not found\n",
      "Removing existing student version\n",
      "Finding and replacing mailmerge tags\n",
      "      \"image/png\": \"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\\n\",\n",
      "\n",
      "    \"- Upload the newly renamed notebook to the D2L dropbox. \\n\"\n",
      "\n",
      "Moving to working directory\n",
      "Striping output cells\n"
     ]
    },
    {
     "data": {
      "text/html": [
       "<a href=MTH314_STUDENTMTH314/Example-Final-Exam-19F.ipynb target=\"blank\">MTH314/Example-Final-Exam-19F.ipynb</a>"
      ],
      "text/plain": [
       "<IPython.core.display.HTML object>"
      ]
     },
     "metadata": {},
     "output_type": "display_data"
    },
    {
     "name": "stdout",
     "output_type": "stream",
     "text": [
      "MTH314/Example-Midterm-Exam1-17S-INSTRUCTOR.ipynb\n"
     ]
    },
    {
     "data": {
      "application/javascript": [
       "IPython.notebook.save_notebook()"
      ]
     },
     "metadata": {},
     "output_type": "display_data"
    },
    {
     "name": "stdout",
     "output_type": "stream",
     "text": [
      "Date not found\n",
      "Removing existing student version\n",
      "Finding and replacing mailmerge tags\n",
      "Moving to working directory\n",
      "Striping output cells\n"
     ]
    },
    {
     "data": {
      "text/html": [
       "<a href=MTH314_STUDENTMTH314/Example-Midterm-Exam1-17S.ipynb target=\"blank\">MTH314/Example-Midterm-Exam1-17S.ipynb</a>"
      ],
      "text/plain": [
       "<IPython.core.display.HTML object>"
      ]
     },
     "metadata": {},
     "output_type": "display_data"
    },
    {
     "name": "stdout",
     "output_type": "stream",
     "text": [
      "MTH314/Example-Midterm-Exam1-18F-INSTRUCTOR.ipynb\n"
     ]
    },
    {
     "data": {
      "application/javascript": [
       "IPython.notebook.save_notebook()"
      ]
     },
     "metadata": {},
     "output_type": "display_data"
    },
    {
     "name": "stdout",
     "output_type": "stream",
     "text": [
      "Date not found\n",
      "Removing existing student version\n",
      "Finding and replacing mailmerge tags\n",
      "      \"image/png\": \"iVBORw0KGgoAAAANSUhEUgAAAREAAABkCAMAAACW0vR6AAAAPFBMVEX///8AAAAAAAAAAAAAAAAAAAAAAAAAAAAAAAAAAAAAAAAAAAAAAAAAAAAAAAAAAAAAAAAAAAAAAAAAAAAo1xBWAAAAE3RSTlMAMquZdlQiEEAw7USJ781m3btsetoY3AAACHFJREFUeAHtXeuapCgMRUWdHe/D+7/rhrtiADtQ+233WD+6QIUcjiEocKpZI9SnZX/7Z9dEMNaIjsOn/9sJYZukoRWSkeHrZAybKTNtfLoV7wk13irJHvgIhp7IyHhovNvej2O/8xB9+4iSmW9zExa95YfFsn89VQPDHQGVkVW3uN1HhfIwBDnI4+qS8cQKHXXcs9w1YkbrqIABQUBkZOsURm772yj0AY98vrmNP2dS2yIT8xPubmXhQAUMGAIiI/rGjsK5Rme5sdhH1VybQ78PNbr1QrsZeknqYAUMGAIaI8OuoHLhOnh/8+z1Hm+D9gnFyCRyg9zQYLGmBgYMQYSRsZvnTiIdZ85n2baG9xu3Ds51HznE1OlPOwh7zjZ7DvuRPWG/TU+bRKx/GZPDIYE369I1MDa6iytgQBHgjAwLsNEsA2uUax6c6biuXYOxQ/vGLppWP9Qco5C9ZOZda/vAFlJkmbDfg3arJsaIN7kqZ9oBBhtc76yAAUWAM7LK1vRLw3YV5RvRTItsqb1Bu3b0VTRmFJgVIx0Q1dnQ0lv6LAPh96CjcWwkYd6k7u6Hikyuo1bAgCJAGXEjR2P6ONzNXRzcjZOLjhGtcLGikUG2A342eMBRn8YmQiZsHvVZe1J+O5OGEeV0zqMqYEARoIw4R+5Nk6G547wKN8QaNKdwutl753wkywjTca2PRlZn0jCivC9kpAgDhgBl5O4j3SA7zWZ9wngs213PWM1gO0JX05/JnTMHbl/6sW6Ljb7eJMpIDQwYApQRpuIIRBK2qAGjEdOkQkhrRlsT1SDOmchinYmvNtSwbGRl2PPRiTZvEmWkBgYMAc6IfpOYYaxRt3ydTZg7TCRxI2uzKAY2042gPa7XyKCS+cjb7J0qvFhHVmlS30r9194DVgUDggBnhI1tx4EQGO3kgwnEz2ne4K3MBtJTj+AtXDDbIVcOj3ocYqvtPmFLfV4+7LTRy6xJOcK3o/rb9IdY1FAMiHyvpGNAEEQY8ajxFPp6pm73YELs6AHjVRQf/RAGIiPmLStolcS4qQcX+bAWnKye/RAGIiPMRpRLO5uZz2Zi5NFswKXw1zOfwUBlxM7WxNqBoo1dTDz+GQxURpib0UObs5lBCT1Z7eBHMJAZqdas/1tFLyPhHXkZeRkJGQjzr4+8jIQMhHmij9wXfsKK/4N8DRD3OmiMIAs/NAZ688xPKV0DBFIHiRFsWoHQprGd29h0Ub66GiCwOkiM6Bkc8tLTqbXRCbTTNZFkDRBYHSRGsIWfCO7M4QJGaoDA6qAwgk5hZ5oeOU1npAYItA4KI+jCT6TJmcN0RmqAQOugMWLmo/MzqRlCYHbfz0fmrr2eR1efrpdkc2gdFEZQZ8uaRy+gM1IDBFqHZOSX+AeFGz2ILfxEL06eoDOSXf9K2jUnsYb8oey6whZ+ngC4X1PASA0QWB2UXpNbero3PHqkgBHs6SpqJ3ICq4PECEMWfiI2M4c5ObLCQnly/Stj2JxG6qAxgiz8PENwvaprF7HKLRakTw0QSB00Rkgt+CaFXkbCG/Uy8jISMhDmXx95GQkZCPOvj2CMjJz6AhrW9hPyA2zzIOlrfkLj0Ta8vSakpZwRt2UBE2N9WIvlbLN6xh8zQhRCpbVY9/Wj8I4l825LTUQJljLOYcPyoTYRNrvQm1S1rceMxLavZ4RQyd1XyPpRkoHwpLHNYkqwpPHRqT16s/vxi4yEaEw+K4RK7NDDZiciZtDDdmteXAmWMM7YYjVRF0LYYx9BMcEkhdpelRBjJbRY2PpRxAx62GzfpBlnbDVSBn7dUfuYEbIQKq7FwtaP0KbjB40Ii6WUYHHjjLVaqjMEKwpZRoqFUG63dtgudCb8fNEzIRhLKcGixsHOrHUP1z4DYoDMzHO5ECqqGEDXj06MPBSCgQwnrgSLGgc7m9pir/rM3B2dfW7PMVIuhIpqsdD1oxMjD4VgEA/iSrCocbADPw4A2/hln5EKgNaK6C6MjOvpY+JNsRAqqjzK9BpzWiLX2oOIEAzigRUwwKWBEixqHHhQEVn1GRmi3auMZOTX78QKVrEQKg4KWz/yPvJUCAYd38XGmxIsbhwMiZ1tiswd/g6W1z+/T/R4OC5VLoQ6qT5crTqBrR/5S+4+EhGCpZRgceNgaBej4xJ4NYHk0ms8HJcqF0LFg1vmCe2pECylBIsbhxYe4rDhFOixWo8sI2qjWIkQKqHFQtaP3K0AP1Y/KfFACAZKsZgSLGEc5GK2o4BRP0xnGTHaK7oQKqHFQtaPTox8QQjGYiqshHEYfv2jiH0hAPM5Rs4IsbR5kr6eOouxPqjFQm1r4Z9Rgj01PkE8mczgWsrIidwTKxKrEWMlX7ZORQhJ3LZ61fqa8Wbt+97GlFJGcmKs5As5gYVLEVzW5JVgT40v6scPTNXFjLhZmwtWl8FBu9NliYxt/G7lTBYzkhZjfViL5WcVsXbSjJczgmH5zsdeRsK79zLyMhIyEOZfH3kZCRkI80QfKVx6sijKqikrbTGE3zRGSpeeDIqyaspKWyJuKjASI5mJDWss911WTVlpjQ1TgZEYKV16MlSVVVNW2t2t265rEiOFS08WTVk1ZaUthruehcJIZhLdGcskyqopK+2hVfGR3NKTN5dMlVVTVtoDq8RIFQ1WbgXLo8ZSZaV9jVUYqeSwZdWUla7MSBX5E2BKr2B50HiqrLSrs4qPmF9su9XlrDxMpFewcpWUlXa131pBGWtqabDKnrHKSldmpIr8CTClV7Ac6EiirLSt9KYCI/mI+q3j+M//WWPZ78wKVqZ8WWldOaICozGSwfqtT7+MhLfvZeRlJGQgzL8+8jISMhDmtY+8/+NI8eL+x9Eo/7UPR/4vT0jfT8+r/3HEOfsXY4JzDC++kv4AAAAASUVORK5CYII=\\n\",\n",
      "\n",
      "      \"image/png\": \"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\\n\",\n",
      "\n",
      "Moving to working directory\n",
      "Striping output cells\n"
     ]
    },
    {
     "data": {
      "text/html": [
       "<a href=MTH314_STUDENTMTH314/Example-Midterm-Exam1-18F.ipynb target=\"blank\">MTH314/Example-Midterm-Exam1-18F.ipynb</a>"
      ],
      "text/plain": [
       "<IPython.core.display.HTML object>"
      ]
     },
     "metadata": {},
     "output_type": "display_data"
    },
    {
     "name": "stdout",
     "output_type": "stream",
     "text": [
      "MTH314/Example-Midterm-Exam1-19F-INSTRUCTOR.ipynb\n"
     ]
    },
    {
     "data": {
      "application/javascript": [
       "IPython.notebook.save_notebook()"
      ]
     },
     "metadata": {},
     "output_type": "display_data"
    },
    {
     "name": "stdout",
     "output_type": "stream",
     "text": [
      "Date not found\n",
      "Removing existing student version\n",
      "Finding and replacing mailmerge tags\n",
      "       \"<IPython.lib.display.YouTubeVideo at 0x7fc3a4249f60>\"\n",
      "\n",
      "    \"from IPython.display import YouTubeVideo\\n\",\n",
      "\n",
      "    \"YouTubeVideo(\\\"bowLiSlm_gA\\\",width=640,height=360, mute=1)\"\n",
      "\n",
      "    \"- Upload the newly renamed notebook to the D2L dropbox. \\n\"\n",
      "\n",
      "Moving to working directory\n",
      "Striping output cells\n"
     ]
    },
    {
     "data": {
      "text/html": [
       "<a href=MTH314_STUDENTMTH314/Example-Midterm-Exam1-19F.ipynb target=\"blank\">MTH314/Example-Midterm-Exam1-19F.ipynb</a>"
      ],
      "text/plain": [
       "<IPython.core.display.HTML object>"
      ]
     },
     "metadata": {},
     "output_type": "display_data"
    },
    {
     "name": "stdout",
     "output_type": "stream",
     "text": [
      "MTH314/Example-Midterm-Exam1-20S-INSTRUCTOR.ipynb\n"
     ]
    },
    {
     "data": {
      "application/javascript": [
       "IPython.notebook.save_notebook()"
      ]
     },
     "metadata": {},
     "output_type": "display_data"
    },
    {
     "name": "stdout",
     "output_type": "stream",
     "text": [
      "Date not found\n",
      "Removing existing student version\n",
      "Finding and replacing mailmerge tags\n",
      "      \"image/png\": \"iVBORw0KGgoAAAANSUhEUgAAAXoAAABoCAYAAAD/yTu0AAAABHNCSVQICAgIfAhkiAAAAAlwSFlzAAALEgAACxIB0t1+/AAAADh0RVh0U29mdHdhcmUAbWF0cGxvdGxpYiB2ZXJzaW9uMy4xLjEsIGh0dHA6Ly9tYXRwbG90bGliLm9yZy8QZhcZAAAgAElEQVR4nO2dd3hURdfAf7PpJEAiNSAlIkVBjBQRQUABKSKIoFL0VRGCICCfCGIv2AA1KFIEREXF15cOUlQUqRJ6FyJVqtQlCSEhZb4/TkIC2U3d3Ww283uefZLdnTtz78nNuWfOnHNGaa0xGAwGg+diKewTMBgMBoNzMYreYDAYPByj6A0Gg8HDMYreYDAYPByj6A0Gg8HDMYreYDAYPBzvwhi0bNmyunr16oUxdJFh8+bNZ7XW5fJ6nCNke/kyHDwIpUtDQAB4e4OXV8bL2xssRdhEyK9swdy7OVHYsk1JSeHs2bOcOXMG/9RUymtNYHIy8YDy8cHfxwfvxEQoVQrKl4egoAKNB5CcnMyxY8c4f/48pbSmMhAApKS9vC0WLKmp8o9TrhxUqpTvsfIr30JR9NWrV2fTpk2FMXSRQSl1JD/HOUK2L70EY8ZAQoL9NhYLBAdnvEJCrn1v75XerkQJUKpAp5lv8itbMPduThSmbHft2sUDDzxA8+bNeTc0lJt++AE1bBg8/TRxfn7MnDmTyMhI7rz9diY2bYr3xx9Dz57wxhv5vhmjoqJo2bIlpUqVYt3dd9Nk3TpUixbw0UfE1KrFyy+/zNdff02onx/b27cncM4c+QfYtg18ffM8Xn7lWyiK3uDeNG0qP5cuhZo1wWq99nXhQtbPrFbYuzfj90uXsh/D2zvnh4Gt18mT8j/ywguF96AwuB8HDx7k/vvvZ8yYMTyelASjRsG6dRAWBkAQEBERweOPP86jjz7Kkxs28F1UFKpdO/D3F+smj+zbt4977rmHtm3bsqhJEyxvvw0//ACPPQZAKWDChAl8/PHH1K9fnyrLlvHPjh0E3XUXNGoEO3Y4UALZYxS9IQuxsfKzZk2oUSN/fVy5Ahcv2n4g2HtoHD+e8fvly9n3X6IEDBiQv3MzOB+lVBVgBlARSAWmaK0/ddZ4AwYMYNiwYTzeqZMo9z//vKrkM1OiRAlmzZpF06ZNmbN2Ld2XLoX69aFHD6hWLU9jdu7cmXr16rF4zhwIDIRPPrmq5DPj7+/Prl27qFSpEo+/9BLzt2+Hm26CKVMgIiLf15wXipei370bZsyAo0dBa6hcGZ54Am6/PWvb5GQ4dUrMSAf48YoSVqv8DA7Ow0EXLohst2yB+Hh8g4Mp17495Tp3Bh+fa9umpsL58yLj8uVtOvwTEzMeFJkfBk8+Kd916ZL/6zO4hGRgmNZ6i1KqJLBZKfWr1nqPoweKjo5m27ZtLFiwAL74Atq3hzp17LYPCAhg5MiRTJw4ke7du8Pjj4vSfe+9XI956NAh/v77b3bu3Cmun6AgeP55u+19fX0ZNWoUzz//PMmzZ+Pdvj2MHu0yRV+El9TywPr10KoVtG0rPoMHHoAHH5SncKdO0Lw5rFoliueDDyA0VJRTlSpQsqT40rp0gUOHCvtKXMKFC/KzdOlcNu7XTyyUDRtEzt27Q3g4jBsnVtVHH4ly/+03mbKmL0qFhsrq7m23wbx513Tr5yfPgFq1oEkTaNdOjKUnn4QKFQq0nmVwAVrrk1rrLWm/xwJ/AZWdMdaUKVPo06cP/v7+orAHDszxmIcffpg9e/awb98+mRpOmyb3aC4ZNmwY1apVo27dujB9ujwscqB///54eXkRGRkJkZES8XAk30saecLzLfpFi6BPH5lW9eiR1bp8/XWYMwceekgcyxYLdOsmyqliRfnjT50KH34ofowBA2DChMK5FhdhtYqB4p3T3XHqFLRuLcp93z7RzJl57jnYuVOslvffl44bN4bly+G++6TNxo0wfLg8HMLCxAGfzQzKas3jTMNQ6CilqgN3AFHO6H/nzp0MHTpUZunR0XDXXVe/mzJlCjNnzgSg04kTtDl9+up3cy5dIqZBA7b5+Mj0MSQk1ws/Q2Nj8fLyYltwsBz7zTfw/fcAWC9eBKBVy5awcqUcoDUWi4WaNWvy559/yj3v5yf3fx5dRvnBsy36rVtFyS9ZIi6a65U8iDarWxdiYuRGWb4cvvtOlDyI4u/fX6z5OXNkativn2uvw8XkSpkmJcmsqHt3efBdr+TTqVsXzp4V+UZEQFRUhpIHUfx//AFnzkB8PNx8c7bhPhcuGEVflFBKBQFzgKFa6xgb30copTYppTadOXMmX2MkJCQQEBAgRllqqswS05g5cybbtm0DoM3p09wcF5d5cK5W783ryr7WqMzH5PJ4f39/4uPj5Y2XV85RCw7CIRa9UuowEIuEjSZrrRs5ot8C8+678Oabokyy4957oVkz8Qu8+66Em9iia1dYuFDcPd27iz/BBbhavrlS9PPmSbTCW29l3y4iQlZZd+6UcJ5Ro8Rtcz033AD798ONN8rsatkyu+d2ww25uoxc4bb3rgeglPJBlPz3Wuu5ttporacAUwAaNWqUr5rpISEhnDp1ShRn6dISmlU5w0sUHh7OH3/8ITNPIPyPPwC47777GD58OB1atIAyZeD0abGyc0H9+vWpUqUKixcvlmSTyEjo2xeAVmnjZB4znXPnzlGrVi1xEyck2FwwdgaOtOjv1VqHu80/yvHjsGKFKO/sWLJEFgYXL5aY2k2b4MAB++07dpSp4csvO/Z8c8Zl8s2Vop80CQYPzt6SSU2FmTPFPXbLLfDww+LPtEeJEjB5ssyq7Fj1TnLduNe96wEoMXe/BP7SWn/izLE6d+7M92luE7p1EzdKDhw9epTt27dzzz33SEhku3a5VvIAvXr1YsWKFaSmpooBM25cjsecOnWKQ4cOMXjwYFmI9fOT9UEX4Lmum9mzxQIvWTL7dq++Koo7KEiezL16wY8/Zn/M2LHiS87k7/MkclSmJ09KDHDXrtl3NG2aWC7Dh8v7vn1F8WfHo4+Kwn/77fydm8FdaAY8AdynlNqW9urojIF69OjBn3/+yaFDh2QNbfJkue+yYcqUKfTu3ZugwEBxPeZiATczL774IsnJyUydOlXW8/bsgX/+yfGYihUr0qRJExg/Hh55xGUp5o5ajNXAL0opDXyRNh0rXP79VyJBbDF6tIQCBgeLwmrcWBYOg4Ph8GHYtUuCyDdtEmWWaXEHEDePv7/MAp5+2umXgovla7VCvXrZNDh9WqbGttY8Nm2SdRE/P1nXCAyUf6LgYJlaHzokyv7IEQmf6dMnax/Nm8Ovv0oEVCa0doqid7971wPQWq8BXJLSVqJECQYNGkSfPn1YtmwZfrffLrPNiRNttt+wYQOTJ09m7dq14nr085OIvDzg7e1Nr169eP7552m/bx/Vbr1VwsPsROb99ttv/PDDD3z++efwn//AuXNiMLoIRyn6ZlrrE0qp8sCvSqm9WutVmRsopSKACICqVas6aNhs8PKClBTb3y1cKIt/oaGiPf75R/zDVmvGMb//Lj+/+sq25e7nJ324hmzl62jZ5qhMs5PtunXij2/dWrKmUlIk8slqzXDH9O6d0d6Wog8JkdCz67h8WdaAHazo3e/eNeSZ119/nb/++ouOHTvywxdfUL5XL7m3kpKuGiQaOH/+PJ06deLbCROoNWmSrMetXJkvy3r69Ons3LmTW265hWWzZ9PiqaegatWMsOw0Tp48Sbt27ejXrRsD5s8X1+SSJfYDGJyAQ+YNWusTaT9PA/OAO220maK1bqS1blTO1mKco0kP1bOF1QotW4rA/f1lgfDsWbkpHntM3AZLlkhbewkNiYmygOMCcpKvI2WbmirRYtkq08qVZQ0kLYzsGtKzrZYtE8u8Th1x9Vy+LFFLjRtLrQQvLyksZYsLF2QmYKfrkJC8XVN2uOW9a8gzXl5ezJw5k8aNG1O7cWP6hIVx7N9/0VFRJO/axc/PPce+qCjO7N3L1qZNad+/v9yX69bJzDIfWCwWNm7cSOvWrWnVqRNhSnHUxwe2bCF17Vp+DQ9n/6pVXI6O5mDZskyePVsSCtescVkgx9VzLWgHSqnAtMw3lFKBwP3AroL2W2AeeUTC9o4fz/pdZpO1Vq2MBcJz5+Dnn8WNU6WKfGYra3bNGrFOH3zQKaeeGVfLNzZWlH22ij4kRLIPZ8zI+p3VKtaMt7ckme3cmeEv/fJLcePUri1ytzddXrMG2rSx2TU4zqJ323vXkC+8vLz48MMPOXjwIPWbNqVHTAxbfXw4FRND+TlzqGGxUDsoiMoNGkiW/H//W+AQLovFwqJFizh16hQt2renfnw864GzycmE79jBTUCYt7fMBJcvFy9AejEpF+IIi74CsEYptR3YACzWWtuOjXMlJUtKFE1kZNbvMiv699+XzNm4OFkgeeghsdSz0yojRsgDwDVTL5fKN9fKdOBAkdf1RWkyy7ZfP7Hcx44Vhb9hQ0YtEHv+of/9T+LpbSzGOlrR4673rqFAhISEMHToUNasWUODJk248e67uePUKXwaN0bVry8h1w5OrS5fvjzffPMNFy5c4K6WLSnfsiXlUlOxtGiBatZM7v3M+SMupsA+eq31QcCG2esckpPFc5CUJLWIsuXKJzJV+ukkVAyVz3QqxC+G2WGwEaAjWFZB+T2Q0g7uaACtgHN1gBUwsgFkLoFx7hzseh9uqy/tMhETIzlaIK5/R+Bq+eZamd5zj7hhevaUKKX00LTMGU0Wi/jj33lHwjE//lgim9IHun6Q+Hh49lmx5v39swyZXprBUYre1bKNihJvVliY+5VwSE/gHDcu25IthiJKkQyvjI3NqLCYLb5+8jQ4fAT+jobL8RluhPT8/oTLMn27HA9+/uCfprCubwdw9oxE5FQMdWzWjhuRa0WvlLi8vL0lKWTZMvH5ZFbgly7JwyApSaasLVvK54mJMhPIPMjZs5IV6+sL8+cX7NzcmJQUOHassM/CUNwocrVuvL3hzrTlsrQEtxwIhH/DxFT58su0urvrIaytKKtdm+Gpp8Rf/PA9EJUqiT1tb4XXXoOFp2DuNxKS+c8/MDD7WjfXJcIVOfKkTP38xNXy9dfwyiswaJB0ULq0FHlaulQs/2XLpN53WJgUNUuv/R0cLLU+XnxR/PLpC+g2rPk8n5sb0qQJtGghv+fu3nUd6fetseY9kyJp0eeZChUkJvvo0Ywkn7Aw8SEfPSoJD+3aSRTJm29KRu1rr0m7ihXl7g8Pl4zZYlDQDPKgTC0WCWPbvPlqUSdCQsQfuXWrWOdt2sj3y5eLT6t7d2k3eLA8tS9cgLlzJcQ1h4JmkMuqmh5ASkoKyxYsILJRI9YHBXHE15cT/v6cDAvj8tixV6Oejh07xovt2/O7tzfxSpGsFFeUIi4wkOSXX5YwV0Oxpngo+nT8/ERhgyQtdO+e4TMGmS6MHAknTsDQoZKhGRsr/yjz57usLkVhku8QRqXEZE1JgbvvFuV/fcz5ffeJBR+VVsTwu++k/Y4duSowb7WKsW/H4PcofvnlF14MDaVx9+48evkyoe+8Q/LCheyfPJmvqlVj6auvcrliRb4KC+NclSqM+fln6gcHc6B/f9a8/TaT2rdn1pUrJHz4ISn+/i5NzjG4H0XOdVNgcmuyxsSItiumm47YC3HPllwF4WcapHr1PCWqFJfyB3PmzGHjU0/xfmAgARs3ZhgnQA2gxVNPcezYMRrWqMH2w4ex+Plh2bOHsjfdRNm0dq3Sfo4fP55jQ4bwwYgRWKzWPG2uYfAcipdFD7k3WYuLVrkOq1WUfKZKr7knNlZcM7mRLeRZvlarY5Ol3JHdu3fz7TPP8E5AAAHr11+j5DPz/PPP83VSEpe8vDgXHCxuMRsMHjyYZgsW8DSgP/hASksYih3FR9GnpEgs6/r18t5WVmdmirGiz9dlHzggpQ7SO8lut558xkkWhz/JuHHjGFuxIr6jR8uMxwYJCQlEzZtHY62xzprFU1eukDpmjF2Zd+7cmYtdurDJ1zejwJyhWOH5iv7s2Yzdofr0kYBhpSQapH17qXuT/g8SGyuV7554QhYPDx+WrclctDmAO5CnjT1SUqRKaHo9//Hj5fMvv5Ts108+ybDeU1PF6uzfP6Pdp5/maXtGT1f0VquVDT/+SI0zZ2xuMp3O22+/TaSXF6pyZap37UpSgwZYU1LsWvUAkZGRDElMRO/Y4bFVVw328WxFv3WrTH2jo0Uh7doF998PZctKMHPv3rKx7yOPSARItWoytW3dWlb8qlSRmjdVq0oIYDY7H3kKuVamcXHQuTOMGSNJTv/8IyGoIKURZsyQh+Udd8hC4C23wAsvSO2bWrXEN5ScLHH2DzwgWxE66tyKKL///jv9qlTB0qWLBALYYc6cOdzv5SUltYHejz/O0tKl4aef7B4TFhbG0cqVuezjIw9iQ7HCcxV9dDR06CDx89OnS/w2ZGgLf3+x3H/9VYKa58+XGO45cySuPikJGjaUz7duFeu+XTuPt+5zvY1g9+5SKmLtWrE+fX2vXf9o2lTCLRs0kE1a3n0Xtm+H//s/CXcNCRGL/+hRefi2bCkljrPB07cRvHDhAhUDAmyX1pgyRR6QwcFs3L+fUomJ8PnnEBxM70GD6LZzp8xGlcp4XUdISAiXLRbZ69dQrPBcRT9ggGwqkh6znU5mTaa1uHO6dJF4+T//zPg8c7uqVSUxqHp1Ccv0YHKl6L/6SmY306dfW5P++kXWb78V5T58uOzik658Mg8SECB5Cl98ITMEW0XocFoterfC39+f+NTUrPWDQGr4HzwoM6l00upsaK2l8HsO+5YmJibirXU+Q6oMRRnPVPR//SXV6fr3z/pdZm2xYYPsDDNlimRrpm9UEBeXtYSjxQJTp0oceHpBGw8kR2WqtSSNvfrqteUh0g8G6SAlRZLPvvtO2v7xR0buv61BunSR3aU+/9zmsJcuSZeerOhvu+02lhw7hv79d9vFkoKCoHlzHmnTht1+fuIWs1oZ0a8f0XXqyAypZUvJKEsvN5FGcnIy1oMHZSaQx002DEUfz1T0U6fCM8+IO+F6MiuZCRPE8k8vqbt/vyh+eyGYvr7y8LCzc01RJzU1I33ALhs2iMXZunXW7zIH4S9bJq6d9G0ae/eWrQXT29kaZOBA8R/bWAsp6uUPckP9+vX5p0YN4i5cEJeYHT766COGJyai16/n0smT/PLNN9x67JiUnbDD2LFj+RBkfSq9DoOh2OCZin7PHvub7lqtsnA4dapUXaxRQxYN//lHLKRdu7LXKn36SB1rDyQmRgzJbJXp7t0SYWMr0clqFVfO1KkS6dSkiYSz7t0rexPu3JnRztYgtWrJYm367l7XdQ2eregBnhs0iCleXqS+8YbdfU/r16/PnqpVifHy4vi99/JRcDBePXvarQ0RHx/PV++/zxNaowYMcObpG9wUz8yMTUiwnydfpYqk4Ken4T/88LXfL16ccawtrRIaKouRly9fWz7BA8iVMk1MzChJfD033iiySVcma9ZkrQ3k7y8lJe65x3YfYWE2w/+Ki6Lv2bMnPefMYfvatdT/z3/w+vprmzPTBQsW0PmOO1ixbx81SpXKsr9uOnFxcdxXuzYbLl3Cq2ZN2SPVUOzwTEVfpozUq7HF+vUSL3/8uESE/PyzaBGrVSJDmjSBcuXEtLW1E4zWYmld75/2AHKlTG+4QbZgs8WLL4r75eJF6NEDOnWCunWl44ULJRKqTRuZOjzzjO0+kpJsytYZ2wi6IxaLhW9mziSid2+e/ukn6t98M0GvvIJfWq6HBlb99htRr7/Oe76+HLxyheoxMcRWr07ga69dnaInJSfzWo8eNJ01i7WpqajatbFs25avvVENRR+H/NWVUu2VUvuUUvuVUiMd0WeB6NxZFgFtYbHIFPeWW+RnxYrin2/ZEs6fl4XZyEgJy7QVy7xrl1j1maNNnIyr5JurhNW2bWHVKvsbo5coIfK5/XaZ9XTsKPHeR49KzsKYMRIG2Lhx1mO1lhDXm27K8pWzLHq3u3eR6JuvZ80i4Ycf+Dw0lD+GDCF59WpSLl7k0qpV1G3XjidOnaLBhAkEHT7MkC5dWBoXx5URI9ArV6IvXsSydi0f/PgjLUuWRH32Gd579ri8Gpw7yra44og9Y72ACUAH4Fagp1Lq1oL2WyAefVRisvfvt99GKbEqJ0+W9198IaGT2SSqALJTUt++jjvXHHClfHNt0XftmnPSTZ8+4qtPThbl/c8/YuFnx6pV8tPGTMoZit4t7900LBYLHR54gDejorjt8GHi69ZFBwTgVacOZf7+m9CDBynRty8Vq1Vj4vz5dE9KYvmCBZwNDSXFx4cr1aphiY4mxGrFe/Bgl1vy7izb4ogj/vp3Avu11ge11leA/wI515x1JgEBkpjz5JO2Y5LT6d9fYr0XLhTFNWhQ9v2eOCELsf36OfZ8s8dl8s21Mn3hBQnl27LFfpvwcMk/mD5dEtBeeil7d5fWYu0PHGgzHjx9tuHgWvTud+/aoFKlSpQqWxZvX18CypdH2SiXbbFY6NS5M+Vq1cK7RAkCqleHmjVdf7IZFAnZFhccoegrA0czvT+W9tk1KKUilFKblFKbztib9juSkSNla7q2bcVtYIuqVcVn3K2bWOo1atjv78wZSdUfPtzVG37mKF9HyTbXir5ePZkBdeggu0jZ2yB3+HBR3DfdBM89Z78/raXt+fN2ffdWq0y2bEXMFgD3vHc9AyNbN8IRit5WOl6W/3yt9RStdSOtdaNy5co5YNgcsFgkg7NtW/EXP/ywWO5btsiC7Gefwa23is/9kUdkK7yZMyWqJDMJCWL1N20q/uaRLnc15ihfR8nWahVjOleJk127iryGDhX5TpokkUxbtshuUZ06iYurTx9YvRrefjvrArnWko380EMSobNokd1IJidlxbrnvesZGNm6EY4IHTkGVMn0/kbATsiLi7FYJDvzhRek7sr48WKZ+/pKzPYXX0iYn1KiZD77TFw+998vPoKLFyUqp0EDObZDh8K4CpfJN32711y7c1u3lhj5336TZKivvpKomfLlpf7N//4nZvjw4eLqqVtXYvCrVpV2GzdKyuuzz0pIZjbrI05S9O5776aRkpLC70uW0HDfPkpdusTlPXuwTJ5M4HVx8zExMfz2/fe03LOHUpcukRgdjf+iRXh17JjPzQUKjNvLtjjhCEW/EaiplAoDjgM9gF4O6NdxlCwpyuTZZ+23efBBee3bB+vWSQhmqVISKVK4vk6XyXfuXHm2de8ua64hIaJcs3sFBChxf7VpY7/jmjXF4h89Wlw96Q/bnj1lV+pcPFmcpOjd9t6Ni4vjyw8/xHf8eB6Lj8ffYkGnppIQG0vUkCHc+/zzJHXpwsX+/fl+0iTqLFzI/YD29kanpnLp7Fmiu3XjphIl8BsyBP+XXoLAQFdegtvKtjhSYEWvtU5WSg0Cfga8gOla690FPrPConZtebkJrpRvhQqSq7Rzpyj8Cxdy3lfazy/nh0HGA6MUwdUfIzg84zu/XM4erFaJhHUk7nrvnj59mn733ssXR45gad+eGz74QAIAtm2jXHg4jX/8kSmffELip58yYNYshvr5kfTaawQNGSJusG3bKB8ezolx4xg9ciT3ffopLRYuxHf5cimB4ALcVbbFFYdk/WitlwBLHNGXISuukq+tKsEJCaJkL1zIyCuz97pwQdZTDx7MeG8ni/8q/v7XPwyyvkqVgr//dk6ylLvdu/Hx8fRq25YfT5zghjFjUAMHZmlToUIF7uvVizcmTODZxER8fX0p0a1blilPeHg4ty9dyrujRnFs/Hge79AB79WrXRZP726yLc54XnqnwaH4+4slnR9rWmuJbrX1QLD3sDhzRpR6epuUlIz+9uxx3HW5K1OnTmVAfDw3PPaYTSWfzovDhvFj6dJsffZZts+dy9BXXoEFC7K0U0rx2uuv03P3blps3cpNM2ZARIQzL8HghhhFb3AaSsn6aokS+YtI1VrWaq1WmDXLfnkcTyE1NZVpn3/O5rNnUcOG2W23b98+SmzeTHCFCtzzwQf0/+EHBq1cifeRIzbbK6UYPmIEb3bsyIwJE1D9+uVYu97gWZjCFwa3RSmpcHzjjRIMlb5JmKeydu1a2iYm4tOoUbYBAF999RVv3HgjlgED8Pbx4fH+/VlbrZps32iHhg0bEl21KpfPnPHo/RQMtjEWvcHgJhw6dIjG5cqh6te33SAuDtas4fV16whISZENXd58k5eTkkhNSJANd9I3urfB7Xfcwb9JSYQdOSIhw4Zig7HoDQY3ISUlBS+wHffeq5dkGAcF2cxEvvpJUJBkePfKGsno5eVFqgzkuJM2FAmMojcY3IQKFSqwPy4ODhzI+mVEhJR5tloZ3q8f0fXqSRKf1coXo0fza716khhotUouiI0F10OHDlHGGXGqBrfHKHqDwU247777mH7uHCnLl8OpU3bb9ezZk/Fnz6KnTUNrzTfTptH2xAmbVnw6R44cIfnPPyllb58Fg0djFL3B4Cb4+/vTvW9foqpUkfIcdmjevDlrQ0JIjI5m+/Tp3PXvv/jVqQP2fPvA5MmTeb9SJSwDBxZWSQRDIWIUvcHgRgwZMoQXT58mITISfv3VZhulFG+9+y4vJSVRLiKCsfHxqHfesdvnkiVLSJg4kTsuXXJ1iW2Dm2AUvcHgRlSqVInxS5fymMVCfNeuJH70EcTHX9NGa03pwEBiUlIonZqKUorUpKQsi7SXL19m6pgx/PXII3wYEIDPL79IESNDscOEVxoMbkbDhg0Zu349L/XvT8dXXuGe11/naIsWxFavztnz5zmyYgVdL15kbI0abO/dm/nTpvHMgw9SrlQpjrduTWypUhw/dIgrq1fTMyWFlHbt8Js8WRISDMUSo+gNBjekVq1ajF+xgiNHjjAtMpIqv//ODdHRlPHzo167dlQYMQJ1++2UBe5+7TX+XLeOZZGR1NyyhVJJSdwUHEzY0KEEvfCClI02FGuKpKJPSnLfDO7ERJfuG24oYiQkSMXP3FKtWjWGjhuXbRulFHc3a8bdzZoV6Nyy23XTULQpcoo+MVE2JW5BxA4AAAv3SURBVFJKSpm7E/HxspeGMaAMtli6VDbh8vNzv3s3KkoeQnPmyM6aBs+iyCl6Hx9o2DDbMONCw9dXKsW2bVvYZ2JwR26+WZJW7eyWWKjUqiUVFtxoKwaDAymQoldKvQX0A9J39X0lrQa107BYxGouDhSGfIsLhSHbmjVh/35njmC4ntS0qCTOn5cpi5eXRCc50fer06OfLl7MGDM1NQ97dDoeR1j0kVrrjxzQj8E2Rr7Ow8jWw9Bas3HjRiZOnMiyWbPwio8nFIgtV44ApfACVO3askfxU085bDeb3bt3M2nSJOZ8/z3aaqUScCkkBD+LBS+lUNWqSVmKvn0hNNQhY+YFE0dvMBg8gosXL9KhQwd69OhBmxIlOB4YSM2yZQm87Tb2rF3L/rJlWQvM69xZtlOrWVMWTgpAYmIiTzzxBG3btqVOaipHS5akTkgIperW5dCWLRyqUIG1wKSOHdFHj0LduvD114643DzhCEU/SCm1Qyk1XSnlhM3eij1Gvs7DyNZDiIuLo3Xr1tx88838/e23PD5rFl4zZkDduqgbbqDJXXdRp04dGjZsyEsLF/JJw4awaJFY9flU9klJSTz00EMkJCRwcNkyBs2bh/e770opirJlqRceTs2aNbnzzjv5ets2XggMhLVr4a23YPp0h15/TuToulFKLQdslbt7FZgEjEKqpI4CPgb62OknAogAqFq1aj5P1/No06YNp2yvLAeTS/ka2drGEbIFI9+iwNChQ6lfvz7jP/4YVaMGfPUVtG8PH354TbuAgAB+mz2bu+66i6azZ9N03jzo3FkqhpYunacx33//fQB+mDkT77vuEgX+n/9kUeK+Pj4s++kn7r77bpo1a0b3n3+GZs2gZUtZnXcFWmuHvIDqwK7ctG3YsKE2ZA+wSedDvka2OZNf2Woj3xwBNgFjgb3ADmAeEKydKNszZ87o4OBgffbsWa3/+1+tW7W6+l3Lli11y5Yt09/IS2sdGRmpe/bsKZ8/+qjWn32WpzETEhJ0hQoV9N69e7Veu1brmjW1TknJdszZs2fr5s2by+fDhmk9fHier/X6eze3rwK5bpRSmVcVugK7CtKf4VqMfJ2Hka1T+RWop7WuD0QDLztzsOnTp/PQQw9RpkwZmDgRnnsux2OefPJJlixZwr///gsDB8pxNjZ0scfcuXOpV68etWvXlmMHDMgxqqZz584cPHiQHTt2wLPPyqwjISHXYxaEgkbdjFFKhSPT38NA/wKfkSEzRr7Ow8jWSWitf8n0dj3Q3ZnjrVy5koiICFHUUVHZ+9y3bYNWrQgBVnl54dWmDZQpI5u6tGiR6xLODaOjaREYKJlvUVFy/IIFAIzbtk0atWol44WHA+Dj40OnTp1YvXo19Z97TsY9cEAWaJ1MgRS91voJR52IIStGvs7DyNZl9AF+dOYAsbGxBAcHyxaJSUlZMtK2bdtGq1at6HTiBG3kAwAuxcdz8MABjh09Kg+JHTtyHV9/KT4eq9XKmTNnJF1/796rFn1cXBxBQUHSMDz8mg1hgoODiYmJkTclS8KlSwW69txS5DJjDQZD4ZPDQjcASqlXgWTge3v9OGKhOygoiIsXL4K3N/j7Q0zM1YXVXpmU7E+VKvFTpUpX3+/cuZPQ0FDKlikDq1dLtEwuLfro6GgCAwOpXLkybNggKcWBgVe/79WrF+E2tnOMiYmhSpUq8ubCBShVKj+XnHfy49gv6MssaOUM+Vx0MbLNmfzKVhv55ki6bIEngT+BEtrJsn3vvfd037595U2nTlp/+WWOx1y8eFEHBwfr48ePa71okdaNG+dpzBkzZuj27dvLmwEDtH777RyPSU5O1lWqVNGbN2/WeutWrW+8UeukpDyNm9971yRMGQwGh6KUag+8BHTWWsfn1L6gPPPMM8yePRur1SoLqxMm5Liw+u2339K2bVsqVaqU6wXczDzyyCNs3ryZAwcOyELslCniNsqGxYsXU7lyZRo0aACTJkH//jILcQFG0RsMBkfzOVAS+FUptU0pNdmZg1WoUIEHH3yQV155BX3//VJvedo0u+1PnjzJ6NGjGTx4MMybJ775Rx/N05j+/v7069ePYcOGkXLrrXDLLTBqlN32sbGxvPbaazLmunUwd66UQ3ARRtEbDAaHorW+WWtdRWsdnvZ61tljjh8/ntWrV/PSyy+TOncuvPGGWNnXWfZHjx6lbdu2REREcM+pU2JVz5+fr5Kib7zxBjExMTz99NNcmT4dZs6Ed96RAmaZOH/+PA888ABNmzalZ2godO0KM2ZARVt5qM7BKHqDwVDkKV26NCtWrGD9+vXc1q0b30VEkDJuHDRoAFOn8tfq1QweMIAWt93GmNtu49XFi2HECPj5Z2jUKF9j+vn5sWjRIuLi4qjdogWf9+hB0uLFUKcOREZyZP16Xh4+nEa1atEnJITJBw6gevaUB0KHDg6WQPaYqBuDweARlC1blpUrV7Jy5UomTpxIvwMHaOftzTMDBtAiNZXPtObToCAs58/DyJHwwAMF9pEHBgYyd+5cNm7cyKRJkwjeuZO7LRb6jBhBu5QU3gPeCwjAcu6c+PK7d8/bFmMOQuk8ZIM5bFClzgBH8nBIWeCsk07HFf3nZ4xqWutyeR3EDWXrijFcIltwS/m6W/8FkW0ssC8/xzoJV/xv5JXaWuuSeT2oUCz6vN4ISqlNWuv8za/coH9XjQHuJ1tXjOEq2YL7ybeo938d+1w4Vo64+NpzhVJqU36OMz56g8Fg8HCMojcYDAYPp6go+ilFvH9XjZEfPOHa3VW2UPSv3ZWydbe/o7udD+TznAplMdZgMBgMrqOoWPQGg8FgyCdFRtErpd5SSh1PS6neppTq6KB+2yul9iml9iulRjqiz+v6P6yU2pl2zvlaMXc2RVW2aWO4tXydJdu0vov0vauUGquU2pu2b+88pVSwnXbOPo9s5aiU8lNK/Zj2fZRSqrqjz+G68aoopVYopf5SSu1WSj1vo00rpdTFTPfVG9l2mp9KaIXxAt4CXnRwn17AAeAmwBfYDtzq4DEOA2ULW36eKNuiIF9nyNZV8nW2bIH7Ae+030cDo119HrmRIzAQmJz2ew/gRyffM6FAg7TfSyK7dF1/Tq2An3LbZ5Gx6J3EncB+rfVBrfUV4L9Al0I+J0/ByNa5FHn5aq1/0Vonp71dD9xYCKeRGzl2Ab5J+3020FqpXO5Qkg+01ie11lvSfo8F/gIqF6TPoqboB6VN86YrpUIc0F9l4Gim98cooEBtoIFflFKb0zZZcFeKomyhaMjX0bIFz7t3+wD29gB05nnkRo5X26Q9mC4CZRx8HjZJcxPdAUTZ+LqpUmq7UmqpUirb/QjdqtaNUmo5YKuk26vAJGAU8kcfBXyM3BwFGtLGZ44OQ2qmtT6hlCqPlG3dq7Ve5eAxcsRDZQtuIN9CkC0UkXs3O9lorRektclpJypn/o1zI0dX3cvXDqpUEDAHGKq1jrnu6y1IuYm4tHWf+UBNe325laLXWrfJTTul1FTgJwcMeQyokun9jcAJB/R7Fa31ibSfp5VS85CpossVvSfKFtxDvoUgWygi925OslFKPQl0AlrrNOezM84jG3Ijx/Q2x5RS3kBp4LyDxreJUsoHUfLfa63nXv99ZsWvtV6ilJqolCqrtbZZm6fIuG6UUqGZ3nYFdjmg241ATaVUmFLKF1loWeiAfgFQSgUqpUqm/44sPjnivB1KUZQtFA35Okm24AH3rsrFTlQuOI/cyHEhsjUiQHfgd3sPJUeQ5v//EvhLa/2JnTYV09cJlFJ3Irr8nL0+3cqiz4ExSqlwZMp0GOhf0A611slKqUHAz8jq+3St9e6C9puJCsC8tL+HNzBTa73Mgf07iqIoWyga8nW4bMFj7t3PAT/EHQOwXmv9rFKqEjBNa93R2edhT45KqXeQ/VkXIkr3W6XUfsSS7+Go8e3QDHgC2KmU2pb22StA1bRznow8cAYopZKBy0CP7B4+JjPWYDAYPJwi47oxGAwGQ/4wit5gMBg8HKPoDQaDwcMxit5gMBg8HKPoDQaDwcMxit5gMBg8HKPoDQaDwcMxit5gMBg8nP8Hf/jg217vfDQAAAAASUVORK5CYII=\\n\",\n",
      "\n",
      "    \"- Upload the newly renamed notebook to the D2L dropbox. \\n\"\n",
      "\n",
      "Moving to working directory\n"
     ]
    },
    {
     "name": "stdout",
     "output_type": "stream",
     "text": [
      "Striping output cells\n"
     ]
    },
    {
     "data": {
      "text/html": [
       "<a href=MTH314_STUDENTMTH314/Example-Midterm-Exam1-20S.ipynb target=\"blank\">MTH314/Example-Midterm-Exam1-20S.ipynb</a>"
      ],
      "text/plain": [
       "<IPython.core.display.HTML object>"
      ]
     },
     "metadata": {},
     "output_type": "display_data"
    },
    {
     "name": "stdout",
     "output_type": "stream",
     "text": [
      "MTH314/Example-Midterm-Exam2-17F-INSTRUCTOR.ipynb\n"
     ]
    },
    {
     "data": {
      "application/javascript": [
       "IPython.notebook.save_notebook()"
      ]
     },
     "metadata": {},
     "output_type": "display_data"
    },
    {
     "name": "stdout",
     "output_type": "stream",
     "text": [
      "Date not found\n",
      "Removing existing student version\n",
      "Finding and replacing mailmerge tags\n",
      "Moving to working directory\n",
      "Striping output cells\n"
     ]
    },
    {
     "data": {
      "text/html": [
       "<a href=MTH314_STUDENTMTH314/Example-Midterm-Exam2-17F.ipynb target=\"blank\">MTH314/Example-Midterm-Exam2-17F.ipynb</a>"
      ],
      "text/plain": [
       "<IPython.core.display.HTML object>"
      ]
     },
     "metadata": {},
     "output_type": "display_data"
    },
    {
     "name": "stdout",
     "output_type": "stream",
     "text": [
      "MTH314/Example-Midterm-Exam2-18F-INSTRUCTOR.ipynb\n"
     ]
    },
    {
     "data": {
      "application/javascript": [
       "IPython.notebook.save_notebook()"
      ]
     },
     "metadata": {},
     "output_type": "display_data"
    },
    {
     "name": "stdout",
     "output_type": "stream",
     "text": [
      "Date not found\n",
      "Removing existing student version\n",
      "Finding and replacing mailmerge tags\n",
      "    \"- Upload the newly renamed notebook to the D2L dropbox. \\n\"\n",
      "\n",
      "Moving to working directory\n",
      "Striping output cells\n"
     ]
    },
    {
     "data": {
      "text/html": [
       "<a href=MTH314_STUDENTMTH314/Example-Midterm-Exam2-18F.ipynb target=\"blank\">MTH314/Example-Midterm-Exam2-18F.ipynb</a>"
      ],
      "text/plain": [
       "<IPython.core.display.HTML object>"
      ]
     },
     "metadata": {},
     "output_type": "display_data"
    },
    {
     "name": "stdout",
     "output_type": "stream",
     "text": [
      "MTH314/Example-Midterm-Exam2-19F-INSTRUCTOR.ipynb\n"
     ]
    },
    {
     "data": {
      "application/javascript": [
       "IPython.notebook.save_notebook()"
      ]
     },
     "metadata": {},
     "output_type": "display_data"
    },
    {
     "name": "stdout",
     "output_type": "stream",
     "text": [
      "Date not found\n",
      "Removing existing student version\n",
      "Finding and replacing mailmerge tags\n",
      "    \"- Upload the newly renamed notebook to the D2L dropbox. \\n\"\n",
      "\n",
      "Moving to working directory\n",
      "Striping output cells\n"
     ]
    },
    {
     "data": {
      "text/html": [
       "<a href=MTH314_STUDENTMTH314/Example-Midterm-Exam2-19F.ipynb target=\"blank\">MTH314/Example-Midterm-Exam2-19F.ipynb</a>"
      ],
      "text/plain": [
       "<IPython.core.display.HTML object>"
      ]
     },
     "metadata": {},
     "output_type": "display_data"
    },
    {
     "name": "stdout",
     "output_type": "stream",
     "text": [
      "MTH314/Example-Midterm-Exam2-19S-INSTRUCTOR.ipynb\n"
     ]
    }
   ],
   "source": [
    "from jupyterinstruct import makestudent\n",
    "from pathlib import Path\n",
    "from traitlets.config import Config\n",
    "import os\n",
    "\n",
    "infolder = 'MTH314'\n",
    "outfolder = f'./{infolder}_STUDENT'\n",
    "p = Path(infolder)\n",
    "outpath = Path(outfolder)\n",
    "\n",
    "from MTH314 import thiscourse\n",
    "tags = thiscourse.tags()\n",
    "\n",
    "outpath.mkdir(exist_ok=True)\n",
    "files = p.glob('*INSTRUCTOR.ipynb')\n",
    "files = sorted(files)\n",
    "\n",
    "toc = []\n",
    "for filename in files:\n",
    "    print(filename)\n",
    "    makestudent.merge(str(filename), str(outpath), tags)"
   ]
  },
  {
   "cell_type": "code",
   "execution_count": null,
   "metadata": {},
   "outputs": [],
   "source": [
    "str(filename)"
   ]
  },
  {
   "cell_type": "code",
   "execution_count": null,
   "metadata": {},
   "outputs": [],
   "source": [
    "print(tags)"
   ]
  },
  {
   "cell_type": "code",
   "execution_count": null,
   "metadata": {},
   "outputs": [],
   "source": []
  }
 ],
 "metadata": {
  "kernelspec": {
   "display_name": "Python 3",
   "language": "python",
   "name": "python3"
  },
  "language_info": {
   "codemirror_mode": {
    "name": "ipython",
    "version": 3
   },
   "file_extension": ".py",
   "mimetype": "text/x-python",
   "name": "python",
   "nbconvert_exporter": "python",
   "pygments_lexer": "ipython3",
   "version": "3.7.6"
  }
 },
 "nbformat": 4,
 "nbformat_minor": 4
}
