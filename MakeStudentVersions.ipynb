{
 "cells": [
  {
   "cell_type": "markdown",
   "metadata": {},
   "source": [
    "Generate student versions from a folder"
   ]
  },
  {
   "cell_type": "code",
   "execution_count": 1,
   "metadata": {},
   "outputs": [],
   "source": [
    "# TODO: Add filter for unwanted files\n"
   ]
  },
  {
   "cell_type": "code",
   "execution_count": null,
   "metadata": {},
   "outputs": [],
   "source": [
    "from jupyterinstruct import makestudent\n",
    "from pathlib import Path\n",
    "from traitlets.config import Config\n",
    "import os\n",
    "\n",
    "infolder = 'MTH314'\n",
    "outfolder = f'./{infolder}_STUDENT'\n",
    "p = Path(infolder)\n",
    "outpath = Path(outfolder)\n",
    "\n",
    "from MTH314 import thiscourse\n",
    "tags = thiscourse.tags()\n",
    "\n",
    "outpath.mkdir(exist_ok=True)\n",
    "files = p.glob('*INSTRUCTOR.ipynb')\n",
    "files = sorted(files)\n",
    "\n",
    "toc = []\n",
    "for filename in files:\n",
    "    print(filename)\n",
    "    makestudent.merge(str(filename), str(outpath), tags)"
   ]
  },
  {
   "cell_type": "code",
   "execution_count": null,
   "metadata": {},
   "outputs": [],
   "source": [
    "str(filename)"
   ]
  },
  {
   "cell_type": "code",
   "execution_count": null,
   "metadata": {},
   "outputs": [],
   "source": [
    "print(tags)"
   ]
  },
  {
   "cell_type": "code",
   "execution_count": null,
   "metadata": {},
   "outputs": [],
   "source": []
  }
 ],
 "metadata": {
  "kernelspec": {
   "display_name": "Python 3",
   "language": "python",
   "name": "python3"
  },
  "language_info": {
   "codemirror_mode": {
    "name": "ipython",
    "version": 3
   },
   "file_extension": ".py",
   "mimetype": "text/x-python",
   "name": "python",
   "nbconvert_exporter": "python",
   "pygments_lexer": "ipython3",
   "version": "3.7.6"
  }
 },
 "nbformat": 4,
 "nbformat_minor": 4
}
